{
 "cells": [
  {
   "cell_type": "markdown",
   "id": "b6092b42-6423-4b4f-81b3-b6ddec64ecf1",
   "metadata": {},
   "source": [
    "# Imports"
   ]
  },
  {
   "cell_type": "code",
   "execution_count": 1,
   "id": "24c94665-4148-40ed-b2a9-516dd3becc7e",
   "metadata": {},
   "outputs": [
    {
     "name": "stderr",
     "output_type": "stream",
     "text": [
      "2024-11-12 21:14:45.360979: I tensorflow/core/util/port.cc:113] oneDNN custom operations are on. You may see slightly different numerical results due to floating-point round-off errors from different computation orders. To turn them off, set the environment variable `TF_ENABLE_ONEDNN_OPTS=0`.\n",
      "2024-11-12 21:14:45.857073: I tensorflow/core/platform/cpu_feature_guard.cc:210] This TensorFlow binary is optimized to use available CPU instructions in performance-critical operations.\n",
      "To enable the following instructions: AVX2 AVX_VNNI FMA, in other operations, rebuild TensorFlow with the appropriate compiler flags.\n",
      "2024-11-12 21:14:46.676940: W tensorflow/compiler/tf2tensorrt/utils/py_utils.cc:38] TF-TRT Warning: Could not find TensorRT\n",
      "/home/dron46/anaconda3/envs/tf/lib/python3.10/site-packages/tqdm/auto.py:21: TqdmWarning: IProgress not found. Please update jupyter and ipywidgets. See https://ipywidgets.readthedocs.io/en/stable/user_install.html\n",
      "  from .autonotebook import tqdm as notebook_tqdm\n"
     ]
    }
   ],
   "source": [
    "import keras\n",
    "import numpy as np\n",
    "import pandas as pd\n",
    "import datasets\n",
    "import transformers\n",
    "import tensorflow as tf\n",
    "import tqdm.notebook as tqdm\n",
    "import matplotlib.pyplot as plt"
   ]
  },
  {
   "cell_type": "code",
   "execution_count": 3,
   "id": "32c8114b-e127-446f-acff-4484767da1b6",
   "metadata": {
    "scrolled": true
   },
   "outputs": [],
   "source": [
    "gpus = tf.config.list_physical_devices('GPU')\n",
    "if gpus:\n",
    "    try:\n",
    "        tf.config.experimental.set_memory_growth(gpus[0], True)\n",
    "    except:\n",
    "        pass"
   ]
  },
  {
   "cell_type": "code",
   "execution_count": 4,
   "id": "6f2bb71b-0083-4f61-85c1-228385e95f4a",
   "metadata": {},
   "outputs": [
    {
     "data": {
      "text/plain": [
       "'2.16.1'"
      ]
     },
     "execution_count": 4,
     "metadata": {},
     "output_type": "execute_result"
    }
   ],
   "source": [
    "tf.__version__"
   ]
  },
  {
   "cell_type": "code",
   "execution_count": 5,
   "id": "6998038d-5065-49d1-a9bd-b3acce5bb514",
   "metadata": {},
   "outputs": [
    {
     "name": "stdout",
     "output_type": "stream",
     "text": [
      "Num GPUs Available:  1\n"
     ]
    }
   ],
   "source": [
    "print(\"Num GPUs Available: \", len(tf.config.experimental.list_physical_devices('GPU')))"
   ]
  },
  {
   "cell_type": "markdown",
   "id": "30c18c6e-1c88-4e6b-8f13-476b78b88a2b",
   "metadata": {},
   "source": [
    "# Dataset"
   ]
  },
  {
   "cell_type": "markdown",
   "id": "87e38ac2-a5e2-4435-8c95-0982e3039768",
   "metadata": {},
   "source": [
    "Get the dataset from [here](https://tatoeba.org/en/downloads). Preferably use russian to english translations."
   ]
  },
  {
   "cell_type": "markdown",
   "id": "a9e09a5d-8537-4ffa-8583-f09c30028b2d",
   "metadata": {},
   "source": [
    "Use a custom tokenizer that can add bos and eos tokens (pass `add_special_tokens=True` when calling the tokenizer to add them)."
   ]
  },
  {
   "cell_type": "code",
   "execution_count": 6,
   "id": "8312a719-f1cd-4982-a2e8-2178a7abe850",
   "metadata": {
    "scrolled": true
   },
   "outputs": [],
   "source": [
    "class Tokenizer(transformers.GPT2Tokenizer):\n",
    "\n",
    "    def build_inputs_with_special_tokens(self, token_ids_0, token_ids_1=None):\n",
    "        if token_ids_1 is None:\n",
    "            return [self.bos_token_id, *token_ids_0, self.eos_token_id]\n",
    "\n",
    "        return [self.bos_token_id, *token_ids_0, self.bos_token_id, *token_ids_1, self.eos_token_id]"
   ]
  },
  {
   "cell_type": "code",
   "execution_count": 7,
   "id": "b187545e-882a-4cd1-8bab-dcec2f33b5a1",
   "metadata": {},
   "outputs": [
    {
     "name": "stderr",
     "output_type": "stream",
     "text": [
      "The tokenizer class you load from this checkpoint is not the same type as the class this function is called from. It may result in unexpected tokenization. \n",
      "The tokenizer class you load from this checkpoint is 'GPT2Tokenizer'. \n",
      "The class this function is called from is 'Tokenizer'.\n"
     ]
    }
   ],
   "source": [
    "tokenizer = Tokenizer.from_pretrained('gpt2')\n",
    "tokenizer.pad_token_id = tokenizer.eos_token_id"
   ]
  },
  {
   "cell_type": "code",
   "execution_count": 8,
   "id": "dda8f29c-813a-4acb-a710-eba50ae1d74b",
   "metadata": {},
   "outputs": [],
   "source": [
    "dataset = pd.read_csv('Пары предложений на русский-английский - 2024-10-13.tsv', sep='\\t',  on_bad_lines='skip', header=None)"
   ]
  },
  {
   "cell_type": "code",
   "execution_count": 9,
   "id": "262cace8-b578-475f-b527-9c77a6bdc5ca",
   "metadata": {},
   "outputs": [
    {
     "data": {
      "text/html": [
       "<div>\n",
       "<style scoped>\n",
       "    .dataframe tbody tr th:only-of-type {\n",
       "        vertical-align: middle;\n",
       "    }\n",
       "\n",
       "    .dataframe tbody tr th {\n",
       "        vertical-align: top;\n",
       "    }\n",
       "\n",
       "    .dataframe thead th {\n",
       "        text-align: right;\n",
       "    }\n",
       "</style>\n",
       "<table border=\"1\" class=\"dataframe\">\n",
       "  <thead>\n",
       "    <tr style=\"text-align: right;\">\n",
       "      <th></th>\n",
       "      <th>0</th>\n",
       "      <th>1</th>\n",
       "      <th>2</th>\n",
       "      <th>3</th>\n",
       "    </tr>\n",
       "  </thead>\n",
       "  <tbody>\n",
       "    <tr>\n",
       "      <th>0</th>\n",
       "      <td>243</td>\n",
       "      <td>Один раз в жизни я делаю хорошее дело... И оно...</td>\n",
       "      <td>3257</td>\n",
       "      <td>For once in my life I'm doing a good deed... A...</td>\n",
       "    </tr>\n",
       "    <tr>\n",
       "      <th>1</th>\n",
       "      <td>5409</td>\n",
       "      <td>Давайте что-нибудь попробуем!</td>\n",
       "      <td>1276</td>\n",
       "      <td>Let's try something.</td>\n",
       "    </tr>\n",
       "    <tr>\n",
       "      <th>2</th>\n",
       "      <td>5410</td>\n",
       "      <td>Мне пора идти спать.</td>\n",
       "      <td>1277</td>\n",
       "      <td>I have to go to sleep.</td>\n",
       "    </tr>\n",
       "    <tr>\n",
       "      <th>3</th>\n",
       "      <td>5411</td>\n",
       "      <td>Что ты делаешь?</td>\n",
       "      <td>16492</td>\n",
       "      <td>What are you doing?</td>\n",
       "    </tr>\n",
       "    <tr>\n",
       "      <th>4</th>\n",
       "      <td>5411</td>\n",
       "      <td>Что ты делаешь?</td>\n",
       "      <td>511884</td>\n",
       "      <td>What do you make?</td>\n",
       "    </tr>\n",
       "    <tr>\n",
       "      <th>...</th>\n",
       "      <td>...</td>\n",
       "      <td>...</td>\n",
       "      <td>...</td>\n",
       "      <td>...</td>\n",
       "    </tr>\n",
       "    <tr>\n",
       "      <th>733441</th>\n",
       "      <td>5803241</td>\n",
       "      <td>Будь здоров.</td>\n",
       "      <td>2111946</td>\n",
       "      <td>Bless you.</td>\n",
       "    </tr>\n",
       "    <tr>\n",
       "      <th>733442</th>\n",
       "      <td>12780354</td>\n",
       "      <td>Будь здорова.</td>\n",
       "      <td>2111946</td>\n",
       "      <td>Bless you.</td>\n",
       "    </tr>\n",
       "    <tr>\n",
       "      <th>733443</th>\n",
       "      <td>12780481</td>\n",
       "      <td>Я хотел бы иметь возможность управлять погодой.</td>\n",
       "      <td>12780477</td>\n",
       "      <td>I wish I could control the weather.</td>\n",
       "    </tr>\n",
       "    <tr>\n",
       "      <th>733444</th>\n",
       "      <td>12780663</td>\n",
       "      <td>Нам нужно купить им подарок.</td>\n",
       "      <td>3917718</td>\n",
       "      <td>We need to buy a gift for them.</td>\n",
       "    </tr>\n",
       "    <tr>\n",
       "      <th>733445</th>\n",
       "      <td>12780664</td>\n",
       "      <td>Том и Мэри что-нибудь помнят?</td>\n",
       "      <td>6519892</td>\n",
       "      <td>Do Tom and Mary remember anything?</td>\n",
       "    </tr>\n",
       "  </tbody>\n",
       "</table>\n",
       "<p>733446 rows × 4 columns</p>\n",
       "</div>"
      ],
      "text/plain": [
       "               0                                                  1         2  \\\n",
       "0            243  Один раз в жизни я делаю хорошее дело... И оно...      3257   \n",
       "1           5409                      Давайте что-нибудь попробуем!      1276   \n",
       "2           5410                               Мне пора идти спать.      1277   \n",
       "3           5411                                    Что ты делаешь?     16492   \n",
       "4           5411                                    Что ты делаешь?    511884   \n",
       "...          ...                                                ...       ...   \n",
       "733441   5803241                                       Будь здоров.   2111946   \n",
       "733442  12780354                                      Будь здорова.   2111946   \n",
       "733443  12780481    Я хотел бы иметь возможность управлять погодой.  12780477   \n",
       "733444  12780663                       Нам нужно купить им подарок.   3917718   \n",
       "733445  12780664                      Том и Мэри что-нибудь помнят?   6519892   \n",
       "\n",
       "                                                        3  \n",
       "0       For once in my life I'm doing a good deed... A...  \n",
       "1                                    Let's try something.  \n",
       "2                                  I have to go to sleep.  \n",
       "3                                     What are you doing?  \n",
       "4                                       What do you make?  \n",
       "...                                                   ...  \n",
       "733441                                         Bless you.  \n",
       "733442                                         Bless you.  \n",
       "733443                I wish I could control the weather.  \n",
       "733444                    We need to buy a gift for them.  \n",
       "733445                 Do Tom and Mary remember anything?  \n",
       "\n",
       "[733446 rows x 4 columns]"
      ]
     },
     "execution_count": 9,
     "metadata": {},
     "output_type": "execute_result"
    }
   ],
   "source": [
    "dataset"
   ]
  },
  {
   "cell_type": "code",
   "execution_count": 10,
   "id": "91b1fe41-3093-4f84-a943-5ef0598dbca5",
   "metadata": {},
   "outputs": [],
   "source": [
    "dataset = dataset.rename(columns={0: 'id_ru', 1: 'text_ru', 2: 'id_en', 3: 'text_en'})"
   ]
  },
  {
   "cell_type": "code",
   "execution_count": 11,
   "id": "6bb9cbfc-e1b6-4740-a62e-bb26d4117774",
   "metadata": {},
   "outputs": [
    {
     "data": {
      "text/html": [
       "<div>\n",
       "<style scoped>\n",
       "    .dataframe tbody tr th:only-of-type {\n",
       "        vertical-align: middle;\n",
       "    }\n",
       "\n",
       "    .dataframe tbody tr th {\n",
       "        vertical-align: top;\n",
       "    }\n",
       "\n",
       "    .dataframe thead th {\n",
       "        text-align: right;\n",
       "    }\n",
       "</style>\n",
       "<table border=\"1\" class=\"dataframe\">\n",
       "  <thead>\n",
       "    <tr style=\"text-align: right;\">\n",
       "      <th></th>\n",
       "      <th>id_ru</th>\n",
       "      <th>text_ru</th>\n",
       "      <th>id_en</th>\n",
       "      <th>text_en</th>\n",
       "    </tr>\n",
       "  </thead>\n",
       "  <tbody>\n",
       "    <tr>\n",
       "      <th>0</th>\n",
       "      <td>243</td>\n",
       "      <td>Один раз в жизни я делаю хорошее дело... И оно...</td>\n",
       "      <td>3257</td>\n",
       "      <td>For once in my life I'm doing a good deed... A...</td>\n",
       "    </tr>\n",
       "    <tr>\n",
       "      <th>1</th>\n",
       "      <td>5409</td>\n",
       "      <td>Давайте что-нибудь попробуем!</td>\n",
       "      <td>1276</td>\n",
       "      <td>Let's try something.</td>\n",
       "    </tr>\n",
       "    <tr>\n",
       "      <th>2</th>\n",
       "      <td>5410</td>\n",
       "      <td>Мне пора идти спать.</td>\n",
       "      <td>1277</td>\n",
       "      <td>I have to go to sleep.</td>\n",
       "    </tr>\n",
       "    <tr>\n",
       "      <th>3</th>\n",
       "      <td>5411</td>\n",
       "      <td>Что ты делаешь?</td>\n",
       "      <td>16492</td>\n",
       "      <td>What are you doing?</td>\n",
       "    </tr>\n",
       "    <tr>\n",
       "      <th>4</th>\n",
       "      <td>5411</td>\n",
       "      <td>Что ты делаешь?</td>\n",
       "      <td>511884</td>\n",
       "      <td>What do you make?</td>\n",
       "    </tr>\n",
       "    <tr>\n",
       "      <th>...</th>\n",
       "      <td>...</td>\n",
       "      <td>...</td>\n",
       "      <td>...</td>\n",
       "      <td>...</td>\n",
       "    </tr>\n",
       "    <tr>\n",
       "      <th>733441</th>\n",
       "      <td>5803241</td>\n",
       "      <td>Будь здоров.</td>\n",
       "      <td>2111946</td>\n",
       "      <td>Bless you.</td>\n",
       "    </tr>\n",
       "    <tr>\n",
       "      <th>733442</th>\n",
       "      <td>12780354</td>\n",
       "      <td>Будь здорова.</td>\n",
       "      <td>2111946</td>\n",
       "      <td>Bless you.</td>\n",
       "    </tr>\n",
       "    <tr>\n",
       "      <th>733443</th>\n",
       "      <td>12780481</td>\n",
       "      <td>Я хотел бы иметь возможность управлять погодой.</td>\n",
       "      <td>12780477</td>\n",
       "      <td>I wish I could control the weather.</td>\n",
       "    </tr>\n",
       "    <tr>\n",
       "      <th>733444</th>\n",
       "      <td>12780663</td>\n",
       "      <td>Нам нужно купить им подарок.</td>\n",
       "      <td>3917718</td>\n",
       "      <td>We need to buy a gift for them.</td>\n",
       "    </tr>\n",
       "    <tr>\n",
       "      <th>733445</th>\n",
       "      <td>12780664</td>\n",
       "      <td>Том и Мэри что-нибудь помнят?</td>\n",
       "      <td>6519892</td>\n",
       "      <td>Do Tom and Mary remember anything?</td>\n",
       "    </tr>\n",
       "  </tbody>\n",
       "</table>\n",
       "<p>733446 rows × 4 columns</p>\n",
       "</div>"
      ],
      "text/plain": [
       "           id_ru                                            text_ru     id_en  \\\n",
       "0            243  Один раз в жизни я делаю хорошее дело... И оно...      3257   \n",
       "1           5409                      Давайте что-нибудь попробуем!      1276   \n",
       "2           5410                               Мне пора идти спать.      1277   \n",
       "3           5411                                    Что ты делаешь?     16492   \n",
       "4           5411                                    Что ты делаешь?    511884   \n",
       "...          ...                                                ...       ...   \n",
       "733441   5803241                                       Будь здоров.   2111946   \n",
       "733442  12780354                                      Будь здорова.   2111946   \n",
       "733443  12780481    Я хотел бы иметь возможность управлять погодой.  12780477   \n",
       "733444  12780663                       Нам нужно купить им подарок.   3917718   \n",
       "733445  12780664                      Том и Мэри что-нибудь помнят?   6519892   \n",
       "\n",
       "                                                  text_en  \n",
       "0       For once in my life I'm doing a good deed... A...  \n",
       "1                                    Let's try something.  \n",
       "2                                  I have to go to sleep.  \n",
       "3                                     What are you doing?  \n",
       "4                                       What do you make?  \n",
       "...                                                   ...  \n",
       "733441                                         Bless you.  \n",
       "733442                                         Bless you.  \n",
       "733443                I wish I could control the weather.  \n",
       "733444                    We need to buy a gift for them.  \n",
       "733445                 Do Tom and Mary remember anything?  \n",
       "\n",
       "[733446 rows x 4 columns]"
      ]
     },
     "execution_count": 11,
     "metadata": {},
     "output_type": "execute_result"
    }
   ],
   "source": [
    "dataset"
   ]
  },
  {
   "cell_type": "code",
   "execution_count": 12,
   "id": "82a0df79-a606-4319-9731-defafcb1e5e3",
   "metadata": {},
   "outputs": [
    {
     "data": {
      "text/plain": [
       "id_ru      0\n",
       "text_ru    0\n",
       "id_en      0\n",
       "text_en    0\n",
       "dtype: int64"
      ]
     },
     "execution_count": 12,
     "metadata": {},
     "output_type": "execute_result"
    }
   ],
   "source": [
    "dataset.isna().sum()"
   ]
  },
  {
   "cell_type": "code",
   "execution_count": 23,
   "id": "60b8ecc2-7789-42e7-b6df-9bab38d79fc9",
   "metadata": {},
   "outputs": [
    {
     "data": {
      "text/plain": [
       "837"
      ]
     },
     "execution_count": 23,
     "metadata": {},
     "output_type": "execute_result"
    }
   ],
   "source": [
    "dataset['text_ru'].apply(lambda x: len(x)).max()"
   ]
  },
  {
   "cell_type": "code",
   "execution_count": 12,
   "id": "07c46cc1-775a-4554-a273-0e3a1cee5335",
   "metadata": {},
   "outputs": [
    {
     "data": {
      "text/plain": [
       "608846"
      ]
     },
     "execution_count": 12,
     "metadata": {},
     "output_type": "execute_result"
    }
   ],
   "source": [
    "dataset['text_ru'].apply(lambda x: len(x)).idxmax()"
   ]
  },
  {
   "cell_type": "code",
   "execution_count": 10,
   "id": "388e6686-e75c-493f-9ec9-131030eb6d10",
   "metadata": {},
   "outputs": [
    {
     "data": {
      "text/plain": [
       "'I am a Jew. Hath not a Jew eyes? Hath not a Jew hands, organs, dimensions, senses, affections, passions? Fed with the same food, hurt with the same weapons, subject to the same diseases, healed by the same means, warmed and cooled by the same winter and summer, as a Christian is? If you prick us, do we not bleed? If you tickle us, do we not laugh? If you poison us, do we not die? And if you wrong us, shall we not revenge? If we are like you in the rest, we will resemble you in that. If a Jew wrong a Christian, what is his humility? Revenge. If a Christian wrong a Jew, what should his sufferance be by Christian example? Why, revenge. The villainy you teach me, I will execute, and it shall go hard but I will better the instruction.'"
      ]
     },
     "execution_count": 10,
     "metadata": {},
     "output_type": "execute_result"
    }
   ],
   "source": [
    "dataset.iloc[608846, 3]"
   ]
  },
  {
   "cell_type": "code",
   "execution_count": 15,
   "id": "0f3b03b7-cf44-4f11-83e9-65267e7c05a0",
   "metadata": {},
   "outputs": [
    {
     "data": {
      "text/plain": [
       "28.0"
      ]
     },
     "execution_count": 15,
     "metadata": {},
     "output_type": "execute_result"
    }
   ],
   "source": [
    "dataset['text_ru'].apply(lambda x: len(x)).median()"
   ]
  },
  {
   "cell_type": "code",
   "execution_count": 18,
   "id": "7b6ec342-1f5e-494f-a9c2-8c00b082d2ae",
   "metadata": {},
   "outputs": [
    {
     "data": {
      "text/plain": [
       "453"
      ]
     },
     "execution_count": 18,
     "metadata": {},
     "output_type": "execute_result"
    }
   ],
   "source": [
    "(dataset['text_ru'].apply(lambda x: len(x)) > 200).sum()"
   ]
  },
  {
   "cell_type": "code",
   "execution_count": 16,
   "id": "161e41ce-8f9d-4688-86ad-dec844b46c40",
   "metadata": {},
   "outputs": [
    {
     "data": {
      "text/plain": [
       "<Axes: >"
      ]
     },
     "execution_count": 16,
     "metadata": {},
     "output_type": "execute_result"
    },
    {
     "data": {
      "image/png": "[encoded data removed]",
      "text/plain": [
       "<Figure size 800x800 with 1 Axes>"
      ]
     },
     "metadata": {},
     "output_type": "display_data"
    }
   ],
   "source": [
    "dataset['text_ru'].apply(lambda x: len(x)).hist(figsize=(8,8))"
   ]
  },
  {
   "cell_type": "markdown",
   "id": "d79b98ad-0308-4cb3-b96e-a1a0069be7a9",
   "metadata": {},
   "source": [
    "---\n",
    "Обрезаю очень длинные текста"
   ]
  },
  {
   "cell_type": "code",
   "execution_count": 12,
   "id": "2792baa1-9651-4d92-9171-b7fe78260994",
   "metadata": {},
   "outputs": [],
   "source": [
    "dataset2 = dataset[dataset['text_ru'].apply(lambda x: len(x)) <= 200]"
   ]
  },
  {
   "cell_type": "code",
   "execution_count": 13,
   "id": "a4dffd60-f154-449b-8e9a-df2f36d86a99",
   "metadata": {},
   "outputs": [
    {
     "data": {
      "text/html": [
       "<div>\n",
       "<style scoped>\n",
       "    .dataframe tbody tr th:only-of-type {\n",
       "        vertical-align: middle;\n",
       "    }\n",
       "\n",
       "    .dataframe tbody tr th {\n",
       "        vertical-align: top;\n",
       "    }\n",
       "\n",
       "    .dataframe thead th {\n",
       "        text-align: right;\n",
       "    }\n",
       "</style>\n",
       "<table border=\"1\" class=\"dataframe\">\n",
       "  <thead>\n",
       "    <tr style=\"text-align: right;\">\n",
       "      <th></th>\n",
       "      <th>id_ru</th>\n",
       "      <th>text_ru</th>\n",
       "      <th>id_en</th>\n",
       "      <th>text_en</th>\n",
       "    </tr>\n",
       "  </thead>\n",
       "  <tbody>\n",
       "    <tr>\n",
       "      <th>1633</th>\n",
       "      <td>400671</td>\n",
       "      <td>На душе становится тепло, когда ты слышишь в п...</td>\n",
       "      <td>400674</td>\n",
       "      <td>It warms your heart to, when listening to a so...</td>\n",
       "    </tr>\n",
       "    <tr>\n",
       "      <th>1634</th>\n",
       "      <td>400671</td>\n",
       "      <td>На душе становится тепло, когда ты слышишь в п...</td>\n",
       "      <td>494506</td>\n",
       "      <td>It warms your heart when, while listening to a...</td>\n",
       "    </tr>\n",
       "    <tr>\n",
       "      <th>1635</th>\n",
       "      <td>400671</td>\n",
       "      <td>На душе становится тепло, когда ты слышишь в п...</td>\n",
       "      <td>495180</td>\n",
       "      <td>While listening to songs in a what is supposed...</td>\n",
       "    </tr>\n",
       "    <tr>\n",
       "      <th>1686</th>\n",
       "      <td>402065</td>\n",
       "      <td>В Китае используется большое количество иерогл...</td>\n",
       "      <td>401970</td>\n",
       "      <td>In China, there is a large number of character...</td>\n",
       "    </tr>\n",
       "    <tr>\n",
       "      <th>12169</th>\n",
       "      <td>510907</td>\n",
       "      <td>Дом птицы - лес, дом рыбы - река, дом пчелы - ...</td>\n",
       "      <td>485186</td>\n",
       "      <td>The birds' home is in the forest, the fish's h...</td>\n",
       "    </tr>\n",
       "    <tr>\n",
       "      <th>...</th>\n",
       "      <td>...</td>\n",
       "      <td>...</td>\n",
       "      <td>...</td>\n",
       "      <td>...</td>\n",
       "    </tr>\n",
       "    <tr>\n",
       "      <th>667027</th>\n",
       "      <td>11715247</td>\n",
       "      <td>В матче за звание чемпиона мира ФИДЕ 2023 по ш...</td>\n",
       "      <td>11715230</td>\n",
       "      <td>The match for the FIDE 2023 World Chess Champi...</td>\n",
       "    </tr>\n",
       "    <tr>\n",
       "      <th>706703</th>\n",
       "      <td>12333670</td>\n",
       "      <td>В этом мире нет ничего прекраснее, чем слышать...</td>\n",
       "      <td>12333611</td>\n",
       "      <td>In this world, nothing is more beautiful than ...</td>\n",
       "    </tr>\n",
       "    <tr>\n",
       "      <th>706732</th>\n",
       "      <td>12334059</td>\n",
       "      <td>Галилео Галилей был итальянским астрономом и в...</td>\n",
       "      <td>4310535</td>\n",
       "      <td>Galileo Galilei was an Italian astronomer and ...</td>\n",
       "    </tr>\n",
       "    <tr>\n",
       "      <th>706737</th>\n",
       "      <td>12334074</td>\n",
       "      <td>Дерзость Цезаря была началом выдающейся военно...</td>\n",
       "      <td>4277919</td>\n",
       "      <td>Caesar’s audacity was the beginning of a very ...</td>\n",
       "    </tr>\n",
       "    <tr>\n",
       "      <th>712988</th>\n",
       "      <td>12408798</td>\n",
       "      <td>Если вы хотите избавиться от скучного собеседн...</td>\n",
       "      <td>3605474</td>\n",
       "      <td>If you want to get rid of a boring companion a...</td>\n",
       "    </tr>\n",
       "  </tbody>\n",
       "</table>\n",
       "<p>72 rows × 4 columns</p>\n",
       "</div>"
      ],
      "text/plain": [
       "           id_ru                                            text_ru     id_en  \\\n",
       "1633      400671  На душе становится тепло, когда ты слышишь в п...    400674   \n",
       "1634      400671  На душе становится тепло, когда ты слышишь в п...    494506   \n",
       "1635      400671  На душе становится тепло, когда ты слышишь в п...    495180   \n",
       "1686      402065  В Китае используется большое количество иерогл...    401970   \n",
       "12169     510907  Дом птицы - лес, дом рыбы - река, дом пчелы - ...    485186   \n",
       "...          ...                                                ...       ...   \n",
       "667027  11715247  В матче за звание чемпиона мира ФИДЕ 2023 по ш...  11715230   \n",
       "706703  12333670  В этом мире нет ничего прекраснее, чем слышать...  12333611   \n",
       "706732  12334059  Галилео Галилей был итальянским астрономом и в...   4310535   \n",
       "706737  12334074  Дерзость Цезаря была началом выдающейся военно...   4277919   \n",
       "712988  12408798  Если вы хотите избавиться от скучного собеседн...   3605474   \n",
       "\n",
       "                                                  text_en  \n",
       "1633    It warms your heart to, when listening to a so...  \n",
       "1634    It warms your heart when, while listening to a...  \n",
       "1635    While listening to songs in a what is supposed...  \n",
       "1686    In China, there is a large number of character...  \n",
       "12169   The birds' home is in the forest, the fish's h...  \n",
       "...                                                   ...  \n",
       "667027  The match for the FIDE 2023 World Chess Champi...  \n",
       "706703  In this world, nothing is more beautiful than ...  \n",
       "706732  Galileo Galilei was an Italian astronomer and ...  \n",
       "706737  Caesar’s audacity was the beginning of a very ...  \n",
       "712988  If you want to get rid of a boring companion a...  \n",
       "\n",
       "[72 rows x 4 columns]"
      ]
     },
     "execution_count": 13,
     "metadata": {},
     "output_type": "execute_result"
    }
   ],
   "source": [
    "dataset2[dataset2['text_en'].apply(lambda x: len(x)) > 200]"
   ]
  },
  {
   "cell_type": "code",
   "execution_count": 27,
   "id": "48dba7e8-0d5f-474a-afd3-0ceee6aee728",
   "metadata": {},
   "outputs": [
    {
     "data": {
      "text/plain": [
       "('На душе становится тепло, когда ты слышишь в песне на (казалось бы!) чужом языке: словацком, македонском, словенском, — знакомые с детства слова и даже понимаешь целые фразы.',\n",
       " 'It warms your heart to, when listening to a song in a (seemingly!) foreign language like Slovak, Macedonian, Slovenian, hear words you have known since your childhood and even understand whole phrases.')"
      ]
     },
     "execution_count": 27,
     "metadata": {},
     "output_type": "execute_result"
    }
   ],
   "source": [
    "dataset2.loc[1633, 'text_ru'], dataset2.loc[1633, 'text_en'],"
   ]
  },
  {
   "cell_type": "code",
   "execution_count": 67,
   "id": "9a5a127b-8f30-448d-9015-2c6a45234b56",
   "metadata": {
    "scrolled": true
   },
   "outputs": [],
   "source": [
    "a = tokenizer(list(dataset2['text_ru']), add_special_tokens=False)['input_ids']"
   ]
  },
  {
   "cell_type": "code",
   "execution_count": 68,
   "id": "f6e986c0-337b-41b1-97ee-06c088dc4c6e",
   "metadata": {
    "scrolled": true
   },
   "outputs": [
    {
     "data": {
      "text/plain": [
       "32.0"
      ]
     },
     "execution_count": 68,
     "metadata": {},
     "output_type": "execute_result"
    }
   ],
   "source": [
    "np.median(list(map(len, a)))"
   ]
  },
  {
   "cell_type": "code",
   "execution_count": 69,
   "id": "3d9204e1-b50c-4457-b861-137518b64114",
   "metadata": {},
   "outputs": [
    {
     "data": {
      "image/png": "[encoded data removed]",
      "text/plain": [
       "<Figure size 640x480 with 1 Axes>"
      ]
     },
     "metadata": {},
     "output_type": "display_data"
    }
   ],
   "source": [
    "plt.hist(list(map(len, a)))\n",
    "plt.show()"
   ]
  },
  {
   "cell_type": "code",
   "execution_count": 74,
   "id": "dbdbd320-ce4c-4bc8-857c-968eeafd8f33",
   "metadata": {},
   "outputs": [
    {
     "data": {
      "text/plain": [
       "29.0"
      ]
     },
     "execution_count": 74,
     "metadata": {},
     "output_type": "execute_result"
    }
   ],
   "source": [
    "dataset2['text_en'].apply(lambda x: len(x)).median()"
   ]
  },
  {
   "cell_type": "code",
   "execution_count": 75,
   "id": "0daf10cd-040e-4a9b-855a-51ef379ce40c",
   "metadata": {},
   "outputs": [
    {
     "data": {
      "text/plain": [
       "72"
      ]
     },
     "execution_count": 75,
     "metadata": {},
     "output_type": "execute_result"
    }
   ],
   "source": [
    "(dataset2['text_en'].apply(lambda x: len(x)) > 200).sum()"
   ]
  },
  {
   "cell_type": "code",
   "execution_count": 76,
   "id": "67b2dcd2-20fa-4918-9d7c-7c40ca34035e",
   "metadata": {},
   "outputs": [
    {
     "data": {
      "text/plain": [
       "<Axes: >"
      ]
     },
     "execution_count": 76,
     "metadata": {},
     "output_type": "execute_result"
    },
    {
     "data": {
      "image/png": "[encoded data removed]",
      "text/plain": [
       "<Figure size 800x800 with 1 Axes>"
      ]
     },
     "metadata": {},
     "output_type": "display_data"
    }
   ],
   "source": [
    "dataset2['text_en'].apply(lambda x: len(x)).hist(figsize=(8,8))"
   ]
  },
  {
   "cell_type": "code",
   "execution_count": 60,
   "id": "98e24771-396f-4eab-aed2-1109897bf0f4",
   "metadata": {
    "scrolled": true
   },
   "outputs": [],
   "source": [
    "b = tokenizer(list(dataset2['text_en']), add_special_tokens=True)['input_ids']"
   ]
  },
  {
   "cell_type": "code",
   "execution_count": 77,
   "id": "126bc107-d8fc-4702-a939-229407d360b4",
   "metadata": {
    "scrolled": true
   },
   "outputs": [
    {
     "data": {
      "text/plain": [
       "9.0"
      ]
     },
     "execution_count": 77,
     "metadata": {},
     "output_type": "execute_result"
    }
   ],
   "source": [
    "np.median(list(map(len, b)))"
   ]
  },
  {
   "cell_type": "code",
   "execution_count": 78,
   "id": "7dd7f67f-8642-455c-ac97-484bb47edc71",
   "metadata": {},
   "outputs": [
    {
     "data": {
      "image/png": "[encoded data removed]",
      "text/plain": [
       "<Figure size 640x480 with 1 Axes>"
      ]
     },
     "metadata": {},
     "output_type": "display_data"
    }
   ],
   "source": [
    "plt.hist(list(map(len, b)))\n",
    "plt.show()"
   ]
  },
  {
   "cell_type": "markdown",
   "id": "e5f4f399-308a-457b-a3ce-a8ede414603e",
   "metadata": {},
   "source": [
    "Since the dataset is rather large, you can omit the validation dataset and just use a set of test sentences after the training."
   ]
  },
  {
   "cell_type": "markdown",
   "id": "bff78613-15ce-4695-aced-4379ec067765",
   "metadata": {},
   "source": [
    "Create a dataset that returns the following\n",
    "* A pair of tensors `((None, L), (None, P))` -- input sequence of tokens and output sequence of tokens to be fed into decoder (this should start with the BOS token)\n",
    "* A tensor `(None, P)` -- output sequence of tokens to be predicted (this should end with EOS token)\n",
    "* A tensor `(None, P)` -- a masking tensor marking padded tokens with 0"
   ]
  },
  {
   "cell_type": "code",
   "execution_count": 13,
   "id": "638dd066-e806-4823-8135-e8d15e58be9e",
   "metadata": {},
   "outputs": [],
   "source": [
    "token_ru = tokenizer(list(dataset2['text_ru']), truncation=True, padding='max_length', max_length=32, return_tensors='np', add_special_tokens=False)['input_ids'].astype(np.int32)\n",
    "token_en = tokenizer(list(dataset2['text_en']), truncation=True, padding='max_length', max_length=16, return_tensors='np', add_special_tokens=True)['input_ids'].astype(np.int32)"
   ]
  },
  {
   "cell_type": "code",
   "execution_count": 14,
   "id": "443d0968-284c-4046-89bf-77515b42de0a",
   "metadata": {},
   "outputs": [],
   "source": [
    "def get_dataset_split(\n",
    "    tokens_ru: np.ndarray[np.ndarray[int]],\n",
    "    tokens_en: np.ndarray[np.ndarray[int]],\n",
    "    shuffle: bool = True,\n",
    "    seed: int | None = 747,\n",
    "    subset: str | None = None,\n",
    "    test_split: float | None = None,\n",
    "    batch_size: int = 64\n",
    "):\n",
    "\n",
    "    if (subset is not None) != (test_split is not None):\n",
    "        raise ValueError(\"If 'subset' is set, 'test_split' must be set, and inversely.\")\n",
    "\n",
    "    if subset not in {\"train\", \"test\", None}:\n",
    "        raise ValueError(\n",
    "            '`subset` must be either \"train\", \"test\" 'f\"received: {subset}\"\n",
    "        )\n",
    "\n",
    "    if shuffle:\n",
    "        rng = np.random.default_rng(seed)\n",
    "        idx = rng.choice(len(tokens_ru), size=len(tokens_ru), replace=False)\n",
    "        tokens_ru = tokens_ru[idx]\n",
    "        tokens_en = tokens_en[idx]\n",
    "\n",
    "    if test_split is not None:  \n",
    "        num_samples = int((1 - test_split) * len(tokens_ru))\n",
    "        \n",
    "        if subset == 'train':\n",
    "            tokens_ru, tokens_en = tokens_ru[:num_samples], tokens_en[:num_samples]\n",
    "        elif subset == 'test':\n",
    "            tokens_ru, tokens_en = tokens_ru[num_samples:], tokens_en[num_samples:]\n",
    "\n",
    "    tokens_ru_dataset = tf.data.Dataset.from_tensor_slices(tokens_ru)\n",
    "    tokens_en_dataset = tf.data.Dataset.from_tensor_slices(tokens_en)\n",
    "    \n",
    "    output_tokens_en = tokens_en_dataset.map(lambda x: x[1:])\n",
    "    input_tokens_en = tokens_en_dataset.map(lambda x: x[:-1])\n",
    "    \n",
    "    tokens_en_range = tf.range(input_tokens_en.element_spec.shape[0])\n",
    "    mask_tokens_en = output_tokens_en.map(\n",
    "        lambda x: tf.cast(\n",
    "            tokens_en_range <= tf.math.reduce_sum(\n",
    "                tf.cast(\n",
    "                    x != tokenizer.pad_token_id,\n",
    "                    tf.int32\n",
    "                )\n",
    "            ),\n",
    "            tf.float32\n",
    "        )\n",
    "    )\n",
    "    \n",
    "    dataset = tf.data.Dataset.zip((\n",
    "        tf.data.Dataset.zip((tokens_ru_dataset, input_tokens_en)),\n",
    "        output_tokens_en,\n",
    "        mask_tokens_en\n",
    "    )).batch(batch_size)\n",
    "    \n",
    "    return dataset"
   ]
  },
  {
   "cell_type": "code",
   "execution_count": 15,
   "id": "b8778d77-7902-4be9-8966-4e50aac15590",
   "metadata": {},
   "outputs": [
    {
     "name": "stderr",
     "output_type": "stream",
     "text": [
      "2024-11-12 21:17:38.251856: I external/local_xla/xla/stream_executor/cuda/cuda_executor.cc:984] could not open file to read NUMA node: /sys/bus/pci/devices/0000:01:00.0/numa_node\n",
      "Your kernel may have been built without NUMA support.\n",
      "2024-11-12 21:17:38.252010: I external/local_xla/xla/stream_executor/cuda/cuda_executor.cc:984] could not open file to read NUMA node: /sys/bus/pci/devices/0000:01:00.0/numa_node\n",
      "Your kernel may have been built without NUMA support.\n",
      "2024-11-12 21:17:38.252040: I external/local_xla/xla/stream_executor/cuda/cuda_executor.cc:984] could not open file to read NUMA node: /sys/bus/pci/devices/0000:01:00.0/numa_node\n",
      "Your kernel may have been built without NUMA support.\n",
      "2024-11-12 21:17:38.252540: I external/local_xla/xla/stream_executor/cuda/cuda_executor.cc:984] could not open file to read NUMA node: /sys/bus/pci/devices/0000:01:00.0/numa_node\n",
      "Your kernel may have been built without NUMA support.\n",
      "2024-11-12 21:17:38.252569: I tensorflow/core/common_runtime/gpu/gpu_device.cc:2019] Could not identify NUMA node of platform GPU id 0, defaulting to 0.  Your kernel may not have been built with NUMA support.\n",
      "2024-11-12 21:17:38.252625: I external/local_xla/xla/stream_executor/cuda/cuda_executor.cc:984] could not open file to read NUMA node: /sys/bus/pci/devices/0000:01:00.0/numa_node\n",
      "Your kernel may have been built without NUMA support.\n",
      "2024-11-12 21:17:38.252642: I tensorflow/core/common_runtime/gpu/gpu_device.cc:1928] Created device /job:localhost/replica:0/task:0/device:GPU:0 with 5563 MB memory:  -> device: 0, name: NVIDIA GeForce RTX 4060 Laptop GPU, pci bus id: 0000:01:00.0, compute capability: 8.9\n"
     ]
    }
   ],
   "source": [
    "train_dataset = get_dataset_split(token_ru, token_en, shuffle=True, seed=747, subset='train', test_split=0.3, batch_size=256)"
   ]
  },
  {
   "cell_type": "code",
   "execution_count": 16,
   "id": "7f3e50c8-51ed-44f9-917b-28c2f33bffa0",
   "metadata": {},
   "outputs": [
    {
     "data": {
      "text/plain": [
       "<_BatchDataset element_spec=((TensorSpec(shape=(None, 32), dtype=tf.int32, name=None), TensorSpec(shape=(None, 15), dtype=tf.int32, name=None)), TensorSpec(shape=(None, 15), dtype=tf.int32, name=None), TensorSpec(shape=(None, 15), dtype=tf.float32, name=None))>"
      ]
     },
     "execution_count": 16,
     "metadata": {},
     "output_type": "execute_result"
    }
   ],
   "source": [
    "train_dataset"
   ]
  },
  {
   "cell_type": "code",
   "execution_count": 17,
   "id": "19963b19-636c-4d93-8608-d586b530b0ae",
   "metadata": {},
   "outputs": [],
   "source": [
    "inputs, out, msk = next(iter(train_dataset))"
   ]
  },
  {
   "cell_type": "code",
   "execution_count": 18,
   "id": "ef33912c-8b51-476e-89f4-fa841ffa2328",
   "metadata": {
    "scrolled": true
   },
   "outputs": [
    {
     "data": {
      "text/plain": [
       "(<tf.Tensor: shape=(256, 32), dtype=int32, numpy=\n",
       " array([[  140,   252, 22177, ..., 50256, 50256, 50256],\n",
       "        [  140,   253, 21169, ...,   220, 21727, 20375],\n",
       "        [  140,    94, 43666, ..., 50256, 50256, 50256],\n",
       "        ...,\n",
       "        [  140,   253, 15166, ..., 50256, 50256, 50256],\n",
       "        [  140,   251, 16843, ..., 16142, 20375, 16843],\n",
       "        [  140,    95, 45035, ..., 50256, 50256, 50256]], dtype=int32)>,\n",
       " <tf.Tensor: shape=(256, 15), dtype=int32, numpy=\n",
       " array([[50256,  1544, 21893, ..., 50256, 50256, 50256],\n",
       "        [50256,  5703,  2666, ..., 50256, 50256, 50256],\n",
       "        [50256,  1858,   338, ..., 50256, 50256, 50256],\n",
       "        ...,\n",
       "        [50256,  2504,   338, ..., 50256, 50256, 50256],\n",
       "        [50256,  4366,  1402, ..., 50256, 50256, 50256],\n",
       "        [50256, 11633,    77, ..., 50256, 50256, 50256]], dtype=int32)>)"
      ]
     },
     "execution_count": 18,
     "metadata": {},
     "output_type": "execute_result"
    }
   ],
   "source": [
    "inputs"
   ]
  },
  {
   "cell_type": "code",
   "execution_count": 19,
   "id": "98241b19-d6c3-4b53-a409-67dd570a57c5",
   "metadata": {
    "scrolled": true
   },
   "outputs": [
    {
     "data": {
      "text/plain": [
       "(<tf.Tensor: shape=(256, 15), dtype=int32, numpy=\n",
       " array([[ 1544, 21893,   757, ..., 50256, 50256, 50256],\n",
       "        [ 5703,  2666,   340, ..., 50256, 50256, 50256],\n",
       "        [ 1858,   338,   645, ..., 50256, 50256, 50256],\n",
       "        ...,\n",
       "        [ 2504,   338,  1521, ..., 50256, 50256, 50256],\n",
       "        [ 4366,  1402, 17038, ..., 50256, 50256, 50256],\n",
       "        [11633,    77,   470, ..., 50256, 50256, 50256]], dtype=int32)>,\n",
       " <tf.Tensor: shape=(256, 15), dtype=float32, numpy=\n",
       " array([[1., 1., 1., ..., 0., 0., 0.],\n",
       "        [1., 1., 1., ..., 0., 0., 0.],\n",
       "        [1., 1., 1., ..., 0., 0., 0.],\n",
       "        ...,\n",
       "        [1., 1., 1., ..., 0., 0., 0.],\n",
       "        [1., 1., 1., ..., 0., 0., 0.],\n",
       "        [1., 1., 1., ..., 0., 0., 0.]], dtype=float32)>)"
      ]
     },
     "execution_count": 19,
     "metadata": {},
     "output_type": "execute_result"
    }
   ],
   "source": [
    "out, msk"
   ]
  },
  {
   "cell_type": "code",
   "execution_count": 20,
   "id": "ac98d6cb-bcc5-4fdd-81c1-0a95df64a17a",
   "metadata": {},
   "outputs": [
    {
     "data": {
      "text/plain": [
       "<tf.Tensor: shape=(15,), dtype=int32, numpy=\n",
       "array([ 1544, 21893,   757,    13, 50256,     0,     0,     0,     0,\n",
       "           0,     0,     0,     0,     0,     0], dtype=int32)>"
      ]
     },
     "execution_count": 20,
     "metadata": {},
     "output_type": "execute_result"
    }
   ],
   "source": [
    "out[0] * tf.cast(msk[0], tf.int32)"
   ]
  },
  {
   "cell_type": "code",
   "execution_count": 21,
   "id": "d08d83d8-3f8c-4b9a-a650-89aeee8c42a7",
   "metadata": {},
   "outputs": [],
   "source": [
    "test_dataset = get_dataset_split(token_ru, token_en, shuffle=True, seed=747, subset='test', test_split=0.3, batch_size=256)"
   ]
  },
  {
   "cell_type": "markdown",
   "id": "ff24dcac-c9f8-4d56-b584-5208c423f196",
   "metadata": {},
   "source": [
    "# Model"
   ]
  },
  {
   "cell_type": "markdown",
   "id": "c219a81a-59ea-4b56-96da-caa0e24c3db5",
   "metadata": {},
   "source": [
    "Create a model for training. The model should have two inputs: input sequence `(None, L)` and output sequence`(None, P)`. The model output is a single tensor `(None, P)` logits (or probabilities) of the next token predicted for each input one."
   ]
  },
  {
   "cell_type": "code",
   "execution_count": 24,
   "id": "4385d383-0d18-4f4d-bb32-82256189a8d9",
   "metadata": {},
   "outputs": [],
   "source": [
    "def get_name(prefix: str | None = None, suffix: str | None = None, separator: str = '_') -> str | None:\n",
    "    return prefix and prefix + separator + suffix or suffix or None"
   ]
  },
  {
   "cell_type": "markdown",
   "id": "ccaf444d-10f3-497d-8cc5-22a86835f433",
   "metadata": {},
   "source": [
    "Try to add attention to your model (for example [additive attention](https://keras.io/api/layers/attention_layers/additive_attention/)), does it perform better?"
   ]
  },
  {
   "cell_type": "code",
   "execution_count": 113,
   "id": "37bfe4c6-32b9-4c2e-95f1-b28af0f329a1",
   "metadata": {},
   "outputs": [],
   "source": [
    "def get_model(\n",
    "    units: int,\n",
    "    n_tokens: int,\n",
    "    n_labels: int,\n",
    "    n_stacks: int = 1,\n",
    "    bidirectional: bool = False,\n",
    "    name: str | None = None,\n",
    "    cell_type: type[tf.keras.layers.Layer] = tf.keras.layers.LSTMCell,\n",
    "    attention_flg = False\n",
    ") -> tf.keras.Model:\n",
    "    '''Creates a model with RNN architecture for sequence to sequence classification.\n",
    "\n",
    "    Arguments:\n",
    "        units: dimensionality of RNN cells\n",
    "        n_tokens: number of tokens in the tokenizer dictionary\n",
    "        n_labels: number of labels to be predicted\n",
    "        n_stacks: number of RNN cells in the stack (1 -- no stacking)\n",
    "        bidirectional: whether or not the model is bidirectional\n",
    "        name: the model name\n",
    "        cell_type: type of a cell to use, either keras.layers.LSTMCell or keras.layers.GRUCell\n",
    "\n",
    "    Returns:\n",
    "        The model'''\n",
    "\n",
    "    inputs_encoder = tf.keras.layers.Input((None, ), dtype=tf.int32, name=get_name(name, 'input_encoder'))\n",
    "    embedding = tf.keras.layers.Embedding(n_tokens, units, name=get_name(name, 'embedding_encoder'))(inputs_encoder)\n",
    "    \n",
    "    if bidirectional:\n",
    "        rnn_layer, *s = tf.keras.layers.Bidirectional(\n",
    "            tf.keras.layers.RNN(\n",
    "                [cell_type(units) for _ in range(n_stacks)],\n",
    "                return_sequences=True,\n",
    "                return_state=True,\n",
    "                name=get_name(name, 'rnn_encoder')\n",
    "            ), name=get_name(name, 'bidirectional')\n",
    "        )(embedding)\n",
    "\n",
    "        if cell_type == tf.keras.layers.LSTMCell:\n",
    "                forward_states = s[:n_stacks]\n",
    "                backward_states = s[n_stacks:]\n",
    "                \n",
    "                initial_state = [\n",
    "                    [\n",
    "                        tf.keras.layers.Concatenate(axis=-1)([forward[0], backward[0]]),\n",
    "                        tf.keras.layers.Concatenate(axis=-1)([forward[1], backward[1]])\n",
    "                    ]\n",
    "                    for forward, backward in zip(forward_states, backward_states)\n",
    "                ]\n",
    "        else:\n",
    "            forward_states = s[:n_stacks]\n",
    "            backward_states = s[n_stacks:]\n",
    "                \n",
    "            initial_state = [tf.keras.layers.Concatenate(axis=-1)([forward, backward]) for forward, backward in zip(forward_states, backward_states)]\n",
    "\n",
    "        # if cell_type == tf.keras.layers.LSTMCell:\n",
    "        #     s = [el for elem in s for el in (elem if isinstance(elem, list) else [elem])]\n",
    "        #     forward_end = s[len(s)//2 - 2: len(s)//2]\n",
    "        #     backword_end = s[len(s) - 2:]\n",
    "\n",
    "        #     initial_state = [tf.keras.layers.Concatenate(axis=-1)([forward_end[0], backword_end[0]]),\n",
    "        #                      tf.keras.layers.Concatenate(axis=-1)([forward_end[1], backword_end[1]])]\n",
    "        #     initial_state = [initial_state] * n_stacks\n",
    "\n",
    "        # else:\n",
    "        #     forward_end = s[len(s)//2 - 1]\n",
    "        #     backword_end = s[len(s) - 1]\n",
    "                \n",
    "        #     initial_state = [tf.keras.layers.Concatenate(axis=-1)([forward_end, backword_end])]\n",
    "        #     initial_state = initial_state * n_stacks\n",
    "            \n",
    "    else:\n",
    "        rnn_layer, *s = tf.keras.layers.RNN(\n",
    "            [cell_type(units) for _ in range(n_stacks)],\n",
    "            return_sequences=True,\n",
    "            return_state=True,\n",
    "            name=get_name(name, 'rnn_encoder')\n",
    "        )(embedding)\n",
    "        initial_state = s\n",
    "\n",
    "    \n",
    "    inputs_decoder = tf.keras.layers.Input((None, ), dtype=tf.int32, name=get_name(name, 'input_decoder')) \n",
    "    embedding_dec = tf.keras.layers.Embedding(n_tokens, units, name=get_name(name, 'embedding_decoder'))(inputs_decoder)\n",
    "    \n",
    "    dec_units = 2 * units if bidirectional else units\n",
    "    \n",
    "    rnn = tf.keras.layers.RNN(\n",
    "        [cell_type(dec_units) for _ in range(n_stacks)],\n",
    "        return_sequences=True,\n",
    "        name=get_name(name, 'rnn_decoder')\n",
    "    )(embedding_dec, initial_state=initial_state)\n",
    "    \n",
    "    if attention_flg: \n",
    "        attention_layer =  tf.keras.layers.AdditiveAttention(name=get_name(name, 'attention'))([rnn, rnn_layer])\n",
    "        attention_context = tf.keras.layers.Concatenate(axis=-1, name=get_name(name, 'rnn_and_attention'))([rnn, attention_layer])\n",
    "        output = tf.keras.layers.Dense(n_labels, name=get_name(name, 'output'))(attention_context)\n",
    "    else:   \n",
    "        output = tf.keras.layers.Dense(n_labels, name=get_name(name, 'output'))(rnn)\n",
    "\n",
    "    return tf.keras.Model(inputs=(inputs_encoder, inputs_decoder), outputs=output, name=name)"
   ]
  },
  {
   "cell_type": "code",
   "execution_count": 114,
   "id": "9f242a49-7b43-4ae0-995f-df627af4db01",
   "metadata": {
    "scrolled": true
   },
   "outputs": [],
   "source": [
    "models = get_model(128, tokenizer.vocab_size, tokenizer.vocab_size, n_stacks=1, bidirectional=True, name='Seq2Seq', cell_type=tf.keras.layers.LSTMCell, attention_flg=True)"
   ]
  },
  {
   "cell_type": "code",
   "execution_count": 33,
   "id": "22612906-7e54-4379-a5dc-ccfa4374037f",
   "metadata": {},
   "outputs": [
    {
     "data": {
      "text/html": [
       "<pre style=\"white-space:pre;overflow-x:auto;line-height:normal;font-family:Menlo,'DejaVu Sans Mono',consolas,'Courier New',monospace\"><span style=\"font-weight: bold\">Model: \"Seq2Seq\"</span>\n",
       "</pre>\n"
      ],
      "text/plain": [
       "\u001b[1mModel: \"Seq2Seq\"\u001b[0m\n"
      ]
     },
     "metadata": {},
     "output_type": "display_data"
    },
    {
     "data": {
      "text/html": [
       "<pre style=\"white-space:pre;overflow-x:auto;line-height:normal;font-family:Menlo,'DejaVu Sans Mono',consolas,'Courier New',monospace\">┏━━━━━━━━━━━━━━━━━━━━━┳━━━━━━━━━━━━━━━━━━━┳━━━━━━━━━━━━┳━━━━━━━━━━━━━━━━━━━┓\n",
       "┃<span style=\"font-weight: bold\"> Layer (type)        </span>┃<span style=\"font-weight: bold\"> Output Shape      </span>┃<span style=\"font-weight: bold\">    Param # </span>┃<span style=\"font-weight: bold\"> Connected to      </span>┃\n",
       "┡━━━━━━━━━━━━━━━━━━━━━╇━━━━━━━━━━━━━━━━━━━╇━━━━━━━━━━━━╇━━━━━━━━━━━━━━━━━━━┩\n",
       "│ Seq2Seq_input_enco… │ (<span style=\"color: #00d7ff; text-decoration-color: #00d7ff\">None</span>, <span style=\"color: #00d7ff; text-decoration-color: #00d7ff\">None</span>)      │          <span style=\"color: #00af00; text-decoration-color: #00af00\">0</span> │ -                 │\n",
       "│ (<span style=\"color: #0087ff; text-decoration-color: #0087ff\">InputLayer</span>)        │                   │            │                   │\n",
       "├─────────────────────┼───────────────────┼────────────┼───────────────────┤\n",
       "│ Seq2Seq_embedding_… │ (<span style=\"color: #00d7ff; text-decoration-color: #00d7ff\">None</span>, <span style=\"color: #00d7ff; text-decoration-color: #00d7ff\">None</span>, <span style=\"color: #00af00; text-decoration-color: #00af00\">128</span>) │  <span style=\"color: #00af00; text-decoration-color: #00af00\">6,432,896</span> │ Seq2Seq_input_en… │\n",
       "│ (<span style=\"color: #0087ff; text-decoration-color: #0087ff\">Embedding</span>)         │                   │            │                   │\n",
       "├─────────────────────┼───────────────────┼────────────┼───────────────────┤\n",
       "│ Seq2Seq_input_deco… │ (<span style=\"color: #00d7ff; text-decoration-color: #00d7ff\">None</span>, <span style=\"color: #00d7ff; text-decoration-color: #00d7ff\">None</span>)      │          <span style=\"color: #00af00; text-decoration-color: #00af00\">0</span> │ -                 │\n",
       "│ (<span style=\"color: #0087ff; text-decoration-color: #0087ff\">InputLayer</span>)        │                   │            │                   │\n",
       "├─────────────────────┼───────────────────┼────────────┼───────────────────┤\n",
       "│ Seq2Seq_bidirectio… │ [(<span style=\"color: #00d7ff; text-decoration-color: #00d7ff\">None</span>, <span style=\"color: #00af00; text-decoration-color: #00af00\">256</span>),     │    <span style=\"color: #00af00; text-decoration-color: #00af00\">263,168</span> │ Seq2Seq_embeddin… │\n",
       "│ (<span style=\"color: #0087ff; text-decoration-color: #0087ff\">Bidirectional</span>)     │ (<span style=\"color: #00d7ff; text-decoration-color: #00d7ff\">None</span>, <span style=\"color: #00af00; text-decoration-color: #00af00\">128</span>),      │            │                   │\n",
       "│                     │ (<span style=\"color: #00d7ff; text-decoration-color: #00d7ff\">None</span>, <span style=\"color: #00af00; text-decoration-color: #00af00\">128</span>),      │            │                   │\n",
       "│                     │ (<span style=\"color: #00d7ff; text-decoration-color: #00d7ff\">None</span>, <span style=\"color: #00af00; text-decoration-color: #00af00\">128</span>),      │            │                   │\n",
       "│                     │ (<span style=\"color: #00d7ff; text-decoration-color: #00d7ff\">None</span>, <span style=\"color: #00af00; text-decoration-color: #00af00\">128</span>)]      │            │                   │\n",
       "├─────────────────────┼───────────────────┼────────────┼───────────────────┤\n",
       "│ Seq2Seq_embedding_… │ (<span style=\"color: #00d7ff; text-decoration-color: #00d7ff\">None</span>, <span style=\"color: #00d7ff; text-decoration-color: #00d7ff\">None</span>, <span style=\"color: #00af00; text-decoration-color: #00af00\">128</span>) │  <span style=\"color: #00af00; text-decoration-color: #00af00\">6,432,896</span> │ Seq2Seq_input_de… │\n",
       "│ (<span style=\"color: #0087ff; text-decoration-color: #0087ff\">Embedding</span>)         │                   │            │                   │\n",
       "├─────────────────────┼───────────────────┼────────────┼───────────────────┤\n",
       "│ concatenate_7       │ (<span style=\"color: #00d7ff; text-decoration-color: #00d7ff\">None</span>, <span style=\"color: #00af00; text-decoration-color: #00af00\">256</span>)       │          <span style=\"color: #00af00; text-decoration-color: #00af00\">0</span> │ Seq2Seq_bidirect… │\n",
       "│ (<span style=\"color: #0087ff; text-decoration-color: #0087ff\">Concatenate</span>)       │                   │            │ Seq2Seq_bidirect… │\n",
       "├─────────────────────┼───────────────────┼────────────┼───────────────────┤\n",
       "│ concatenate_8       │ (<span style=\"color: #00d7ff; text-decoration-color: #00d7ff\">None</span>, <span style=\"color: #00af00; text-decoration-color: #00af00\">256</span>)       │          <span style=\"color: #00af00; text-decoration-color: #00af00\">0</span> │ Seq2Seq_bidirect… │\n",
       "│ (<span style=\"color: #0087ff; text-decoration-color: #0087ff\">Concatenate</span>)       │                   │            │ Seq2Seq_bidirect… │\n",
       "├─────────────────────┼───────────────────┼────────────┼───────────────────┤\n",
       "│ Seq2Seq_rnn_decoder │ (<span style=\"color: #00d7ff; text-decoration-color: #00d7ff\">None</span>, <span style=\"color: #00d7ff; text-decoration-color: #00d7ff\">None</span>, <span style=\"color: #00af00; text-decoration-color: #00af00\">256</span>) │    <span style=\"color: #00af00; text-decoration-color: #00af00\">394,240</span> │ Seq2Seq_embeddin… │\n",
       "│ (<span style=\"color: #0087ff; text-decoration-color: #0087ff\">RNN</span>)               │                   │            │ concatenate_7[<span style=\"color: #00af00; text-decoration-color: #00af00\">0</span>]… │\n",
       "│                     │                   │            │ concatenate_8[<span style=\"color: #00af00; text-decoration-color: #00af00\">0</span>]… │\n",
       "├─────────────────────┼───────────────────┼────────────┼───────────────────┤\n",
       "│ Seq2Seq_attention   │ (<span style=\"color: #00d7ff; text-decoration-color: #00d7ff\">None</span>, <span style=\"color: #00d7ff; text-decoration-color: #00d7ff\">None</span>, <span style=\"color: #00af00; text-decoration-color: #00af00\">256</span>) │        <span style=\"color: #00af00; text-decoration-color: #00af00\">256</span> │ Seq2Seq_rnn_deco… │\n",
       "│ (<span style=\"color: #0087ff; text-decoration-color: #0087ff\">AdditiveAttention</span>) │                   │            │ Seq2Seq_bidirect… │\n",
       "├─────────────────────┼───────────────────┼────────────┼───────────────────┤\n",
       "│ Seq2Seq_rnn_and_at… │ (<span style=\"color: #00d7ff; text-decoration-color: #00d7ff\">None</span>, <span style=\"color: #00d7ff; text-decoration-color: #00d7ff\">None</span>, <span style=\"color: #00af00; text-decoration-color: #00af00\">512</span>) │          <span style=\"color: #00af00; text-decoration-color: #00af00\">0</span> │ Seq2Seq_rnn_deco… │\n",
       "│ (<span style=\"color: #0087ff; text-decoration-color: #0087ff\">Concatenate</span>)       │                   │            │ Seq2Seq_attentio… │\n",
       "├─────────────────────┼───────────────────┼────────────┼───────────────────┤\n",
       "│ Seq2Seq_output      │ (<span style=\"color: #00d7ff; text-decoration-color: #00d7ff\">None</span>, <span style=\"color: #00d7ff; text-decoration-color: #00d7ff\">None</span>,      │ <span style=\"color: #00af00; text-decoration-color: #00af00\">25,781,841</span> │ Seq2Seq_rnn_and_… │\n",
       "│ (<span style=\"color: #0087ff; text-decoration-color: #0087ff\">Dense</span>)             │ <span style=\"color: #00af00; text-decoration-color: #00af00\">50257</span>)            │            │                   │\n",
       "└─────────────────────┴───────────────────┴────────────┴───────────────────┘\n",
       "</pre>\n"
      ],
      "text/plain": [
       "┏━━━━━━━━━━━━━━━━━━━━━┳━━━━━━━━━━━━━━━━━━━┳━━━━━━━━━━━━┳━━━━━━━━━━━━━━━━━━━┓\n",
       "┃\u001b[1m \u001b[0m\u001b[1mLayer (type)       \u001b[0m\u001b[1m \u001b[0m┃\u001b[1m \u001b[0m\u001b[1mOutput Shape     \u001b[0m\u001b[1m \u001b[0m┃\u001b[1m \u001b[0m\u001b[1m   Param #\u001b[0m\u001b[1m \u001b[0m┃\u001b[1m \u001b[0m\u001b[1mConnected to     \u001b[0m\u001b[1m \u001b[0m┃\n",
       "┡━━━━━━━━━━━━━━━━━━━━━╇━━━━━━━━━━━━━━━━━━━╇━━━━━━━━━━━━╇━━━━━━━━━━━━━━━━━━━┩\n",
       "│ Seq2Seq_input_enco… │ (\u001b[38;5;45mNone\u001b[0m, \u001b[38;5;45mNone\u001b[0m)      │          \u001b[38;5;34m0\u001b[0m │ -                 │\n",
       "│ (\u001b[38;5;33mInputLayer\u001b[0m)        │                   │            │                   │\n",
       "├─────────────────────┼───────────────────┼────────────┼───────────────────┤\n",
       "│ Seq2Seq_embedding_… │ (\u001b[38;5;45mNone\u001b[0m, \u001b[38;5;45mNone\u001b[0m, \u001b[38;5;34m128\u001b[0m) │  \u001b[38;5;34m6,432,896\u001b[0m │ Seq2Seq_input_en… │\n",
       "│ (\u001b[38;5;33mEmbedding\u001b[0m)         │                   │            │                   │\n",
       "├─────────────────────┼───────────────────┼────────────┼───────────────────┤\n",
       "│ Seq2Seq_input_deco… │ (\u001b[38;5;45mNone\u001b[0m, \u001b[38;5;45mNone\u001b[0m)      │          \u001b[38;5;34m0\u001b[0m │ -                 │\n",
       "│ (\u001b[38;5;33mInputLayer\u001b[0m)        │                   │            │                   │\n",
       "├─────────────────────┼───────────────────┼────────────┼───────────────────┤\n",
       "│ Seq2Seq_bidirectio… │ [(\u001b[38;5;45mNone\u001b[0m, \u001b[38;5;34m256\u001b[0m),     │    \u001b[38;5;34m263,168\u001b[0m │ Seq2Seq_embeddin… │\n",
       "│ (\u001b[38;5;33mBidirectional\u001b[0m)     │ (\u001b[38;5;45mNone\u001b[0m, \u001b[38;5;34m128\u001b[0m),      │            │                   │\n",
       "│                     │ (\u001b[38;5;45mNone\u001b[0m, \u001b[38;5;34m128\u001b[0m),      │            │                   │\n",
       "│                     │ (\u001b[38;5;45mNone\u001b[0m, \u001b[38;5;34m128\u001b[0m),      │            │                   │\n",
       "│                     │ (\u001b[38;5;45mNone\u001b[0m, \u001b[38;5;34m128\u001b[0m)]      │            │                   │\n",
       "├─────────────────────┼───────────────────┼────────────┼───────────────────┤\n",
       "│ Seq2Seq_embedding_… │ (\u001b[38;5;45mNone\u001b[0m, \u001b[38;5;45mNone\u001b[0m, \u001b[38;5;34m128\u001b[0m) │  \u001b[38;5;34m6,432,896\u001b[0m │ Seq2Seq_input_de… │\n",
       "│ (\u001b[38;5;33mEmbedding\u001b[0m)         │                   │            │                   │\n",
       "├─────────────────────┼───────────────────┼────────────┼───────────────────┤\n",
       "│ concatenate_7       │ (\u001b[38;5;45mNone\u001b[0m, \u001b[38;5;34m256\u001b[0m)       │          \u001b[38;5;34m0\u001b[0m │ Seq2Seq_bidirect… │\n",
       "│ (\u001b[38;5;33mConcatenate\u001b[0m)       │                   │            │ Seq2Seq_bidirect… │\n",
       "├─────────────────────┼───────────────────┼────────────┼───────────────────┤\n",
       "│ concatenate_8       │ (\u001b[38;5;45mNone\u001b[0m, \u001b[38;5;34m256\u001b[0m)       │          \u001b[38;5;34m0\u001b[0m │ Seq2Seq_bidirect… │\n",
       "│ (\u001b[38;5;33mConcatenate\u001b[0m)       │                   │            │ Seq2Seq_bidirect… │\n",
       "├─────────────────────┼───────────────────┼────────────┼───────────────────┤\n",
       "│ Seq2Seq_rnn_decoder │ (\u001b[38;5;45mNone\u001b[0m, \u001b[38;5;45mNone\u001b[0m, \u001b[38;5;34m256\u001b[0m) │    \u001b[38;5;34m394,240\u001b[0m │ Seq2Seq_embeddin… │\n",
       "│ (\u001b[38;5;33mRNN\u001b[0m)               │                   │            │ concatenate_7[\u001b[38;5;34m0\u001b[0m]… │\n",
       "│                     │                   │            │ concatenate_8[\u001b[38;5;34m0\u001b[0m]… │\n",
       "├─────────────────────┼───────────────────┼────────────┼───────────────────┤\n",
       "│ Seq2Seq_attention   │ (\u001b[38;5;45mNone\u001b[0m, \u001b[38;5;45mNone\u001b[0m, \u001b[38;5;34m256\u001b[0m) │        \u001b[38;5;34m256\u001b[0m │ Seq2Seq_rnn_deco… │\n",
       "│ (\u001b[38;5;33mAdditiveAttention\u001b[0m) │                   │            │ Seq2Seq_bidirect… │\n",
       "├─────────────────────┼───────────────────┼────────────┼───────────────────┤\n",
       "│ Seq2Seq_rnn_and_at… │ (\u001b[38;5;45mNone\u001b[0m, \u001b[38;5;45mNone\u001b[0m, \u001b[38;5;34m512\u001b[0m) │          \u001b[38;5;34m0\u001b[0m │ Seq2Seq_rnn_deco… │\n",
       "│ (\u001b[38;5;33mConcatenate\u001b[0m)       │                   │            │ Seq2Seq_attentio… │\n",
       "├─────────────────────┼───────────────────┼────────────┼───────────────────┤\n",
       "│ Seq2Seq_output      │ (\u001b[38;5;45mNone\u001b[0m, \u001b[38;5;45mNone\u001b[0m,      │ \u001b[38;5;34m25,781,841\u001b[0m │ Seq2Seq_rnn_and_… │\n",
       "│ (\u001b[38;5;33mDense\u001b[0m)             │ \u001b[38;5;34m50257\u001b[0m)            │            │                   │\n",
       "└─────────────────────┴───────────────────┴────────────┴───────────────────┘\n"
      ]
     },
     "metadata": {},
     "output_type": "display_data"
    },
    {
     "data": {
      "text/html": [
       "<pre style=\"white-space:pre;overflow-x:auto;line-height:normal;font-family:Menlo,'DejaVu Sans Mono',consolas,'Courier New',monospace\"><span style=\"font-weight: bold\"> Total params: </span><span style=\"color: #00af00; text-decoration-color: #00af00\">39,305,297</span> (149.94 MB)\n",
       "</pre>\n"
      ],
      "text/plain": [
       "\u001b[1m Total params: \u001b[0m\u001b[38;5;34m39,305,297\u001b[0m (149.94 MB)\n"
      ]
     },
     "metadata": {},
     "output_type": "display_data"
    },
    {
     "data": {
      "text/html": [
       "<pre style=\"white-space:pre;overflow-x:auto;line-height:normal;font-family:Menlo,'DejaVu Sans Mono',consolas,'Courier New',monospace\"><span style=\"font-weight: bold\"> Trainable params: </span><span style=\"color: #00af00; text-decoration-color: #00af00\">39,305,297</span> (149.94 MB)\n",
       "</pre>\n"
      ],
      "text/plain": [
       "\u001b[1m Trainable params: \u001b[0m\u001b[38;5;34m39,305,297\u001b[0m (149.94 MB)\n"
      ]
     },
     "metadata": {},
     "output_type": "display_data"
    },
    {
     "data": {
      "text/html": [
       "<pre style=\"white-space:pre;overflow-x:auto;line-height:normal;font-family:Menlo,'DejaVu Sans Mono',consolas,'Courier New',monospace\"><span style=\"font-weight: bold\"> Non-trainable params: </span><span style=\"color: #00af00; text-decoration-color: #00af00\">0</span> (0.00 B)\n",
       "</pre>\n"
      ],
      "text/plain": [
       "\u001b[1m Non-trainable params: \u001b[0m\u001b[38;5;34m0\u001b[0m (0.00 B)\n"
      ]
     },
     "metadata": {},
     "output_type": "display_data"
    }
   ],
   "source": [
    "models.summary()"
   ]
  },
  {
   "cell_type": "code",
   "execution_count": 18,
   "id": "a792820b-eac2-4374-9397-5d6800b3d47b",
   "metadata": {},
   "outputs": [],
   "source": [
    "(input_ru, input_en), output_en, mask = next(iter(train_dataset))"
   ]
  },
  {
   "cell_type": "code",
   "execution_count": 19,
   "id": "a53fefcf-2afe-4cd4-ac6a-0245b9293285",
   "metadata": {
    "scrolled": true
   },
   "outputs": [
    {
     "data": {
      "text/plain": [
       "(<tf.Tensor: shape=(64, 32), dtype=int32, numpy=\n",
       " array([[  140,   252, 22177, ..., 50256, 50256, 50256],\n",
       "        [  140,   253, 21169, ...,   220, 21727, 20375],\n",
       "        [  140,    94, 43666, ..., 50256, 50256, 50256],\n",
       "        ...,\n",
       "        [  140,   255, 20375, ..., 45367, 12466,   120],\n",
       "        [  140,    94, 25443, ...,   220,   141,   235],\n",
       "        [  140,   242, 16142, ..., 15166, 21727, 20375]], dtype=int32)>,\n",
       " <tf.Tensor: shape=(64, 15), dtype=int32, numpy=\n",
       " array([[50256,  1544, 21893,   757,    13, 50256, 50256, 50256, 50256,\n",
       "         50256, 50256, 50256, 50256, 50256, 50256],\n",
       "        [50256,  5703,  2666,   340,   319,   616,  6915,    13, 50256,\n",
       "         50256, 50256, 50256, 50256, 50256, 50256],\n",
       "        [50256,  1858,   338,   645,   779, 13774,   625,   599,  2326,\n",
       "          7545,    13, 50256, 50256, 50256, 50256],\n",
       "        [50256,    40, 13030,  4186,   407,   284,  2652,   503,  2739,\n",
       "           379,  1755,    13, 50256, 50256, 50256],\n",
       "        [50256,  6090,   345,  3708, 10107,    30, 50256, 50256, 50256,\n",
       "         50256, 50256, 50256, 50256, 50256, 50256],\n",
       "        [50256,  5195,   836,   470,   345,   467,   717,    30, 50256,\n",
       "         50256, 50256, 50256, 50256, 50256, 50256],\n",
       "        [50256,  5492,  1011,  1337,   286,   616,  1641,    13, 50256,\n",
       "         50256, 50256, 50256, 50256, 50256, 50256],\n",
       "        [50256,    40,  1183,  1949,   284,   869,  4186,   757,    13,\n",
       "         50256, 50256, 50256, 50256, 50256, 50256],\n",
       "        [50256,  1639,   804, 46400,    13, 50256, 50256, 50256, 50256,\n",
       "         50256, 50256, 50256, 50256, 50256, 50256],\n",
       "        [50256,    40,  1422,   470,   765,   284,   466,   326,   326,\n",
       "           835,    13, 50256, 50256, 50256, 50256],\n",
       "        [50256,  1639,  1549,  1365,  1560,   607,  2582,    13, 50256,\n",
       "         50256, 50256, 50256, 50256, 50256, 50256],\n",
       "        [50256, 13787,   318,   257,  5863, 18560, 34537,    13, 50256,\n",
       "         50256, 50256, 50256, 50256, 50256, 50256],\n",
       "        [50256,    40,  1297,  4186,   314,  2227,   284,  4545,  4141,\n",
       "            13, 50256, 50256, 50256, 50256, 50256],\n",
       "        [50256, 25324,  3397,   389,   407, 13795,   284,  1561,   546,\n",
       "           511,   898,  1751,    13, 50256, 50256],\n",
       "        [50256,    47,   454,  4186,   617,  7545,    13, 50256, 50256,\n",
       "         50256, 50256, 50256, 50256, 50256, 50256],\n",
       "        [50256, 13787,  2476,   284, 13502,  8242,    13, 50256, 50256,\n",
       "         50256, 50256, 50256, 50256, 50256, 50256],\n",
       "        [50256, 24814,  5235,   318,   257, 22158,  3240,    13, 50256,\n",
       "         50256, 50256, 50256, 50256, 50256, 50256],\n",
       "        [50256,  3347,   468,   683,   739,   607, 15683,    13, 50256,\n",
       "         50256, 50256, 50256, 50256, 50256, 50256],\n",
       "        [50256, 13787,   318,  1972,  1365,   379,  5059,    13, 50256,\n",
       "         50256, 50256, 50256, 50256, 50256, 50256],\n",
       "        [50256,  1544,  5818,   470, 47358,   502,   736,    13, 50256,\n",
       "         50256, 50256, 50256, 50256, 50256, 50256],\n",
       "        [50256,    40,  1101,  1165, 10032,   284,  4483,    13, 50256,\n",
       "         50256, 50256, 50256, 50256, 50256, 50256],\n",
       "        [50256,  2990,   389,   257,  4167,    12, 33983,   661,    13,\n",
       "         50256, 50256, 50256, 50256, 50256, 50256],\n",
       "        [50256,   464, 10577,   547,  2111,   284,  6654,    13, 50256,\n",
       "         50256, 50256, 50256, 50256, 50256, 50256],\n",
       "        [50256,  1026,   373,   257,  2408,  2551,    13, 50256, 50256,\n",
       "         50256, 50256, 50256, 50256, 50256, 50256],\n",
       "        [50256, 24119,   373,   938,  1775,  1972,   656,  4186,   338,\n",
       "          4038,    13, 50256, 50256, 50256, 50256],\n",
       "        [50256,  1639,   389,   257, 14015,    13, 50256, 50256, 50256,\n",
       "         50256, 50256, 50256, 50256, 50256, 50256],\n",
       "        [50256,    40,  1549,   467,  3589,    11,   475,   314,   836,\n",
       "           470,   423,   597,   640,    13, 50256],\n",
       "        [50256,  1135,  1549,  1365,   651,  2067,  1909,    13, 50256,\n",
       "         50256, 50256, 50256, 50256, 50256, 50256],\n",
       "        [50256, 13787,   468,  1239,   550,   881,  1637,    13, 50256,\n",
       "         50256, 50256, 50256, 50256, 50256, 50256],\n",
       "        [50256,  1026,  2125,   470,  1165,  2739,   329,   345,    13,\n",
       "         50256, 50256, 50256, 50256, 50256, 50256],\n",
       "        [50256,  1639,   760,   428,  2125,   470,  3306,    13, 50256,\n",
       "         50256, 50256, 50256, 50256, 50256, 50256],\n",
       "        [50256,  1639,  1549,  1365,   651,   617,  3993,    13, 50256,\n",
       "         50256, 50256, 50256, 50256, 50256, 50256],\n",
       "        [50256,  1135,  5839,   345,   257,  1755,  2971,   523,   345,\n",
       "          3636,   470,   307,  7787,   284,  3993],\n",
       "        [50256,    40,  1464,  2227,   284,   766,   345,    13, 50256,\n",
       "         50256, 50256, 50256, 50256, 50256, 50256],\n",
       "        [50256,    40,   836,   470,   765,   284,  1394,  1804,   428,\n",
       "            13, 50256, 50256, 50256, 50256, 50256],\n",
       "        [50256,    32,  5398,   561,  1239,   466,   884,   257,  1517,\n",
       "            13, 50256, 50256, 50256, 50256, 50256],\n",
       "        [50256, 13787,   318,  6155,  2157,  5335,    13, 50256, 50256,\n",
       "         50256, 50256, 50256, 50256, 50256, 50256],\n",
       "        [50256,  8491,   345,   991,  8805,   379,   502,    30, 50256,\n",
       "         50256, 50256, 50256, 50256, 50256, 50256],\n",
       "        [50256, 11980,   345,   587, 13774,    30, 50256, 50256, 50256,\n",
       "         50256, 50256, 50256, 50256, 50256, 50256],\n",
       "        [50256,  3260,   262,  6290,    11,   262,  4252,  9349,   422,\n",
       "           262, 15114,    13, 50256, 50256, 50256],\n",
       "        [50256, 13787,  1239, 42675,   379,   514,    13, 50256, 50256,\n",
       "         50256, 50256, 50256, 50256, 50256, 50256],\n",
       "        [50256,    40,  1101,  2045,   329,  1223,  2073,    13, 50256,\n",
       "         50256, 50256, 50256, 50256, 50256, 50256],\n",
       "        [50256,  3347,  2227,   607,   898,  2119,    13, 50256, 50256,\n",
       "         50256, 50256, 50256, 50256, 50256, 50256],\n",
       "        [50256,    40,  1101,  9675,   345,  1265,   502,   326,  1808,\n",
       "            13, 50256, 50256, 50256, 50256, 50256],\n",
       "        [50256,    37,   378,   318,  4856,   674,  4202,    13, 50256,\n",
       "         50256, 50256, 50256, 50256, 50256, 50256],\n",
       "        [50256, 28065,   373,   257,   922,  1110,    13, 50256, 50256,\n",
       "         50256, 50256, 50256, 50256, 50256, 50256],\n",
       "        [50256, 13787,  1444,  5335,   284,  1560,   607,   339,  6151,\n",
       "           607,    13, 50256, 50256, 50256, 50256],\n",
       "        [50256,  3347,   318,  1719,  6891,   783,    13, 50256, 50256,\n",
       "         50256, 50256, 50256, 50256, 50256, 50256],\n",
       "        [50256,    40,  1053,  5969,  2279,    13, 50256, 50256, 50256,\n",
       "         50256, 50256, 50256, 50256, 50256, 50256],\n",
       "        [50256, 13787,   318,   257, 22527,  1200,    13, 50256, 50256,\n",
       "         50256, 50256, 50256, 50256, 50256, 50256],\n",
       "        [50256,  5492,   466,   326,   329,   502,    13, 50256, 50256,\n",
       "         50256, 50256, 50256, 50256, 50256, 50256],\n",
       "        [50256,    40,   466,   340,   780,   314,   765,   284,    13,\n",
       "         50256, 50256, 50256, 50256, 50256, 50256],\n",
       "        [50256,    40,  1101, 31856,   284, 11875,    13, 50256, 50256,\n",
       "         50256, 50256, 50256, 50256, 50256, 50256],\n",
       "        [50256,  3646,  1187,   761,   257,  1256,   286,  1660,    13,\n",
       "         50256, 50256, 50256, 50256, 50256, 50256],\n",
       "        [50256,    40,   836,   470,   892,   345,  1549,   307,  1498,\n",
       "           284,   466,   326,    13, 50256, 50256],\n",
       "        [50256,    40,  3181,   345, 11464,   422,  2807,    13, 50256,\n",
       "         50256, 50256, 50256, 50256, 50256, 50256],\n",
       "        [50256,   464,   582,  4978,   262,  2576,   416,   262, 15980,\n",
       "            13, 50256, 50256, 50256, 50256, 50256],\n",
       "        [50256,  1026,   338,  2739,  1541,    13,  1514,  1363,    13,\n",
       "         50256, 50256, 50256, 50256, 50256, 50256],\n",
       "        [50256,  3666,  1995,  1107,  2227,   502,   284,  1716,   257,\n",
       "          6253,    13, 50256, 50256, 50256, 50256],\n",
       "        [50256,  1026,   338,   262,   717, 27737,  1110,   287,   257,\n",
       "           890,   640,    11,   523,   262,  8242],\n",
       "        [50256,    40,  1101,   262,  6478,    13, 50256, 50256, 50256,\n",
       "         50256, 50256, 50256, 50256, 50256, 50256],\n",
       "        [50256,  3792,   326,   477,   345,   821,  1016,   284,  1560,\n",
       "           502,    30, 50256, 50256, 50256, 50256],\n",
       "        [50256,    40,  4719,   326,  4186,   750,   326, 16464,    13,\n",
       "         50256, 50256, 50256, 50256, 50256, 50256],\n",
       "        [50256,  1026,   338,   416,   645,  1724,  2562,   284,  4958,\n",
       "           257,  3215,  3303,    13, 50256, 50256]], dtype=int32)>)"
      ]
     },
     "execution_count": 19,
     "metadata": {},
     "output_type": "execute_result"
    }
   ],
   "source": [
    "input_ru, input_en"
   ]
  },
  {
   "cell_type": "code",
   "execution_count": 34,
   "id": "034f1cee-5560-4e95-8d20-4f3851191159",
   "metadata": {
    "scrolled": true
   },
   "outputs": [
    {
     "data": {
      "text/plain": [
       "<tf.Tensor: shape=(64, 15, 50257), dtype=float32, numpy=\n",
       "array([[[-2.46271607e-03, -9.56725096e-04, -1.77378696e-03, ...,\n",
       "          8.25832249e-04, -3.62789142e-03,  5.47599397e-04],\n",
       "        [-2.14463286e-03, -6.28471025e-04, -1.71366613e-03, ...,\n",
       "          3.79801961e-04, -2.88090599e-03,  6.68503926e-04],\n",
       "        [-1.29296537e-03, -1.77024020e-04, -1.26775319e-03, ...,\n",
       "          6.90211542e-04, -1.79957598e-03,  7.09687243e-04],\n",
       "        ...,\n",
       "        [-2.59824505e-04, -2.59114109e-04, -2.51226639e-03, ...,\n",
       "          2.00330094e-03,  6.10027462e-04, -8.61629087e-04],\n",
       "        [-2.41230096e-04, -2.97095423e-04, -2.58331117e-03, ...,\n",
       "          2.08623358e-03,  6.70696667e-04, -9.04475746e-04],\n",
       "        [-2.24289164e-04, -3.25460715e-04, -2.64031300e-03, ...,\n",
       "          2.15441897e-03,  7.22449506e-04, -9.37287114e-04]],\n",
       "\n",
       "       [[ 5.75040991e-04,  6.76668016e-04, -3.08478280e-04, ...,\n",
       "          7.12696696e-04,  9.75751100e-05,  1.20589568e-04],\n",
       "        [-1.15868112e-04,  1.59674324e-04, -5.04133757e-04, ...,\n",
       "          3.79788835e-04, -2.76357052e-04,  9.80093610e-05],\n",
       "        [ 5.51485806e-04,  3.11909535e-04,  2.17352193e-04, ...,\n",
       "          6.74446812e-04,  2.25932527e-05, -1.00158853e-04],\n",
       "        ...,\n",
       "        [ 3.80659476e-05,  2.77804211e-05, -1.87770254e-03, ...,\n",
       "          1.78295211e-03,  1.02646986e-03, -5.72146324e-04],\n",
       "        [-3.32928030e-05, -5.20784233e-05, -2.08370690e-03, ...,\n",
       "          1.91710051e-03,  1.02731632e-03, -6.81475562e-04],\n",
       "        [-8.43064045e-05, -1.21235236e-04, -2.24866462e-03, ...,\n",
       "          2.02738517e-03,  1.02408265e-03, -7.66197802e-04]],\n",
       "\n",
       "       [[-1.79066742e-03,  2.34536536e-04, -1.61850126e-03, ...,\n",
       "          6.04890636e-04, -2.55613774e-03,  8.56907223e-04],\n",
       "        [-7.97467423e-04, -4.18788695e-05, -1.09364837e-03, ...,\n",
       "          6.08213595e-05, -2.18351162e-03,  3.93592491e-04],\n",
       "        [-1.78139133e-04, -2.16379325e-04, -8.12418526e-04, ...,\n",
       "          5.25405048e-04, -1.22309302e-03,  3.63558618e-04],\n",
       "        ...,\n",
       "        [ 1.42868783e-04,  1.41848926e-04, -9.94834583e-04, ...,\n",
       "          8.27112584e-04,  2.61626556e-04,  3.25206143e-04],\n",
       "        [ 8.26327596e-06,  1.03096856e-04, -1.32299482e-03, ...,\n",
       "          1.08765764e-03,  4.89282829e-04,  2.52809259e-05],\n",
       "        [-7.60453404e-05,  4.14271199e-05, -1.60066027e-03, ...,\n",
       "          1.32001925e-03,  6.37395075e-04, -2.06549594e-04]],\n",
       "\n",
       "       ...,\n",
       "\n",
       "       [[ 3.16676858e-04,  4.08628955e-04, -6.28013164e-04, ...,\n",
       "          9.26703447e-04, -5.79695916e-05,  1.80580886e-04],\n",
       "        [ 2.27229946e-04,  2.36491003e-04, -6.26918976e-04, ...,\n",
       "          1.13333389e-03,  1.76024507e-04,  5.63617796e-04],\n",
       "        [-4.85742901e-04,  5.52248966e-04, -4.59910778e-04, ...,\n",
       "          5.88782190e-04,  2.16003085e-04,  5.39039436e-04],\n",
       "        ...,\n",
       "        [ 2.77054380e-04,  9.10002855e-04, -8.88750190e-04, ...,\n",
       "          1.32841489e-03,  6.31695730e-04,  4.01120080e-04],\n",
       "        [ 1.02946186e-04,  7.08425883e-04, -1.26078643e-03, ...,\n",
       "          1.53979694e-03,  8.06405209e-04,  8.43587331e-05],\n",
       "        [-1.53135043e-05,  5.25069889e-04, -1.57017901e-03, ...,\n",
       "          1.71915826e-03,  9.10081202e-04, -1.77885406e-04]],\n",
       "\n",
       "       [[ 1.11912272e-03,  1.21124875e-04,  9.60913239e-05, ...,\n",
       "          7.06768129e-04,  3.74120777e-04,  1.05036830e-03],\n",
       "        [ 5.31006022e-04,  2.17962282e-04,  3.90508969e-04, ...,\n",
       "          2.65319250e-04,  3.12238699e-04,  7.79533701e-04],\n",
       "        [-1.06688531e-04,  1.76892645e-04,  6.69534667e-04, ...,\n",
       "          5.99214545e-05, -1.88585356e-04,  1.16752414e-03],\n",
       "        ...,\n",
       "        [-2.82829365e-04,  8.78455758e-05, -1.73949683e-03, ...,\n",
       "          1.61940965e-03,  8.43487564e-04, -2.94369529e-04],\n",
       "        [-2.92383309e-04, -3.46553861e-06, -1.95808732e-03, ...,\n",
       "          1.79624232e-03,  8.80378764e-04, -4.67051927e-04],\n",
       "        [-2.91973760e-04, -8.33309896e-05, -2.13499437e-03, ...,\n",
       "          1.94107415e-03,  9.06044850e-04, -6.03527704e-04]],\n",
       "\n",
       "       [[ 9.14666743e-04,  7.80738425e-04, -2.57978099e-04, ...,\n",
       "          5.58278058e-04,  4.50872525e-04,  1.53972651e-04],\n",
       "        [ 1.03014999e-03,  3.67188681e-04, -3.83046456e-04, ...,\n",
       "          6.12353266e-04,  7.65205041e-05,  8.94411351e-05],\n",
       "        [ 1.17012742e-03,  2.51268211e-05, -2.44938390e-04, ...,\n",
       "          9.29563132e-04,  5.75492450e-04,  1.99916860e-04],\n",
       "        ...,\n",
       "        [ 2.34317326e-04,  7.04255363e-05,  1.46131395e-04, ...,\n",
       "          2.11387131e-04, -1.65619349e-04,  7.40244985e-04],\n",
       "        [ 3.35373625e-05,  2.03532429e-04, -4.45547310e-04, ...,\n",
       "          5.99836465e-04,  2.33424013e-04,  2.94357946e-04],\n",
       "        [-1.03438448e-04,  2.25468830e-04, -9.21651954e-04, ...,\n",
       "          9.33472300e-04,  4.89832019e-04, -3.48831527e-05]]],\n",
       "      dtype=float32)>"
      ]
     },
     "execution_count": 34,
     "metadata": {},
     "output_type": "execute_result"
    }
   ],
   "source": [
    "models([(input_ru, input_en)])"
   ]
  },
  {
   "cell_type": "markdown",
   "id": "79c5d763-e07d-48cd-a539-987a99ad74a7",
   "metadata": {},
   "source": [
    "# Training"
   ]
  },
  {
   "cell_type": "markdown",
   "id": "2006bfa0-eee3-439d-899d-7612e7a95a90",
   "metadata": {},
   "source": [
    "Train your model using teacher forcing. The idea is that the model predicts the next token that should follow, so one part of the model (called encoder) reads the text and output some state containing information about the text read. The other part of the model (called decoder) reads and already generated text (or in case of the teacher forcing the expected output) and predicts the next token for each one. "
   ]
  },
  {
   "cell_type": "markdown",
   "id": "a200401a-9323-4874-8d25-778bba1a9a25",
   "metadata": {},
   "source": [
    "---"
   ]
  },
  {
   "cell_type": "markdown",
   "id": "c5256a57-4d00-4461-8450-afa9e2f4255f",
   "metadata": {},
   "source": [
    "При обучении моделей на выходе энкодера бралось только последнее состояние и \"размножалось\" в количестве используемых ячеек и подавалось на вход декодеру"
   ]
  },
  {
   "cell_type": "code",
   "execution_count": 115,
   "id": "b5fe6f43-5e20-4a9b-a3d7-5a1f7097dd8a",
   "metadata": {},
   "outputs": [
    {
     "data": {
      "text/html": [
       "<pre style=\"white-space:pre;overflow-x:auto;line-height:normal;font-family:Menlo,'DejaVu Sans Mono',consolas,'Courier New',monospace\"><span style=\"font-weight: bold\">Model: \"Seq2Seq\"</span>\n",
       "</pre>\n"
      ],
      "text/plain": [
       "\u001b[1mModel: \"Seq2Seq\"\u001b[0m\n"
      ]
     },
     "metadata": {},
     "output_type": "display_data"
    },
    {
     "data": {
      "text/html": [
       "<pre style=\"white-space:pre;overflow-x:auto;line-height:normal;font-family:Menlo,'DejaVu Sans Mono',consolas,'Courier New',monospace\">┏━━━━━━━━━━━━━━━━━━━━━┳━━━━━━━━━━━━━━━━━━━┳━━━━━━━━━━━━┳━━━━━━━━━━━━━━━━━━━┓\n",
       "┃<span style=\"font-weight: bold\"> Layer (type)        </span>┃<span style=\"font-weight: bold\"> Output Shape      </span>┃<span style=\"font-weight: bold\">    Param # </span>┃<span style=\"font-weight: bold\"> Connected to      </span>┃\n",
       "┡━━━━━━━━━━━━━━━━━━━━━╇━━━━━━━━━━━━━━━━━━━╇━━━━━━━━━━━━╇━━━━━━━━━━━━━━━━━━━┩\n",
       "│ Seq2Seq_input_enco… │ (<span style=\"color: #00d7ff; text-decoration-color: #00d7ff\">None</span>, <span style=\"color: #00d7ff; text-decoration-color: #00d7ff\">None</span>)      │          <span style=\"color: #00af00; text-decoration-color: #00af00\">0</span> │ -                 │\n",
       "│ (<span style=\"color: #0087ff; text-decoration-color: #0087ff\">InputLayer</span>)        │                   │            │                   │\n",
       "├─────────────────────┼───────────────────┼────────────┼───────────────────┤\n",
       "│ Seq2Seq_embedding_… │ (<span style=\"color: #00d7ff; text-decoration-color: #00d7ff\">None</span>, <span style=\"color: #00d7ff; text-decoration-color: #00d7ff\">None</span>, <span style=\"color: #00af00; text-decoration-color: #00af00\">128</span>) │  <span style=\"color: #00af00; text-decoration-color: #00af00\">6,432,896</span> │ Seq2Seq_input_en… │\n",
       "│ (<span style=\"color: #0087ff; text-decoration-color: #0087ff\">Embedding</span>)         │                   │            │                   │\n",
       "├─────────────────────┼───────────────────┼────────────┼───────────────────┤\n",
       "│ Seq2Seq_input_deco… │ (<span style=\"color: #00d7ff; text-decoration-color: #00d7ff\">None</span>, <span style=\"color: #00d7ff; text-decoration-color: #00d7ff\">None</span>)      │          <span style=\"color: #00af00; text-decoration-color: #00af00\">0</span> │ -                 │\n",
       "│ (<span style=\"color: #0087ff; text-decoration-color: #0087ff\">InputLayer</span>)        │                   │            │                   │\n",
       "├─────────────────────┼───────────────────┼────────────┼───────────────────┤\n",
       "│ Seq2Seq_bidirectio… │ [(<span style=\"color: #00d7ff; text-decoration-color: #00d7ff\">None</span>, <span style=\"color: #00d7ff; text-decoration-color: #00d7ff\">None</span>,     │    <span style=\"color: #00af00; text-decoration-color: #00af00\">526,336</span> │ Seq2Seq_embeddin… │\n",
       "│ (<span style=\"color: #0087ff; text-decoration-color: #0087ff\">Bidirectional</span>)     │ <span style=\"color: #00af00; text-decoration-color: #00af00\">256</span>), (<span style=\"color: #00d7ff; text-decoration-color: #00d7ff\">None</span>,      │            │                   │\n",
       "│                     │ <span style=\"color: #00af00; text-decoration-color: #00af00\">128</span>), (<span style=\"color: #00d7ff; text-decoration-color: #00d7ff\">None</span>,      │            │                   │\n",
       "│                     │ <span style=\"color: #00af00; text-decoration-color: #00af00\">128</span>), (<span style=\"color: #00d7ff; text-decoration-color: #00d7ff\">None</span>,      │            │                   │\n",
       "│                     │ <span style=\"color: #00af00; text-decoration-color: #00af00\">128</span>), (<span style=\"color: #00d7ff; text-decoration-color: #00d7ff\">None</span>,      │            │                   │\n",
       "│                     │ <span style=\"color: #00af00; text-decoration-color: #00af00\">128</span>), (<span style=\"color: #00d7ff; text-decoration-color: #00d7ff\">None</span>,      │            │                   │\n",
       "│                     │ <span style=\"color: #00af00; text-decoration-color: #00af00\">128</span>), (<span style=\"color: #00d7ff; text-decoration-color: #00d7ff\">None</span>,      │            │                   │\n",
       "│                     │ <span style=\"color: #00af00; text-decoration-color: #00af00\">128</span>), (<span style=\"color: #00d7ff; text-decoration-color: #00d7ff\">None</span>,      │            │                   │\n",
       "│                     │ <span style=\"color: #00af00; text-decoration-color: #00af00\">128</span>), (<span style=\"color: #00d7ff; text-decoration-color: #00d7ff\">None</span>,      │            │                   │\n",
       "│                     │ <span style=\"color: #00af00; text-decoration-color: #00af00\">128</span>)]             │            │                   │\n",
       "├─────────────────────┼───────────────────┼────────────┼───────────────────┤\n",
       "│ Seq2Seq_embedding_… │ (<span style=\"color: #00d7ff; text-decoration-color: #00d7ff\">None</span>, <span style=\"color: #00d7ff; text-decoration-color: #00d7ff\">None</span>, <span style=\"color: #00af00; text-decoration-color: #00af00\">128</span>) │  <span style=\"color: #00af00; text-decoration-color: #00af00\">6,432,896</span> │ Seq2Seq_input_de… │\n",
       "│ (<span style=\"color: #0087ff; text-decoration-color: #0087ff\">Embedding</span>)         │                   │            │                   │\n",
       "├─────────────────────┼───────────────────┼────────────┼───────────────────┤\n",
       "│ concatenate_26      │ (<span style=\"color: #00d7ff; text-decoration-color: #00d7ff\">None</span>, <span style=\"color: #00af00; text-decoration-color: #00af00\">256</span>)       │          <span style=\"color: #00af00; text-decoration-color: #00af00\">0</span> │ Seq2Seq_bidirect… │\n",
       "│ (<span style=\"color: #0087ff; text-decoration-color: #0087ff\">Concatenate</span>)       │                   │            │ Seq2Seq_bidirect… │\n",
       "├─────────────────────┼───────────────────┼────────────┼───────────────────┤\n",
       "│ concatenate_27      │ (<span style=\"color: #00d7ff; text-decoration-color: #00d7ff\">None</span>, <span style=\"color: #00af00; text-decoration-color: #00af00\">256</span>)       │          <span style=\"color: #00af00; text-decoration-color: #00af00\">0</span> │ Seq2Seq_bidirect… │\n",
       "│ (<span style=\"color: #0087ff; text-decoration-color: #0087ff\">Concatenate</span>)       │                   │            │ Seq2Seq_bidirect… │\n",
       "├─────────────────────┼───────────────────┼────────────┼───────────────────┤\n",
       "│ concatenate_28      │ (<span style=\"color: #00d7ff; text-decoration-color: #00d7ff\">None</span>, <span style=\"color: #00af00; text-decoration-color: #00af00\">256</span>)       │          <span style=\"color: #00af00; text-decoration-color: #00af00\">0</span> │ Seq2Seq_bidirect… │\n",
       "│ (<span style=\"color: #0087ff; text-decoration-color: #0087ff\">Concatenate</span>)       │                   │            │ Seq2Seq_bidirect… │\n",
       "├─────────────────────┼───────────────────┼────────────┼───────────────────┤\n",
       "│ concatenate_29      │ (<span style=\"color: #00d7ff; text-decoration-color: #00d7ff\">None</span>, <span style=\"color: #00af00; text-decoration-color: #00af00\">256</span>)       │          <span style=\"color: #00af00; text-decoration-color: #00af00\">0</span> │ Seq2Seq_bidirect… │\n",
       "│ (<span style=\"color: #0087ff; text-decoration-color: #0087ff\">Concatenate</span>)       │                   │            │ Seq2Seq_bidirect… │\n",
       "├─────────────────────┼───────────────────┼────────────┼───────────────────┤\n",
       "│ Seq2Seq_rnn_decoder │ (<span style=\"color: #00d7ff; text-decoration-color: #00d7ff\">None</span>, <span style=\"color: #00d7ff; text-decoration-color: #00d7ff\">None</span>, <span style=\"color: #00af00; text-decoration-color: #00af00\">256</span>) │    <span style=\"color: #00af00; text-decoration-color: #00af00\">919,552</span> │ Seq2Seq_embeddin… │\n",
       "│ (<span style=\"color: #0087ff; text-decoration-color: #0087ff\">RNN</span>)               │                   │            │ concatenate_26[<span style=\"color: #00af00; text-decoration-color: #00af00\">0</span>… │\n",
       "│                     │                   │            │ concatenate_27[<span style=\"color: #00af00; text-decoration-color: #00af00\">0</span>… │\n",
       "│                     │                   │            │ concatenate_28[<span style=\"color: #00af00; text-decoration-color: #00af00\">0</span>… │\n",
       "│                     │                   │            │ concatenate_29[<span style=\"color: #00af00; text-decoration-color: #00af00\">0</span>… │\n",
       "├─────────────────────┼───────────────────┼────────────┼───────────────────┤\n",
       "│ Seq2Seq_output      │ (<span style=\"color: #00d7ff; text-decoration-color: #00d7ff\">None</span>, <span style=\"color: #00d7ff; text-decoration-color: #00d7ff\">None</span>,      │ <span style=\"color: #00af00; text-decoration-color: #00af00\">12,916,049</span> │ Seq2Seq_rnn_deco… │\n",
       "│ (<span style=\"color: #0087ff; text-decoration-color: #0087ff\">Dense</span>)             │ <span style=\"color: #00af00; text-decoration-color: #00af00\">50257</span>)            │            │                   │\n",
       "└─────────────────────┴───────────────────┴────────────┴───────────────────┘\n",
       "</pre>\n"
      ],
      "text/plain": [
       "┏━━━━━━━━━━━━━━━━━━━━━┳━━━━━━━━━━━━━━━━━━━┳━━━━━━━━━━━━┳━━━━━━━━━━━━━━━━━━━┓\n",
       "┃\u001b[1m \u001b[0m\u001b[1mLayer (type)       \u001b[0m\u001b[1m \u001b[0m┃\u001b[1m \u001b[0m\u001b[1mOutput Shape     \u001b[0m\u001b[1m \u001b[0m┃\u001b[1m \u001b[0m\u001b[1m   Param #\u001b[0m\u001b[1m \u001b[0m┃\u001b[1m \u001b[0m\u001b[1mConnected to     \u001b[0m\u001b[1m \u001b[0m┃\n",
       "┡━━━━━━━━━━━━━━━━━━━━━╇━━━━━━━━━━━━━━━━━━━╇━━━━━━━━━━━━╇━━━━━━━━━━━━━━━━━━━┩\n",
       "│ Seq2Seq_input_enco… │ (\u001b[38;5;45mNone\u001b[0m, \u001b[38;5;45mNone\u001b[0m)      │          \u001b[38;5;34m0\u001b[0m │ -                 │\n",
       "│ (\u001b[38;5;33mInputLayer\u001b[0m)        │                   │            │                   │\n",
       "├─────────────────────┼───────────────────┼────────────┼───────────────────┤\n",
       "│ Seq2Seq_embedding_… │ (\u001b[38;5;45mNone\u001b[0m, \u001b[38;5;45mNone\u001b[0m, \u001b[38;5;34m128\u001b[0m) │  \u001b[38;5;34m6,432,896\u001b[0m │ Seq2Seq_input_en… │\n",
       "│ (\u001b[38;5;33mEmbedding\u001b[0m)         │                   │            │                   │\n",
       "├─────────────────────┼───────────────────┼────────────┼───────────────────┤\n",
       "│ Seq2Seq_input_deco… │ (\u001b[38;5;45mNone\u001b[0m, \u001b[38;5;45mNone\u001b[0m)      │          \u001b[38;5;34m0\u001b[0m │ -                 │\n",
       "│ (\u001b[38;5;33mInputLayer\u001b[0m)        │                   │            │                   │\n",
       "├─────────────────────┼───────────────────┼────────────┼───────────────────┤\n",
       "│ Seq2Seq_bidirectio… │ [(\u001b[38;5;45mNone\u001b[0m, \u001b[38;5;45mNone\u001b[0m,     │    \u001b[38;5;34m526,336\u001b[0m │ Seq2Seq_embeddin… │\n",
       "│ (\u001b[38;5;33mBidirectional\u001b[0m)     │ \u001b[38;5;34m256\u001b[0m), (\u001b[38;5;45mNone\u001b[0m,      │            │                   │\n",
       "│                     │ \u001b[38;5;34m128\u001b[0m), (\u001b[38;5;45mNone\u001b[0m,      │            │                   │\n",
       "│                     │ \u001b[38;5;34m128\u001b[0m), (\u001b[38;5;45mNone\u001b[0m,      │            │                   │\n",
       "│                     │ \u001b[38;5;34m128\u001b[0m), (\u001b[38;5;45mNone\u001b[0m,      │            │                   │\n",
       "│                     │ \u001b[38;5;34m128\u001b[0m), (\u001b[38;5;45mNone\u001b[0m,      │            │                   │\n",
       "│                     │ \u001b[38;5;34m128\u001b[0m), (\u001b[38;5;45mNone\u001b[0m,      │            │                   │\n",
       "│                     │ \u001b[38;5;34m128\u001b[0m), (\u001b[38;5;45mNone\u001b[0m,      │            │                   │\n",
       "│                     │ \u001b[38;5;34m128\u001b[0m), (\u001b[38;5;45mNone\u001b[0m,      │            │                   │\n",
       "│                     │ \u001b[38;5;34m128\u001b[0m)]             │            │                   │\n",
       "├─────────────────────┼───────────────────┼────────────┼───────────────────┤\n",
       "│ Seq2Seq_embedding_… │ (\u001b[38;5;45mNone\u001b[0m, \u001b[38;5;45mNone\u001b[0m, \u001b[38;5;34m128\u001b[0m) │  \u001b[38;5;34m6,432,896\u001b[0m │ Seq2Seq_input_de… │\n",
       "│ (\u001b[38;5;33mEmbedding\u001b[0m)         │                   │            │                   │\n",
       "├─────────────────────┼───────────────────┼────────────┼───────────────────┤\n",
       "│ concatenate_26      │ (\u001b[38;5;45mNone\u001b[0m, \u001b[38;5;34m256\u001b[0m)       │          \u001b[38;5;34m0\u001b[0m │ Seq2Seq_bidirect… │\n",
       "│ (\u001b[38;5;33mConcatenate\u001b[0m)       │                   │            │ Seq2Seq_bidirect… │\n",
       "├─────────────────────┼───────────────────┼────────────┼───────────────────┤\n",
       "│ concatenate_27      │ (\u001b[38;5;45mNone\u001b[0m, \u001b[38;5;34m256\u001b[0m)       │          \u001b[38;5;34m0\u001b[0m │ Seq2Seq_bidirect… │\n",
       "│ (\u001b[38;5;33mConcatenate\u001b[0m)       │                   │            │ Seq2Seq_bidirect… │\n",
       "├─────────────────────┼───────────────────┼────────────┼───────────────────┤\n",
       "│ concatenate_28      │ (\u001b[38;5;45mNone\u001b[0m, \u001b[38;5;34m256\u001b[0m)       │          \u001b[38;5;34m0\u001b[0m │ Seq2Seq_bidirect… │\n",
       "│ (\u001b[38;5;33mConcatenate\u001b[0m)       │                   │            │ Seq2Seq_bidirect… │\n",
       "├─────────────────────┼───────────────────┼────────────┼───────────────────┤\n",
       "│ concatenate_29      │ (\u001b[38;5;45mNone\u001b[0m, \u001b[38;5;34m256\u001b[0m)       │          \u001b[38;5;34m0\u001b[0m │ Seq2Seq_bidirect… │\n",
       "│ (\u001b[38;5;33mConcatenate\u001b[0m)       │                   │            │ Seq2Seq_bidirect… │\n",
       "├─────────────────────┼───────────────────┼────────────┼───────────────────┤\n",
       "│ Seq2Seq_rnn_decoder │ (\u001b[38;5;45mNone\u001b[0m, \u001b[38;5;45mNone\u001b[0m, \u001b[38;5;34m256\u001b[0m) │    \u001b[38;5;34m919,552\u001b[0m │ Seq2Seq_embeddin… │\n",
       "│ (\u001b[38;5;33mRNN\u001b[0m)               │                   │            │ concatenate_26[\u001b[38;5;34m0\u001b[0m… │\n",
       "│                     │                   │            │ concatenate_27[\u001b[38;5;34m0\u001b[0m… │\n",
       "│                     │                   │            │ concatenate_28[\u001b[38;5;34m0\u001b[0m… │\n",
       "│                     │                   │            │ concatenate_29[\u001b[38;5;34m0\u001b[0m… │\n",
       "├─────────────────────┼───────────────────┼────────────┼───────────────────┤\n",
       "│ Seq2Seq_output      │ (\u001b[38;5;45mNone\u001b[0m, \u001b[38;5;45mNone\u001b[0m,      │ \u001b[38;5;34m12,916,049\u001b[0m │ Seq2Seq_rnn_deco… │\n",
       "│ (\u001b[38;5;33mDense\u001b[0m)             │ \u001b[38;5;34m50257\u001b[0m)            │            │                   │\n",
       "└─────────────────────┴───────────────────┴────────────┴───────────────────┘\n"
      ]
     },
     "metadata": {},
     "output_type": "display_data"
    },
    {
     "data": {
      "text/html": [
       "<pre style=\"white-space:pre;overflow-x:auto;line-height:normal;font-family:Menlo,'DejaVu Sans Mono',consolas,'Courier New',monospace\"><span style=\"font-weight: bold\"> Total params: </span><span style=\"color: #00af00; text-decoration-color: #00af00\">27,227,729</span> (103.87 MB)\n",
       "</pre>\n"
      ],
      "text/plain": [
       "\u001b[1m Total params: \u001b[0m\u001b[38;5;34m27,227,729\u001b[0m (103.87 MB)\n"
      ]
     },
     "metadata": {},
     "output_type": "display_data"
    },
    {
     "data": {
      "text/html": [
       "<pre style=\"white-space:pre;overflow-x:auto;line-height:normal;font-family:Menlo,'DejaVu Sans Mono',consolas,'Courier New',monospace\"><span style=\"font-weight: bold\"> Trainable params: </span><span style=\"color: #00af00; text-decoration-color: #00af00\">27,227,729</span> (103.87 MB)\n",
       "</pre>\n"
      ],
      "text/plain": [
       "\u001b[1m Trainable params: \u001b[0m\u001b[38;5;34m27,227,729\u001b[0m (103.87 MB)\n"
      ]
     },
     "metadata": {},
     "output_type": "display_data"
    },
    {
     "data": {
      "text/html": [
       "<pre style=\"white-space:pre;overflow-x:auto;line-height:normal;font-family:Menlo,'DejaVu Sans Mono',consolas,'Courier New',monospace\"><span style=\"font-weight: bold\"> Non-trainable params: </span><span style=\"color: #00af00; text-decoration-color: #00af00\">0</span> (0.00 B)\n",
       "</pre>\n"
      ],
      "text/plain": [
       "\u001b[1m Non-trainable params: \u001b[0m\u001b[38;5;34m0\u001b[0m (0.00 B)\n"
      ]
     },
     "metadata": {},
     "output_type": "display_data"
    }
   ],
   "source": [
    "model1 = get_model(128,\n",
    "                   tokenizer.vocab_size,\n",
    "                   tokenizer.vocab_size,\n",
    "                   n_stacks=2,\n",
    "                   bidirectional=True,\n",
    "                   name='Seq2Seq',\n",
    "                   cell_type=tf.keras.layers.LSTMCell,\n",
    "                   attention_flg=False\n",
    ")\n",
    "\n",
    "model1.summary()"
   ]
  },
  {
   "cell_type": "code",
   "execution_count": 32,
   "id": "f9510384-cfb3-46d2-8e15-ecf099e32f97",
   "metadata": {},
   "outputs": [],
   "source": [
    "model1.compile(\n",
    "    loss=tf.keras.losses.SparseCategoricalCrossentropy(from_logits=True),\n",
    "    optimizer=keras.optimizers.Adam(learning_rate=0.001),\n",
    "    metrics=['accuracy']\n",
    ")"
   ]
  },
  {
   "cell_type": "code",
   "execution_count": 27,
   "id": "0c3b2a51-336c-42b7-b564-a201a001f48e",
   "metadata": {
    "scrolled": true
   },
   "outputs": [
    {
     "name": "stdout",
     "output_type": "stream",
     "text": [
      "model training: Seq2Seq\n",
      "Epoch 1/15\n"
     ]
    },
    {
     "name": "stderr",
     "output_type": "stream",
     "text": [
      "WARNING: All log messages before absl::InitializeLog() is called are written to STDERR\n",
      "I0000 00:00:1731027567.663516    1287 service.cc:145] XLA service 0x14f89350 initialized for platform CUDA (this does not guarantee that XLA will be used). Devices:\n",
      "I0000 00:00:1731027567.663555    1287 service.cc:153]   StreamExecutor device (0): NVIDIA GeForce RTX 4060 Laptop GPU, Compute Capability 8.9\n",
      "2024-11-08 10:59:27.765410: I tensorflow/compiler/mlir/tensorflow/utils/dump_mlir_util.cc:268] disabling MLIR crash reproducer, set env var `MLIR_CRASH_REPRODUCER_DIRECTORY` to enable.\n",
      "W0000 00:00:1731027568.117567    1287 assert_op.cc:38] Ignoring Assert operator compile_loss/sparse_categorical_crossentropy/SparseSoftmaxCrossEntropyWithLogits/assert_equal_1/Assert/Assert\n",
      "2024-11-08 10:59:28.305712: I external/local_xla/xla/stream_executor/cuda/cuda_dnn.cc:465] Loaded cuDNN version 8907\n",
      "WARNING: All log messages before absl::InitializeLog() is called are written to STDERR\n",
      "I0000 00:00:1731027569.077644    2091 asm_compiler.cc:369] ptxas warning : Registers are spilled to local memory in function 'triton_gemm_dot_173', 84 bytes spill stores, 84 bytes spill loads\n",
      "\n",
      "I0000 00:00:1731027569.489650    2097 asm_compiler.cc:369] ptxas warning : Registers are spilled to local memory in function 'triton_gemm_dot_173', 1748 bytes spill stores, 2168 bytes spill loads\n",
      "\n",
      "I0000 00:00:1731027570.541249    2093 asm_compiler.cc:369] ptxas warning : Registers are spilled to local memory in function 'triton_gemm_dot_177', 280 bytes spill stores, 264 bytes spill loads\n",
      "\n",
      "I0000 00:00:1731027570.927827    2100 asm_compiler.cc:369] ptxas warning : Registers are spilled to local memory in function 'triton_gemm_dot_175', 84 bytes spill stores, 84 bytes spill loads\n",
      "\n",
      "I0000 00:00:1731027570.958736    2092 asm_compiler.cc:369] ptxas warning : Registers are spilled to local memory in function 'triton_gemm_dot_175', 1760 bytes spill stores, 2180 bytes spill loads\n",
      "\n",
      "I0000 00:00:1731027574.260997    1287 device_compiler.h:188] Compiled cluster using XLA!  This line is logged at most once for the lifetime of the process.\n"
     ]
    },
    {
     "name": "stdout",
     "output_type": "stream",
     "text": [
      "\u001b[1m2004/2005\u001b[0m \u001b[32m━━━━━━━━━━━━━━━━━━━\u001b[0m\u001b[37m━\u001b[0m \u001b[1m0s\u001b[0m 71ms/step - accuracy: 0.5307 - loss: 2.8590"
     ]
    },
    {
     "name": "stderr",
     "output_type": "stream",
     "text": [
      "W0000 00:00:1731027716.426898    1289 assert_op.cc:38] Ignoring Assert operator compile_loss/sparse_categorical_crossentropy/SparseSoftmaxCrossEntropyWithLogits/assert_equal_1/Assert/Assert\n",
      "I0000 00:00:1731027717.323745    2845 asm_compiler.cc:369] ptxas warning : Registers are spilled to local memory in function 'triton_gemm_dot_177', 44 bytes spill stores, 32 bytes spill loads\n",
      "\n",
      "I0000 00:00:1731027718.138031    2844 asm_compiler.cc:369] ptxas warning : Registers are spilled to local memory in function 'triton_gemm_dot_177', 4 bytes spill stores, 4 bytes spill loads\n",
      "\n",
      "I0000 00:00:1731027718.246785    2847 asm_compiler.cc:369] ptxas warning : Registers are spilled to local memory in function 'triton_gemm_dot_174', 4 bytes spill stores, 4 bytes spill loads\n",
      "\n",
      "I0000 00:00:1731027718.763870    2840 asm_compiler.cc:369] ptxas warning : Registers are spilled to local memory in function 'triton_gemm_dot_175', 24 bytes spill stores, 24 bytes spill loads\n",
      "\n",
      "I0000 00:00:1731027718.881546    2851 asm_compiler.cc:369] ptxas warning : Registers are spilled to local memory in function 'triton_gemm_dot_175', 4 bytes spill stores, 4 bytes spill loads\n",
      "\n",
      "I0000 00:00:1731027718.976943    2849 asm_compiler.cc:369] ptxas warning : Registers are spilled to local memory in function 'triton_gemm_dot_175', 92 bytes spill stores, 92 bytes spill loads\n",
      "\n",
      "I0000 00:00:1731027719.248136    2842 asm_compiler.cc:369] ptxas warning : Registers are spilled to local memory in function 'triton_gemm_dot_173', 4 bytes spill stores, 4 bytes spill loads\n",
      "\n",
      "I0000 00:00:1731027719.513075    2839 asm_compiler.cc:369] ptxas warning : Registers are spilled to local memory in function 'triton_gemm_dot_175', 324 bytes spill stores, 792 bytes spill loads\n",
      "\n",
      "I0000 00:00:1731027719.573720    2847 asm_compiler.cc:369] ptxas warning : Registers are spilled to local memory in function 'triton_gemm_dot_173', 24 bytes spill stores, 24 bytes spill loads\n",
      "\n",
      "I0000 00:00:1731027719.757600    2842 asm_compiler.cc:369] ptxas warning : Registers are spilled to local memory in function 'triton_gemm_dot_173', 92 bytes spill stores, 92 bytes spill loads\n",
      "\n",
      "I0000 00:00:1731027719.916905    2844 asm_compiler.cc:369] ptxas warning : Registers are spilled to local memory in function 'triton_gemm_dot_173', 348 bytes spill stores, 788 bytes spill loads\n",
      "\n"
     ]
    },
    {
     "name": "stdout",
     "output_type": "stream",
     "text": [
      "\u001b[1m2005/2005\u001b[0m \u001b[32m━━━━━━━━━━━━━━━━━━━━\u001b[0m\u001b[37m\u001b[0m \u001b[1m158s\u001b[0m 74ms/step - accuracy: 0.5307 - loss: 2.8584\n",
      "Epoch 2/15\n",
      "\u001b[1m2005/2005\u001b[0m \u001b[32m━━━━━━━━━━━━━━━━━━━━\u001b[0m\u001b[37m\u001b[0m \u001b[1m149s\u001b[0m 74ms/step - accuracy: 0.7021 - loss: 1.5326\n",
      "Epoch 3/15\n",
      "\u001b[1m2005/2005\u001b[0m \u001b[32m━━━━━━━━━━━━━━━━━━━━\u001b[0m\u001b[37m\u001b[0m \u001b[1m153s\u001b[0m 76ms/step - accuracy: 0.6467 - loss: 1.1980\n",
      "Epoch 4/15\n",
      "\u001b[1m2005/2005\u001b[0m \u001b[32m━━━━━━━━━━━━━━━━━━━━\u001b[0m\u001b[37m\u001b[0m \u001b[1m153s\u001b[0m 76ms/step - accuracy: 0.6009 - loss: 1.0139\n",
      "Epoch 5/15\n",
      "\u001b[1m2005/2005\u001b[0m \u001b[32m━━━━━━━━━━━━━━━━━━━━\u001b[0m\u001b[37m\u001b[0m \u001b[1m155s\u001b[0m 77ms/step - accuracy: 0.5651 - loss: 0.8971\n",
      "Epoch 6/15\n",
      "\u001b[1m2005/2005\u001b[0m \u001b[32m━━━━━━━━━━━━━━━━━━━━\u001b[0m\u001b[37m\u001b[0m \u001b[1m158s\u001b[0m 79ms/step - accuracy: 0.5516 - loss: 0.8157\n",
      "Epoch 7/15\n",
      "\u001b[1m2005/2005\u001b[0m \u001b[32m━━━━━━━━━━━━━━━━━━━━\u001b[0m\u001b[37m\u001b[0m \u001b[1m156s\u001b[0m 78ms/step - accuracy: 0.5298 - loss: 0.7544\n",
      "Epoch 8/15\n",
      "\u001b[1m2005/2005\u001b[0m \u001b[32m━━━━━━━━━━━━━━━━━━━━\u001b[0m\u001b[37m\u001b[0m \u001b[1m155s\u001b[0m 78ms/step - accuracy: 0.5368 - loss: 0.7066\n",
      "Epoch 9/15\n",
      "\u001b[1m2005/2005\u001b[0m \u001b[32m━━━━━━━━━━━━━━━━━━━━\u001b[0m\u001b[37m\u001b[0m \u001b[1m155s\u001b[0m 77ms/step - accuracy: 0.5253 - loss: 0.6667\n",
      "Epoch 10/15\n",
      "\u001b[1m2005/2005\u001b[0m \u001b[32m━━━━━━━━━━━━━━━━━━━━\u001b[0m\u001b[37m\u001b[0m \u001b[1m156s\u001b[0m 78ms/step - accuracy: 0.5279 - loss: 0.6336\n",
      "Epoch 11/15\n",
      "\u001b[1m2005/2005\u001b[0m \u001b[32m━━━━━━━━━━━━━━━━━━━━\u001b[0m\u001b[37m\u001b[0m \u001b[1m156s\u001b[0m 78ms/step - accuracy: 0.5331 - loss: 0.6051\n",
      "Epoch 12/15\n",
      "\u001b[1m2005/2005\u001b[0m \u001b[32m━━━━━━━━━━━━━━━━━━━━\u001b[0m\u001b[37m\u001b[0m \u001b[1m157s\u001b[0m 78ms/step - accuracy: 0.5295 - loss: 0.5803\n",
      "Epoch 13/15\n",
      "\u001b[1m2005/2005\u001b[0m \u001b[32m━━━━━━━━━━━━━━━━━━━━\u001b[0m\u001b[37m\u001b[0m \u001b[1m156s\u001b[0m 78ms/step - accuracy: 0.5291 - loss: 0.5583\n",
      "Epoch 14/15\n",
      "\u001b[1m2005/2005\u001b[0m \u001b[32m━━━━━━━━━━━━━━━━━━━━\u001b[0m\u001b[37m\u001b[0m \u001b[1m157s\u001b[0m 78ms/step - accuracy: 0.5305 - loss: 0.5387\n",
      "Epoch 15/15\n",
      "\u001b[1m2005/2005\u001b[0m \u001b[32m━━━━━━━━━━━━━━━━━━━━\u001b[0m\u001b[37m\u001b[0m \u001b[1m158s\u001b[0m 79ms/step - accuracy: 0.5333 - loss: 0.5210\n"
     ]
    }
   ],
   "source": [
    "print(f'model training: {model1.name}')\n",
    "history_1 = model1.fit(train_dataset, batch_size=256, epochs=15)"
   ]
  },
  {
   "cell_type": "code",
   "execution_count": 28,
   "id": "a9d4e76a-ac7d-48cb-99e0-d7948ded2ce8",
   "metadata": {
    "scrolled": true
   },
   "outputs": [
    {
     "name": "stdout",
     "output_type": "stream",
     "text": [
      "Дообучение модели\n",
      "model training: Seq2Seq\n",
      "Epoch 1/15\n",
      "\u001b[1m2005/2005\u001b[0m \u001b[32m━━━━━━━━━━━━━━━━━━━━\u001b[0m\u001b[37m\u001b[0m \u001b[1m146s\u001b[0m 73ms/step - accuracy: 0.5383 - loss: 0.5051\n",
      "Epoch 2/15\n",
      "\u001b[1m2005/2005\u001b[0m \u001b[32m━━━━━━━━━━━━━━━━━━━━\u001b[0m\u001b[37m\u001b[0m \u001b[1m150s\u001b[0m 75ms/step - accuracy: 0.5397 - loss: 0.4904\n",
      "Epoch 3/15\n",
      "\u001b[1m2005/2005\u001b[0m \u001b[32m━━━━━━━━━━━━━━━━━━━━\u001b[0m\u001b[37m\u001b[0m \u001b[1m155s\u001b[0m 77ms/step - accuracy: 0.5421 - loss: 0.4773\n",
      "Epoch 4/15\n",
      "\u001b[1m2005/2005\u001b[0m \u001b[32m━━━━━━━━━━━━━━━━━━━━\u001b[0m\u001b[37m\u001b[0m \u001b[1m157s\u001b[0m 78ms/step - accuracy: 0.5446 - loss: 0.4651\n",
      "Epoch 5/15\n",
      "\u001b[1m2005/2005\u001b[0m \u001b[32m━━━━━━━━━━━━━━━━━━━━\u001b[0m\u001b[37m\u001b[0m \u001b[1m156s\u001b[0m 78ms/step - accuracy: 0.5474 - loss: 0.4537\n",
      "Epoch 6/15\n",
      "\u001b[1m2005/2005\u001b[0m \u001b[32m━━━━━━━━━━━━━━━━━━━━\u001b[0m\u001b[37m\u001b[0m \u001b[1m157s\u001b[0m 78ms/step - accuracy: 0.5528 - loss: 0.4429\n",
      "Epoch 7/15\n",
      "\u001b[1m2005/2005\u001b[0m \u001b[32m━━━━━━━━━━━━━━━━━━━━\u001b[0m\u001b[37m\u001b[0m \u001b[1m158s\u001b[0m 79ms/step - accuracy: 0.5532 - loss: 0.4329\n",
      "Epoch 8/15\n",
      "\u001b[1m2005/2005\u001b[0m \u001b[32m━━━━━━━━━━━━━━━━━━━━\u001b[0m\u001b[37m\u001b[0m \u001b[1m157s\u001b[0m 78ms/step - accuracy: 0.5543 - loss: 0.4234\n",
      "Epoch 9/15\n",
      "\u001b[1m2005/2005\u001b[0m \u001b[32m━━━━━━━━━━━━━━━━━━━━\u001b[0m\u001b[37m\u001b[0m \u001b[1m158s\u001b[0m 79ms/step - accuracy: 0.5571 - loss: 0.4148\n",
      "Epoch 10/15\n",
      "\u001b[1m2005/2005\u001b[0m \u001b[32m━━━━━━━━━━━━━━━━━━━━\u001b[0m\u001b[37m\u001b[0m \u001b[1m158s\u001b[0m 79ms/step - accuracy: 0.5584 - loss: 0.4068\n",
      "Epoch 11/15\n",
      "\u001b[1m2005/2005\u001b[0m \u001b[32m━━━━━━━━━━━━━━━━━━━━\u001b[0m\u001b[37m\u001b[0m \u001b[1m157s\u001b[0m 78ms/step - accuracy: 0.5610 - loss: 0.3992\n",
      "Epoch 12/15\n",
      "\u001b[1m2005/2005\u001b[0m \u001b[32m━━━━━━━━━━━━━━━━━━━━\u001b[0m\u001b[37m\u001b[0m \u001b[1m157s\u001b[0m 78ms/step - accuracy: 0.5653 - loss: 0.3924\n",
      "Epoch 13/15\n",
      "\u001b[1m2005/2005\u001b[0m \u001b[32m━━━━━━━━━━━━━━━━━━━━\u001b[0m\u001b[37m\u001b[0m \u001b[1m157s\u001b[0m 78ms/step - accuracy: 0.5618 - loss: 0.3856\n",
      "Epoch 14/15\n",
      "\u001b[1m2005/2005\u001b[0m \u001b[32m━━━━━━━━━━━━━━━━━━━━\u001b[0m\u001b[37m\u001b[0m \u001b[1m157s\u001b[0m 78ms/step - accuracy: 0.5621 - loss: 0.3795\n",
      "Epoch 15/15\n",
      "\u001b[1m2005/2005\u001b[0m \u001b[32m━━━━━━━━━━━━━━━━━━━━\u001b[0m\u001b[37m\u001b[0m \u001b[1m157s\u001b[0m 78ms/step - accuracy: 0.5734 - loss: 0.3736\n"
     ]
    }
   ],
   "source": [
    "print('Дообучение модели')\n",
    "print(f'model training: {model1.name}')\n",
    "history_1 = model1.fit(train_dataset, batch_size=256, epochs=15)"
   ]
  },
  {
   "cell_type": "code",
   "execution_count": 29,
   "id": "d5378a04-90b6-4ada-85c7-541643da8567",
   "metadata": {},
   "outputs": [
    {
     "name": "stdout",
     "output_type": "stream",
     "text": [
      "------------------------------\n",
      "Веса модели 30_new_LSTM_Seq2Seq сохранены\n"
     ]
    }
   ],
   "source": [
    "print('-'*30)\n",
    "model1.save_weights(f'30_new_LSTM_{model1.name}.weights.h5')\n",
    "print(f'Веса модели 30_new_LSTM_{model1.name} сохранены')"
   ]
  },
  {
   "cell_type": "markdown",
   "id": "cebfe9fa-fd96-4cb0-a575-e9212de2d5b8",
   "metadata": {},
   "source": [
    "---"
   ]
  },
  {
   "cell_type": "code",
   "execution_count": 116,
   "id": "81d41403-2ae2-4206-8858-5d368daaf728",
   "metadata": {},
   "outputs": [
    {
     "data": {
      "text/html": [
       "<pre style=\"white-space:pre;overflow-x:auto;line-height:normal;font-family:Menlo,'DejaVu Sans Mono',consolas,'Courier New',monospace\"><span style=\"font-weight: bold\">Model: \"Seq2Seq\"</span>\n",
       "</pre>\n"
      ],
      "text/plain": [
       "\u001b[1mModel: \"Seq2Seq\"\u001b[0m\n"
      ]
     },
     "metadata": {},
     "output_type": "display_data"
    },
    {
     "data": {
      "text/html": [
       "<pre style=\"white-space:pre;overflow-x:auto;line-height:normal;font-family:Menlo,'DejaVu Sans Mono',consolas,'Courier New',monospace\">┏━━━━━━━━━━━━━━━━━━━━━┳━━━━━━━━━━━━━━━━━━━┳━━━━━━━━━━━━┳━━━━━━━━━━━━━━━━━━━┓\n",
       "┃<span style=\"font-weight: bold\"> Layer (type)        </span>┃<span style=\"font-weight: bold\"> Output Shape      </span>┃<span style=\"font-weight: bold\">    Param # </span>┃<span style=\"font-weight: bold\"> Connected to      </span>┃\n",
       "┡━━━━━━━━━━━━━━━━━━━━━╇━━━━━━━━━━━━━━━━━━━╇━━━━━━━━━━━━╇━━━━━━━━━━━━━━━━━━━┩\n",
       "│ Seq2Seq_input_enco… │ (<span style=\"color: #00d7ff; text-decoration-color: #00d7ff\">None</span>, <span style=\"color: #00d7ff; text-decoration-color: #00d7ff\">None</span>)      │          <span style=\"color: #00af00; text-decoration-color: #00af00\">0</span> │ -                 │\n",
       "│ (<span style=\"color: #0087ff; text-decoration-color: #0087ff\">InputLayer</span>)        │                   │            │                   │\n",
       "├─────────────────────┼───────────────────┼────────────┼───────────────────┤\n",
       "│ Seq2Seq_embedding_… │ (<span style=\"color: #00d7ff; text-decoration-color: #00d7ff\">None</span>, <span style=\"color: #00d7ff; text-decoration-color: #00d7ff\">None</span>, <span style=\"color: #00af00; text-decoration-color: #00af00\">256</span>) │ <span style=\"color: #00af00; text-decoration-color: #00af00\">12,865,792</span> │ Seq2Seq_input_en… │\n",
       "│ (<span style=\"color: #0087ff; text-decoration-color: #0087ff\">Embedding</span>)         │                   │            │                   │\n",
       "├─────────────────────┼───────────────────┼────────────┼───────────────────┤\n",
       "│ Seq2Seq_input_deco… │ (<span style=\"color: #00d7ff; text-decoration-color: #00d7ff\">None</span>, <span style=\"color: #00d7ff; text-decoration-color: #00d7ff\">None</span>)      │          <span style=\"color: #00af00; text-decoration-color: #00af00\">0</span> │ -                 │\n",
       "│ (<span style=\"color: #0087ff; text-decoration-color: #0087ff\">InputLayer</span>)        │                   │            │                   │\n",
       "├─────────────────────┼───────────────────┼────────────┼───────────────────┤\n",
       "│ Seq2Seq_bidirectio… │ [(<span style=\"color: #00d7ff; text-decoration-color: #00d7ff\">None</span>, <span style=\"color: #00d7ff; text-decoration-color: #00d7ff\">None</span>,     │  <span style=\"color: #00af00; text-decoration-color: #00af00\">2,101,248</span> │ Seq2Seq_embeddin… │\n",
       "│ (<span style=\"color: #0087ff; text-decoration-color: #0087ff\">Bidirectional</span>)     │ <span style=\"color: #00af00; text-decoration-color: #00af00\">512</span>), (<span style=\"color: #00d7ff; text-decoration-color: #00d7ff\">None</span>,      │            │                   │\n",
       "│                     │ <span style=\"color: #00af00; text-decoration-color: #00af00\">256</span>), (<span style=\"color: #00d7ff; text-decoration-color: #00d7ff\">None</span>,      │            │                   │\n",
       "│                     │ <span style=\"color: #00af00; text-decoration-color: #00af00\">256</span>), (<span style=\"color: #00d7ff; text-decoration-color: #00d7ff\">None</span>,      │            │                   │\n",
       "│                     │ <span style=\"color: #00af00; text-decoration-color: #00af00\">256</span>), (<span style=\"color: #00d7ff; text-decoration-color: #00d7ff\">None</span>,      │            │                   │\n",
       "│                     │ <span style=\"color: #00af00; text-decoration-color: #00af00\">256</span>), (<span style=\"color: #00d7ff; text-decoration-color: #00d7ff\">None</span>,      │            │                   │\n",
       "│                     │ <span style=\"color: #00af00; text-decoration-color: #00af00\">256</span>), (<span style=\"color: #00d7ff; text-decoration-color: #00d7ff\">None</span>,      │            │                   │\n",
       "│                     │ <span style=\"color: #00af00; text-decoration-color: #00af00\">256</span>), (<span style=\"color: #00d7ff; text-decoration-color: #00d7ff\">None</span>,      │            │                   │\n",
       "│                     │ <span style=\"color: #00af00; text-decoration-color: #00af00\">256</span>), (<span style=\"color: #00d7ff; text-decoration-color: #00d7ff\">None</span>,      │            │                   │\n",
       "│                     │ <span style=\"color: #00af00; text-decoration-color: #00af00\">256</span>)]             │            │                   │\n",
       "├─────────────────────┼───────────────────┼────────────┼───────────────────┤\n",
       "│ Seq2Seq_embedding_… │ (<span style=\"color: #00d7ff; text-decoration-color: #00d7ff\">None</span>, <span style=\"color: #00d7ff; text-decoration-color: #00d7ff\">None</span>, <span style=\"color: #00af00; text-decoration-color: #00af00\">256</span>) │ <span style=\"color: #00af00; text-decoration-color: #00af00\">12,865,792</span> │ Seq2Seq_input_de… │\n",
       "│ (<span style=\"color: #0087ff; text-decoration-color: #0087ff\">Embedding</span>)         │                   │            │                   │\n",
       "├─────────────────────┼───────────────────┼────────────┼───────────────────┤\n",
       "│ concatenate_30      │ (<span style=\"color: #00d7ff; text-decoration-color: #00d7ff\">None</span>, <span style=\"color: #00af00; text-decoration-color: #00af00\">512</span>)       │          <span style=\"color: #00af00; text-decoration-color: #00af00\">0</span> │ Seq2Seq_bidirect… │\n",
       "│ (<span style=\"color: #0087ff; text-decoration-color: #0087ff\">Concatenate</span>)       │                   │            │ Seq2Seq_bidirect… │\n",
       "├─────────────────────┼───────────────────┼────────────┼───────────────────┤\n",
       "│ concatenate_31      │ (<span style=\"color: #00d7ff; text-decoration-color: #00d7ff\">None</span>, <span style=\"color: #00af00; text-decoration-color: #00af00\">512</span>)       │          <span style=\"color: #00af00; text-decoration-color: #00af00\">0</span> │ Seq2Seq_bidirect… │\n",
       "│ (<span style=\"color: #0087ff; text-decoration-color: #0087ff\">Concatenate</span>)       │                   │            │ Seq2Seq_bidirect… │\n",
       "├─────────────────────┼───────────────────┼────────────┼───────────────────┤\n",
       "│ concatenate_32      │ (<span style=\"color: #00d7ff; text-decoration-color: #00d7ff\">None</span>, <span style=\"color: #00af00; text-decoration-color: #00af00\">512</span>)       │          <span style=\"color: #00af00; text-decoration-color: #00af00\">0</span> │ Seq2Seq_bidirect… │\n",
       "│ (<span style=\"color: #0087ff; text-decoration-color: #0087ff\">Concatenate</span>)       │                   │            │ Seq2Seq_bidirect… │\n",
       "├─────────────────────┼───────────────────┼────────────┼───────────────────┤\n",
       "│ concatenate_33      │ (<span style=\"color: #00d7ff; text-decoration-color: #00d7ff\">None</span>, <span style=\"color: #00af00; text-decoration-color: #00af00\">512</span>)       │          <span style=\"color: #00af00; text-decoration-color: #00af00\">0</span> │ Seq2Seq_bidirect… │\n",
       "│ (<span style=\"color: #0087ff; text-decoration-color: #0087ff\">Concatenate</span>)       │                   │            │ Seq2Seq_bidirect… │\n",
       "├─────────────────────┼───────────────────┼────────────┼───────────────────┤\n",
       "│ Seq2Seq_rnn_decoder │ (<span style=\"color: #00d7ff; text-decoration-color: #00d7ff\">None</span>, <span style=\"color: #00d7ff; text-decoration-color: #00d7ff\">None</span>, <span style=\"color: #00af00; text-decoration-color: #00af00\">512</span>) │  <span style=\"color: #00af00; text-decoration-color: #00af00\">3,674,112</span> │ Seq2Seq_embeddin… │\n",
       "│ (<span style=\"color: #0087ff; text-decoration-color: #0087ff\">RNN</span>)               │                   │            │ concatenate_30[<span style=\"color: #00af00; text-decoration-color: #00af00\">0</span>… │\n",
       "│                     │                   │            │ concatenate_31[<span style=\"color: #00af00; text-decoration-color: #00af00\">0</span>… │\n",
       "│                     │                   │            │ concatenate_32[<span style=\"color: #00af00; text-decoration-color: #00af00\">0</span>… │\n",
       "│                     │                   │            │ concatenate_33[<span style=\"color: #00af00; text-decoration-color: #00af00\">0</span>… │\n",
       "├─────────────────────┼───────────────────┼────────────┼───────────────────┤\n",
       "│ Seq2Seq_attention   │ (<span style=\"color: #00d7ff; text-decoration-color: #00d7ff\">None</span>, <span style=\"color: #00d7ff; text-decoration-color: #00d7ff\">None</span>, <span style=\"color: #00af00; text-decoration-color: #00af00\">512</span>) │        <span style=\"color: #00af00; text-decoration-color: #00af00\">512</span> │ Seq2Seq_rnn_deco… │\n",
       "│ (<span style=\"color: #0087ff; text-decoration-color: #0087ff\">AdditiveAttention</span>) │                   │            │ Seq2Seq_bidirect… │\n",
       "├─────────────────────┼───────────────────┼────────────┼───────────────────┤\n",
       "│ Seq2Seq_rnn_and_at… │ (<span style=\"color: #00d7ff; text-decoration-color: #00d7ff\">None</span>, <span style=\"color: #00d7ff; text-decoration-color: #00d7ff\">None</span>,      │          <span style=\"color: #00af00; text-decoration-color: #00af00\">0</span> │ Seq2Seq_rnn_deco… │\n",
       "│ (<span style=\"color: #0087ff; text-decoration-color: #0087ff\">Concatenate</span>)       │ <span style=\"color: #00af00; text-decoration-color: #00af00\">1024</span>)             │            │ Seq2Seq_attentio… │\n",
       "├─────────────────────┼───────────────────┼────────────┼───────────────────┤\n",
       "│ Seq2Seq_output      │ (<span style=\"color: #00d7ff; text-decoration-color: #00d7ff\">None</span>, <span style=\"color: #00d7ff; text-decoration-color: #00d7ff\">None</span>,      │ <span style=\"color: #00af00; text-decoration-color: #00af00\">51,513,425</span> │ Seq2Seq_rnn_and_… │\n",
       "│ (<span style=\"color: #0087ff; text-decoration-color: #0087ff\">Dense</span>)             │ <span style=\"color: #00af00; text-decoration-color: #00af00\">50257</span>)            │            │                   │\n",
       "└─────────────────────┴───────────────────┴────────────┴───────────────────┘\n",
       "</pre>\n"
      ],
      "text/plain": [
       "┏━━━━━━━━━━━━━━━━━━━━━┳━━━━━━━━━━━━━━━━━━━┳━━━━━━━━━━━━┳━━━━━━━━━━━━━━━━━━━┓\n",
       "┃\u001b[1m \u001b[0m\u001b[1mLayer (type)       \u001b[0m\u001b[1m \u001b[0m┃\u001b[1m \u001b[0m\u001b[1mOutput Shape     \u001b[0m\u001b[1m \u001b[0m┃\u001b[1m \u001b[0m\u001b[1m   Param #\u001b[0m\u001b[1m \u001b[0m┃\u001b[1m \u001b[0m\u001b[1mConnected to     \u001b[0m\u001b[1m \u001b[0m┃\n",
       "┡━━━━━━━━━━━━━━━━━━━━━╇━━━━━━━━━━━━━━━━━━━╇━━━━━━━━━━━━╇━━━━━━━━━━━━━━━━━━━┩\n",
       "│ Seq2Seq_input_enco… │ (\u001b[38;5;45mNone\u001b[0m, \u001b[38;5;45mNone\u001b[0m)      │          \u001b[38;5;34m0\u001b[0m │ -                 │\n",
       "│ (\u001b[38;5;33mInputLayer\u001b[0m)        │                   │            │                   │\n",
       "├─────────────────────┼───────────────────┼────────────┼───────────────────┤\n",
       "│ Seq2Seq_embedding_… │ (\u001b[38;5;45mNone\u001b[0m, \u001b[38;5;45mNone\u001b[0m, \u001b[38;5;34m256\u001b[0m) │ \u001b[38;5;34m12,865,792\u001b[0m │ Seq2Seq_input_en… │\n",
       "│ (\u001b[38;5;33mEmbedding\u001b[0m)         │                   │            │                   │\n",
       "├─────────────────────┼───────────────────┼────────────┼───────────────────┤\n",
       "│ Seq2Seq_input_deco… │ (\u001b[38;5;45mNone\u001b[0m, \u001b[38;5;45mNone\u001b[0m)      │          \u001b[38;5;34m0\u001b[0m │ -                 │\n",
       "│ (\u001b[38;5;33mInputLayer\u001b[0m)        │                   │            │                   │\n",
       "├─────────────────────┼───────────────────┼────────────┼───────────────────┤\n",
       "│ Seq2Seq_bidirectio… │ [(\u001b[38;5;45mNone\u001b[0m, \u001b[38;5;45mNone\u001b[0m,     │  \u001b[38;5;34m2,101,248\u001b[0m │ Seq2Seq_embeddin… │\n",
       "│ (\u001b[38;5;33mBidirectional\u001b[0m)     │ \u001b[38;5;34m512\u001b[0m), (\u001b[38;5;45mNone\u001b[0m,      │            │                   │\n",
       "│                     │ \u001b[38;5;34m256\u001b[0m), (\u001b[38;5;45mNone\u001b[0m,      │            │                   │\n",
       "│                     │ \u001b[38;5;34m256\u001b[0m), (\u001b[38;5;45mNone\u001b[0m,      │            │                   │\n",
       "│                     │ \u001b[38;5;34m256\u001b[0m), (\u001b[38;5;45mNone\u001b[0m,      │            │                   │\n",
       "│                     │ \u001b[38;5;34m256\u001b[0m), (\u001b[38;5;45mNone\u001b[0m,      │            │                   │\n",
       "│                     │ \u001b[38;5;34m256\u001b[0m), (\u001b[38;5;45mNone\u001b[0m,      │            │                   │\n",
       "│                     │ \u001b[38;5;34m256\u001b[0m), (\u001b[38;5;45mNone\u001b[0m,      │            │                   │\n",
       "│                     │ \u001b[38;5;34m256\u001b[0m), (\u001b[38;5;45mNone\u001b[0m,      │            │                   │\n",
       "│                     │ \u001b[38;5;34m256\u001b[0m)]             │            │                   │\n",
       "├─────────────────────┼───────────────────┼────────────┼───────────────────┤\n",
       "│ Seq2Seq_embedding_… │ (\u001b[38;5;45mNone\u001b[0m, \u001b[38;5;45mNone\u001b[0m, \u001b[38;5;34m256\u001b[0m) │ \u001b[38;5;34m12,865,792\u001b[0m │ Seq2Seq_input_de… │\n",
       "│ (\u001b[38;5;33mEmbedding\u001b[0m)         │                   │            │                   │\n",
       "├─────────────────────┼───────────────────┼────────────┼───────────────────┤\n",
       "│ concatenate_30      │ (\u001b[38;5;45mNone\u001b[0m, \u001b[38;5;34m512\u001b[0m)       │          \u001b[38;5;34m0\u001b[0m │ Seq2Seq_bidirect… │\n",
       "│ (\u001b[38;5;33mConcatenate\u001b[0m)       │                   │            │ Seq2Seq_bidirect… │\n",
       "├─────────────────────┼───────────────────┼────────────┼───────────────────┤\n",
       "│ concatenate_31      │ (\u001b[38;5;45mNone\u001b[0m, \u001b[38;5;34m512\u001b[0m)       │          \u001b[38;5;34m0\u001b[0m │ Seq2Seq_bidirect… │\n",
       "│ (\u001b[38;5;33mConcatenate\u001b[0m)       │                   │            │ Seq2Seq_bidirect… │\n",
       "├─────────────────────┼───────────────────┼────────────┼───────────────────┤\n",
       "│ concatenate_32      │ (\u001b[38;5;45mNone\u001b[0m, \u001b[38;5;34m512\u001b[0m)       │          \u001b[38;5;34m0\u001b[0m │ Seq2Seq_bidirect… │\n",
       "│ (\u001b[38;5;33mConcatenate\u001b[0m)       │                   │            │ Seq2Seq_bidirect… │\n",
       "├─────────────────────┼───────────────────┼────────────┼───────────────────┤\n",
       "│ concatenate_33      │ (\u001b[38;5;45mNone\u001b[0m, \u001b[38;5;34m512\u001b[0m)       │          \u001b[38;5;34m0\u001b[0m │ Seq2Seq_bidirect… │\n",
       "│ (\u001b[38;5;33mConcatenate\u001b[0m)       │                   │            │ Seq2Seq_bidirect… │\n",
       "├─────────────────────┼───────────────────┼────────────┼───────────────────┤\n",
       "│ Seq2Seq_rnn_decoder │ (\u001b[38;5;45mNone\u001b[0m, \u001b[38;5;45mNone\u001b[0m, \u001b[38;5;34m512\u001b[0m) │  \u001b[38;5;34m3,674,112\u001b[0m │ Seq2Seq_embeddin… │\n",
       "│ (\u001b[38;5;33mRNN\u001b[0m)               │                   │            │ concatenate_30[\u001b[38;5;34m0\u001b[0m… │\n",
       "│                     │                   │            │ concatenate_31[\u001b[38;5;34m0\u001b[0m… │\n",
       "│                     │                   │            │ concatenate_32[\u001b[38;5;34m0\u001b[0m… │\n",
       "│                     │                   │            │ concatenate_33[\u001b[38;5;34m0\u001b[0m… │\n",
       "├─────────────────────┼───────────────────┼────────────┼───────────────────┤\n",
       "│ Seq2Seq_attention   │ (\u001b[38;5;45mNone\u001b[0m, \u001b[38;5;45mNone\u001b[0m, \u001b[38;5;34m512\u001b[0m) │        \u001b[38;5;34m512\u001b[0m │ Seq2Seq_rnn_deco… │\n",
       "│ (\u001b[38;5;33mAdditiveAttention\u001b[0m) │                   │            │ Seq2Seq_bidirect… │\n",
       "├─────────────────────┼───────────────────┼────────────┼───────────────────┤\n",
       "│ Seq2Seq_rnn_and_at… │ (\u001b[38;5;45mNone\u001b[0m, \u001b[38;5;45mNone\u001b[0m,      │          \u001b[38;5;34m0\u001b[0m │ Seq2Seq_rnn_deco… │\n",
       "│ (\u001b[38;5;33mConcatenate\u001b[0m)       │ \u001b[38;5;34m1024\u001b[0m)             │            │ Seq2Seq_attentio… │\n",
       "├─────────────────────┼───────────────────┼────────────┼───────────────────┤\n",
       "│ Seq2Seq_output      │ (\u001b[38;5;45mNone\u001b[0m, \u001b[38;5;45mNone\u001b[0m,      │ \u001b[38;5;34m51,513,425\u001b[0m │ Seq2Seq_rnn_and_… │\n",
       "│ (\u001b[38;5;33mDense\u001b[0m)             │ \u001b[38;5;34m50257\u001b[0m)            │            │                   │\n",
       "└─────────────────────┴───────────────────┴────────────┴───────────────────┘\n"
      ]
     },
     "metadata": {},
     "output_type": "display_data"
    },
    {
     "data": {
      "text/html": [
       "<pre style=\"white-space:pre;overflow-x:auto;line-height:normal;font-family:Menlo,'DejaVu Sans Mono',consolas,'Courier New',monospace\"><span style=\"font-weight: bold\"> Total params: </span><span style=\"color: #00af00; text-decoration-color: #00af00\">83,020,881</span> (316.70 MB)\n",
       "</pre>\n"
      ],
      "text/plain": [
       "\u001b[1m Total params: \u001b[0m\u001b[38;5;34m83,020,881\u001b[0m (316.70 MB)\n"
      ]
     },
     "metadata": {},
     "output_type": "display_data"
    },
    {
     "data": {
      "text/html": [
       "<pre style=\"white-space:pre;overflow-x:auto;line-height:normal;font-family:Menlo,'DejaVu Sans Mono',consolas,'Courier New',monospace\"><span style=\"font-weight: bold\"> Trainable params: </span><span style=\"color: #00af00; text-decoration-color: #00af00\">83,020,881</span> (316.70 MB)\n",
       "</pre>\n"
      ],
      "text/plain": [
       "\u001b[1m Trainable params: \u001b[0m\u001b[38;5;34m83,020,881\u001b[0m (316.70 MB)\n"
      ]
     },
     "metadata": {},
     "output_type": "display_data"
    },
    {
     "data": {
      "text/html": [
       "<pre style=\"white-space:pre;overflow-x:auto;line-height:normal;font-family:Menlo,'DejaVu Sans Mono',consolas,'Courier New',monospace\"><span style=\"font-weight: bold\"> Non-trainable params: </span><span style=\"color: #00af00; text-decoration-color: #00af00\">0</span> (0.00 B)\n",
       "</pre>\n"
      ],
      "text/plain": [
       "\u001b[1m Non-trainable params: \u001b[0m\u001b[38;5;34m0\u001b[0m (0.00 B)\n"
      ]
     },
     "metadata": {},
     "output_type": "display_data"
    }
   ],
   "source": [
    "model2 = get_model(256,\n",
    "                   tokenizer.vocab_size,\n",
    "                   tokenizer.vocab_size,\n",
    "                   n_stacks=2,\n",
    "                   bidirectional=True,\n",
    "                   name='Seq2Seq',\n",
    "                   cell_type=tf.keras.layers.LSTMCell,\n",
    "                   attention_flg=True\n",
    ")\n",
    "\n",
    "model2.summary()"
   ]
  },
  {
   "cell_type": "code",
   "execution_count": 34,
   "id": "63179db5-6d8d-4530-968f-f7ef33b95293",
   "metadata": {},
   "outputs": [],
   "source": [
    "model2.compile(\n",
    "    loss=tf.keras.losses.SparseCategoricalCrossentropy(from_logits=True),\n",
    "    optimizer=keras.optimizers.Adam(learning_rate=0.001),\n",
    "    metrics=['accuracy']\n",
    ")"
   ]
  },
  {
   "cell_type": "code",
   "execution_count": 31,
   "id": "843f513e-c2b8-4e33-b427-87fca104189b",
   "metadata": {
    "scrolled": true
   },
   "outputs": [
    {
     "name": "stdout",
     "output_type": "stream",
     "text": [
      "model training: Seq2Seq\n",
      "Epoch 1/15\n"
     ]
    },
    {
     "name": "stderr",
     "output_type": "stream",
     "text": [
      "W0000 00:00:1730986736.964115   37220 assert_op.cc:38] Ignoring Assert operator compile_loss/sparse_categorical_crossentropy/SparseSoftmaxCrossEntropyWithLogits/assert_equal_1/Assert/Assert\n"
     ]
    },
    {
     "name": "stdout",
     "output_type": "stream",
     "text": [
      "\u001b[1m2004/2005\u001b[0m \u001b[32m━━━━━━━━━━━━━━━━━━━\u001b[0m\u001b[37m━\u001b[0m \u001b[1m0s\u001b[0m 222ms/step - accuracy: 0.6026 - loss: 2.5358"
     ]
    },
    {
     "name": "stderr",
     "output_type": "stream",
     "text": [
      "W0000 00:00:1730987184.238713   37222 assert_op.cc:38] Ignoring Assert operator compile_loss/sparse_categorical_crossentropy/SparseSoftmaxCrossEntropyWithLogits/assert_equal_1/Assert/Assert\n"
     ]
    },
    {
     "name": "stdout",
     "output_type": "stream",
     "text": [
      "\u001b[1m2005/2005\u001b[0m \u001b[32m━━━━━━━━━━━━━━━━━━━━\u001b[0m\u001b[37m\u001b[0m \u001b[1m471s\u001b[0m 223ms/step - accuracy: 0.6026 - loss: 2.5353\n",
      "Epoch 2/15\n",
      "\u001b[1m2005/2005\u001b[0m \u001b[32m━━━━━━━━━━━━━━━━━━━━\u001b[0m\u001b[37m\u001b[0m \u001b[1m446s\u001b[0m 222ms/step - accuracy: 0.7253 - loss: 1.3815\n",
      "Epoch 3/15\n",
      "\u001b[1m2005/2005\u001b[0m \u001b[32m━━━━━━━━━━━━━━━━━━━━\u001b[0m\u001b[37m\u001b[0m \u001b[1m444s\u001b[0m 222ms/step - accuracy: 0.6500 - loss: 1.0143\n",
      "Epoch 4/15\n",
      "\u001b[1m2005/2005\u001b[0m \u001b[32m━━━━━━━━━━━━━━━━━━━━\u001b[0m\u001b[37m\u001b[0m \u001b[1m446s\u001b[0m 222ms/step - accuracy: 0.5907 - loss: 0.8181\n",
      "Epoch 5/15\n",
      "\u001b[1m2005/2005\u001b[0m \u001b[32m━━━━━━━━━━━━━━━━━━━━\u001b[0m\u001b[37m\u001b[0m \u001b[1m445s\u001b[0m 222ms/step - accuracy: 0.5883 - loss: 0.6966\n",
      "Epoch 6/15\n",
      "\u001b[1m2005/2005\u001b[0m \u001b[32m━━━━━━━━━━━━━━━━━━━━\u001b[0m\u001b[37m\u001b[0m \u001b[1m445s\u001b[0m 222ms/step - accuracy: 0.5864 - loss: 0.6097\n",
      "Epoch 7/15\n",
      "\u001b[1m2005/2005\u001b[0m \u001b[32m━━━━━━━━━━━━━━━━━━━━\u001b[0m\u001b[37m\u001b[0m \u001b[1m444s\u001b[0m 222ms/step - accuracy: 0.5854 - loss: 0.5447\n",
      "Epoch 8/15\n",
      "\u001b[1m2005/2005\u001b[0m \u001b[32m━━━━━━━━━━━━━━━━━━━━\u001b[0m\u001b[37m\u001b[0m \u001b[1m446s\u001b[0m 222ms/step - accuracy: 0.5951 - loss: 0.4915\n",
      "Epoch 9/15\n",
      "\u001b[1m2005/2005\u001b[0m \u001b[32m━━━━━━━━━━━━━━━━━━━━\u001b[0m\u001b[37m\u001b[0m \u001b[1m445s\u001b[0m 222ms/step - accuracy: 0.6004 - loss: 0.4482\n",
      "Epoch 10/15\n",
      "\u001b[1m2005/2005\u001b[0m \u001b[32m━━━━━━━━━━━━━━━━━━━━\u001b[0m\u001b[37m\u001b[0m \u001b[1m445s\u001b[0m 222ms/step - accuracy: 0.6105 - loss: 0.4100\n",
      "Epoch 11/15\n",
      "\u001b[1m2005/2005\u001b[0m \u001b[32m━━━━━━━━━━━━━━━━━━━━\u001b[0m\u001b[37m\u001b[0m \u001b[1m444s\u001b[0m 222ms/step - accuracy: 0.6119 - loss: 0.3769\n",
      "Epoch 12/15\n",
      "\u001b[1m2005/2005\u001b[0m \u001b[32m━━━━━━━━━━━━━━━━━━━━\u001b[0m\u001b[37m\u001b[0m \u001b[1m445s\u001b[0m 222ms/step - accuracy: 0.6198 - loss: 0.3483\n",
      "Epoch 13/15\n",
      "\u001b[1m2005/2005\u001b[0m \u001b[32m━━━━━━━━━━━━━━━━━━━━\u001b[0m\u001b[37m\u001b[0m \u001b[1m446s\u001b[0m 222ms/step - accuracy: 0.6195 - loss: 0.3242\n",
      "Epoch 14/15\n",
      "\u001b[1m2005/2005\u001b[0m \u001b[32m━━━━━━━━━━━━━━━━━━━━\u001b[0m\u001b[37m\u001b[0m \u001b[1m448s\u001b[0m 223ms/step - accuracy: 0.6206 - loss: 0.3002\n",
      "Epoch 15/15\n",
      "\u001b[1m2005/2005\u001b[0m \u001b[32m━━━━━━━━━━━━━━━━━━━━\u001b[0m\u001b[37m\u001b[0m \u001b[1m447s\u001b[0m 223ms/step - accuracy: 0.6247 - loss: 0.2792\n"
     ]
    }
   ],
   "source": [
    "print(f'model training: {model2.name}')\n",
    "history_2 = model2.fit(train_dataset, batch_size=256, epochs=15)"
   ]
  },
  {
   "cell_type": "code",
   "execution_count": 33,
   "id": "1c6956f9-f46b-4f56-ae5e-2370c0a4b7d0",
   "metadata": {},
   "outputs": [
    {
     "name": "stdout",
     "output_type": "stream",
     "text": [
      "Дообучение дополнительных 15 эпох модели\n",
      "model training: Seq2Seq\n",
      "Epoch 1/15\n",
      "\u001b[1m2005/2005\u001b[0m \u001b[32m━━━━━━━━━━━━━━━━━━━━\u001b[0m\u001b[37m\u001b[0m \u001b[1m439s\u001b[0m 219ms/step - accuracy: 0.6333 - loss: 0.2608\n",
      "Epoch 2/15\n",
      "\u001b[1m2005/2005\u001b[0m \u001b[32m━━━━━━━━━━━━━━━━━━━━\u001b[0m\u001b[37m\u001b[0m \u001b[1m429s\u001b[0m 214ms/step - accuracy: 0.6311 - loss: 0.2457\n",
      "Epoch 3/15\n",
      "\u001b[1m2005/2005\u001b[0m \u001b[32m━━━━━━━━━━━━━━━━━━━━\u001b[0m\u001b[37m\u001b[0m \u001b[1m396s\u001b[0m 198ms/step - accuracy: 0.6318 - loss: 0.2295\n",
      "Epoch 4/15\n",
      "\u001b[1m2005/2005\u001b[0m \u001b[32m━━━━━━━━━━━━━━━━━━━━\u001b[0m\u001b[37m\u001b[0m \u001b[1m387s\u001b[0m 193ms/step - accuracy: 0.6354 - loss: 0.2155\n",
      "Epoch 5/15\n",
      "\u001b[1m2005/2005\u001b[0m \u001b[32m━━━━━━━━━━━━━━━━━━━━\u001b[0m\u001b[37m\u001b[0m \u001b[1m387s\u001b[0m 193ms/step - accuracy: 0.6357 - loss: 0.2040\n",
      "Epoch 6/15\n",
      "\u001b[1m2005/2005\u001b[0m \u001b[32m━━━━━━━━━━━━━━━━━━━━\u001b[0m\u001b[37m\u001b[0m \u001b[1m387s\u001b[0m 193ms/step - accuracy: 0.6340 - loss: 0.1922\n",
      "Epoch 7/15\n",
      "\u001b[1m2005/2005\u001b[0m \u001b[32m━━━━━━━━━━━━━━━━━━━━\u001b[0m\u001b[37m\u001b[0m \u001b[1m439s\u001b[0m 219ms/step - accuracy: 0.6430 - loss: 0.1825\n",
      "Epoch 8/15\n",
      "\u001b[1m2005/2005\u001b[0m \u001b[32m━━━━━━━━━━━━━━━━━━━━\u001b[0m\u001b[37m\u001b[0m \u001b[1m446s\u001b[0m 222ms/step - accuracy: 0.6461 - loss: 0.1725\n",
      "Epoch 9/15\n",
      "\u001b[1m2005/2005\u001b[0m \u001b[32m━━━━━━━━━━━━━━━━━━━━\u001b[0m\u001b[37m\u001b[0m \u001b[1m448s\u001b[0m 223ms/step - accuracy: 0.6482 - loss: 0.1649\n",
      "Epoch 10/15\n",
      "\u001b[1m2005/2005\u001b[0m \u001b[32m━━━━━━━━━━━━━━━━━━━━\u001b[0m\u001b[37m\u001b[0m \u001b[1m447s\u001b[0m 223ms/step - accuracy: 0.6440 - loss: 0.1571\n",
      "Epoch 11/15\n",
      "\u001b[1m2005/2005\u001b[0m \u001b[32m━━━━━━━━━━━━━━━━━━━━\u001b[0m\u001b[37m\u001b[0m \u001b[1m447s\u001b[0m 223ms/step - accuracy: 0.6529 - loss: 0.1494\n",
      "Epoch 12/15\n",
      "\u001b[1m2005/2005\u001b[0m \u001b[32m━━━━━━━━━━━━━━━━━━━━\u001b[0m\u001b[37m\u001b[0m \u001b[1m448s\u001b[0m 223ms/step - accuracy: 0.6482 - loss: 0.1425\n",
      "Epoch 13/15\n",
      "\u001b[1m2005/2005\u001b[0m \u001b[32m━━━━━━━━━━━━━━━━━━━━\u001b[0m\u001b[37m\u001b[0m \u001b[1m447s\u001b[0m 223ms/step - accuracy: 0.6504 - loss: 0.1367\n",
      "Epoch 14/15\n",
      "\u001b[1m2005/2005\u001b[0m \u001b[32m━━━━━━━━━━━━━━━━━━━━\u001b[0m\u001b[37m\u001b[0m \u001b[1m447s\u001b[0m 223ms/step - accuracy: 0.6461 - loss: 0.1307\n",
      "Epoch 15/15\n",
      "\u001b[1m2005/2005\u001b[0m \u001b[32m━━━━━━━━━━━━━━━━━━━━\u001b[0m\u001b[37m\u001b[0m \u001b[1m447s\u001b[0m 223ms/step - accuracy: 0.6519 - loss: 0.1255\n"
     ]
    }
   ],
   "source": [
    "print('Дообучение дополнительных 15 эпох модели')\n",
    "print(f'model training: {model2.name}')\n",
    "history_2 = model2.fit(train_dataset, batch_size=256, epochs=15)"
   ]
  },
  {
   "cell_type": "code",
   "execution_count": 34,
   "id": "eece1137-da8f-47d9-97f2-14d89375ebac",
   "metadata": {},
   "outputs": [
    {
     "name": "stdout",
     "output_type": "stream",
     "text": [
      "------------------------------\n",
      "Веса модели 30_new_attention_LSTM_Seq2Seq сохранены\n"
     ]
    }
   ],
   "source": [
    "print('-'*30)\n",
    "model2.save_weights(f'30_new_attention_LSTM_{model2.name}.weights.h5')\n",
    "print(f'Веса модели 30_new_attention_LSTM_{model2.name} сохранены')"
   ]
  },
  {
   "cell_type": "markdown",
   "id": "531ec0af-5fa8-4b08-a263-e32e86680e7f",
   "metadata": {},
   "source": [
    "---"
   ]
  },
  {
   "cell_type": "code",
   "execution_count": 118,
   "id": "d0daa45b-d033-4d80-90be-690ee75f2686",
   "metadata": {},
   "outputs": [
    {
     "data": {
      "text/html": [
       "<pre style=\"white-space:pre;overflow-x:auto;line-height:normal;font-family:Menlo,'DejaVu Sans Mono',consolas,'Courier New',monospace\"><span style=\"font-weight: bold\">Model: \"Seq2Seq_attention_GRUCell\"</span>\n",
       "</pre>\n"
      ],
      "text/plain": [
       "\u001b[1mModel: \"Seq2Seq_attention_GRUCell\"\u001b[0m\n"
      ]
     },
     "metadata": {},
     "output_type": "display_data"
    },
    {
     "data": {
      "text/html": [
       "<pre style=\"white-space:pre;overflow-x:auto;line-height:normal;font-family:Menlo,'DejaVu Sans Mono',consolas,'Courier New',monospace\">┏━━━━━━━━━━━━━━━━━━━━━┳━━━━━━━━━━━━━━━━━━━┳━━━━━━━━━━━━┳━━━━━━━━━━━━━━━━━━━┓\n",
       "┃<span style=\"font-weight: bold\"> Layer (type)        </span>┃<span style=\"font-weight: bold\"> Output Shape      </span>┃<span style=\"font-weight: bold\">    Param # </span>┃<span style=\"font-weight: bold\"> Connected to      </span>┃\n",
       "┡━━━━━━━━━━━━━━━━━━━━━╇━━━━━━━━━━━━━━━━━━━╇━━━━━━━━━━━━╇━━━━━━━━━━━━━━━━━━━┩\n",
       "│ Seq2Seq_attention_… │ (<span style=\"color: #00d7ff; text-decoration-color: #00d7ff\">None</span>, <span style=\"color: #00d7ff; text-decoration-color: #00d7ff\">None</span>)      │          <span style=\"color: #00af00; text-decoration-color: #00af00\">0</span> │ -                 │\n",
       "│ (<span style=\"color: #0087ff; text-decoration-color: #0087ff\">InputLayer</span>)        │                   │            │                   │\n",
       "├─────────────────────┼───────────────────┼────────────┼───────────────────┤\n",
       "│ Seq2Seq_attention_… │ (<span style=\"color: #00d7ff; text-decoration-color: #00d7ff\">None</span>, <span style=\"color: #00d7ff; text-decoration-color: #00d7ff\">None</span>, <span style=\"color: #00af00; text-decoration-color: #00af00\">128</span>) │  <span style=\"color: #00af00; text-decoration-color: #00af00\">6,432,896</span> │ Seq2Seq_attentio… │\n",
       "│ (<span style=\"color: #0087ff; text-decoration-color: #0087ff\">Embedding</span>)         │                   │            │                   │\n",
       "├─────────────────────┼───────────────────┼────────────┼───────────────────┤\n",
       "│ Seq2Seq_attention_… │ (<span style=\"color: #00d7ff; text-decoration-color: #00d7ff\">None</span>, <span style=\"color: #00d7ff; text-decoration-color: #00d7ff\">None</span>)      │          <span style=\"color: #00af00; text-decoration-color: #00af00\">0</span> │ -                 │\n",
       "│ (<span style=\"color: #0087ff; text-decoration-color: #0087ff\">InputLayer</span>)        │                   │            │                   │\n",
       "├─────────────────────┼───────────────────┼────────────┼───────────────────┤\n",
       "│ Seq2Seq_attention_… │ [(<span style=\"color: #00d7ff; text-decoration-color: #00d7ff\">None</span>, <span style=\"color: #00d7ff; text-decoration-color: #00d7ff\">None</span>,     │    <span style=\"color: #00af00; text-decoration-color: #00af00\">792,576</span> │ Seq2Seq_attentio… │\n",
       "│ (<span style=\"color: #0087ff; text-decoration-color: #0087ff\">Bidirectional</span>)     │ <span style=\"color: #00af00; text-decoration-color: #00af00\">256</span>), (<span style=\"color: #00d7ff; text-decoration-color: #00d7ff\">None</span>,      │            │                   │\n",
       "│                     │ <span style=\"color: #00af00; text-decoration-color: #00af00\">128</span>), (<span style=\"color: #00d7ff; text-decoration-color: #00d7ff\">None</span>,      │            │                   │\n",
       "│                     │ <span style=\"color: #00af00; text-decoration-color: #00af00\">128</span>), (<span style=\"color: #00d7ff; text-decoration-color: #00d7ff\">None</span>,      │            │                   │\n",
       "│                     │ <span style=\"color: #00af00; text-decoration-color: #00af00\">128</span>), (<span style=\"color: #00d7ff; text-decoration-color: #00d7ff\">None</span>,      │            │                   │\n",
       "│                     │ <span style=\"color: #00af00; text-decoration-color: #00af00\">128</span>), (<span style=\"color: #00d7ff; text-decoration-color: #00d7ff\">None</span>,      │            │                   │\n",
       "│                     │ <span style=\"color: #00af00; text-decoration-color: #00af00\">128</span>), (<span style=\"color: #00d7ff; text-decoration-color: #00d7ff\">None</span>,      │            │                   │\n",
       "│                     │ <span style=\"color: #00af00; text-decoration-color: #00af00\">128</span>), (<span style=\"color: #00d7ff; text-decoration-color: #00d7ff\">None</span>,      │            │                   │\n",
       "│                     │ <span style=\"color: #00af00; text-decoration-color: #00af00\">128</span>), (<span style=\"color: #00d7ff; text-decoration-color: #00d7ff\">None</span>,      │            │                   │\n",
       "│                     │ <span style=\"color: #00af00; text-decoration-color: #00af00\">128</span>)]             │            │                   │\n",
       "├─────────────────────┼───────────────────┼────────────┼───────────────────┤\n",
       "│ Seq2Seq_attention_… │ (<span style=\"color: #00d7ff; text-decoration-color: #00d7ff\">None</span>, <span style=\"color: #00d7ff; text-decoration-color: #00d7ff\">None</span>, <span style=\"color: #00af00; text-decoration-color: #00af00\">128</span>) │  <span style=\"color: #00af00; text-decoration-color: #00af00\">6,432,896</span> │ Seq2Seq_attentio… │\n",
       "│ (<span style=\"color: #0087ff; text-decoration-color: #0087ff\">Embedding</span>)         │                   │            │                   │\n",
       "├─────────────────────┼───────────────────┼────────────┼───────────────────┤\n",
       "│ concatenate_38      │ (<span style=\"color: #00d7ff; text-decoration-color: #00d7ff\">None</span>, <span style=\"color: #00af00; text-decoration-color: #00af00\">256</span>)       │          <span style=\"color: #00af00; text-decoration-color: #00af00\">0</span> │ Seq2Seq_attentio… │\n",
       "│ (<span style=\"color: #0087ff; text-decoration-color: #0087ff\">Concatenate</span>)       │                   │            │ Seq2Seq_attentio… │\n",
       "├─────────────────────┼───────────────────┼────────────┼───────────────────┤\n",
       "│ concatenate_39      │ (<span style=\"color: #00d7ff; text-decoration-color: #00d7ff\">None</span>, <span style=\"color: #00af00; text-decoration-color: #00af00\">256</span>)       │          <span style=\"color: #00af00; text-decoration-color: #00af00\">0</span> │ Seq2Seq_attentio… │\n",
       "│ (<span style=\"color: #0087ff; text-decoration-color: #0087ff\">Concatenate</span>)       │                   │            │ Seq2Seq_attentio… │\n",
       "├─────────────────────┼───────────────────┼────────────┼───────────────────┤\n",
       "│ concatenate_40      │ (<span style=\"color: #00d7ff; text-decoration-color: #00d7ff\">None</span>, <span style=\"color: #00af00; text-decoration-color: #00af00\">256</span>)       │          <span style=\"color: #00af00; text-decoration-color: #00af00\">0</span> │ Seq2Seq_attentio… │\n",
       "│ (<span style=\"color: #0087ff; text-decoration-color: #0087ff\">Concatenate</span>)       │                   │            │ Seq2Seq_attentio… │\n",
       "├─────────────────────┼───────────────────┼────────────┼───────────────────┤\n",
       "│ concatenate_41      │ (<span style=\"color: #00d7ff; text-decoration-color: #00d7ff\">None</span>, <span style=\"color: #00af00; text-decoration-color: #00af00\">256</span>)       │          <span style=\"color: #00af00; text-decoration-color: #00af00\">0</span> │ Seq2Seq_attentio… │\n",
       "│ (<span style=\"color: #0087ff; text-decoration-color: #0087ff\">Concatenate</span>)       │                   │            │ Seq2Seq_attentio… │\n",
       "├─────────────────────┼───────────────────┼────────────┼───────────────────┤\n",
       "│ Seq2Seq_attention_… │ (<span style=\"color: #00d7ff; text-decoration-color: #00d7ff\">None</span>, <span style=\"color: #00d7ff; text-decoration-color: #00d7ff\">None</span>, <span style=\"color: #00af00; text-decoration-color: #00af00\">256</span>) │  <span style=\"color: #00af00; text-decoration-color: #00af00\">1,480,704</span> │ Seq2Seq_attentio… │\n",
       "│ (<span style=\"color: #0087ff; text-decoration-color: #0087ff\">RNN</span>)               │                   │            │ concatenate_38[<span style=\"color: #00af00; text-decoration-color: #00af00\">0</span>… │\n",
       "│                     │                   │            │ concatenate_39[<span style=\"color: #00af00; text-decoration-color: #00af00\">0</span>… │\n",
       "│                     │                   │            │ concatenate_40[<span style=\"color: #00af00; text-decoration-color: #00af00\">0</span>… │\n",
       "│                     │                   │            │ concatenate_41[<span style=\"color: #00af00; text-decoration-color: #00af00\">0</span>… │\n",
       "├─────────────────────┼───────────────────┼────────────┼───────────────────┤\n",
       "│ Seq2Seq_attention_… │ (<span style=\"color: #00d7ff; text-decoration-color: #00d7ff\">None</span>, <span style=\"color: #00d7ff; text-decoration-color: #00d7ff\">None</span>, <span style=\"color: #00af00; text-decoration-color: #00af00\">256</span>) │        <span style=\"color: #00af00; text-decoration-color: #00af00\">256</span> │ Seq2Seq_attentio… │\n",
       "│ (<span style=\"color: #0087ff; text-decoration-color: #0087ff\">AdditiveAttention</span>) │                   │            │ Seq2Seq_attentio… │\n",
       "├─────────────────────┼───────────────────┼────────────┼───────────────────┤\n",
       "│ Seq2Seq_attention_… │ (<span style=\"color: #00d7ff; text-decoration-color: #00d7ff\">None</span>, <span style=\"color: #00d7ff; text-decoration-color: #00d7ff\">None</span>, <span style=\"color: #00af00; text-decoration-color: #00af00\">512</span>) │          <span style=\"color: #00af00; text-decoration-color: #00af00\">0</span> │ Seq2Seq_attentio… │\n",
       "│ (<span style=\"color: #0087ff; text-decoration-color: #0087ff\">Concatenate</span>)       │                   │            │ Seq2Seq_attentio… │\n",
       "├─────────────────────┼───────────────────┼────────────┼───────────────────┤\n",
       "│ Seq2Seq_attention_… │ (<span style=\"color: #00d7ff; text-decoration-color: #00d7ff\">None</span>, <span style=\"color: #00d7ff; text-decoration-color: #00d7ff\">None</span>,      │ <span style=\"color: #00af00; text-decoration-color: #00af00\">25,781,841</span> │ Seq2Seq_attentio… │\n",
       "│ (<span style=\"color: #0087ff; text-decoration-color: #0087ff\">Dense</span>)             │ <span style=\"color: #00af00; text-decoration-color: #00af00\">50257</span>)            │            │                   │\n",
       "└─────────────────────┴───────────────────┴────────────┴───────────────────┘\n",
       "</pre>\n"
      ],
      "text/plain": [
       "┏━━━━━━━━━━━━━━━━━━━━━┳━━━━━━━━━━━━━━━━━━━┳━━━━━━━━━━━━┳━━━━━━━━━━━━━━━━━━━┓\n",
       "┃\u001b[1m \u001b[0m\u001b[1mLayer (type)       \u001b[0m\u001b[1m \u001b[0m┃\u001b[1m \u001b[0m\u001b[1mOutput Shape     \u001b[0m\u001b[1m \u001b[0m┃\u001b[1m \u001b[0m\u001b[1m   Param #\u001b[0m\u001b[1m \u001b[0m┃\u001b[1m \u001b[0m\u001b[1mConnected to     \u001b[0m\u001b[1m \u001b[0m┃\n",
       "┡━━━━━━━━━━━━━━━━━━━━━╇━━━━━━━━━━━━━━━━━━━╇━━━━━━━━━━━━╇━━━━━━━━━━━━━━━━━━━┩\n",
       "│ Seq2Seq_attention_… │ (\u001b[38;5;45mNone\u001b[0m, \u001b[38;5;45mNone\u001b[0m)      │          \u001b[38;5;34m0\u001b[0m │ -                 │\n",
       "│ (\u001b[38;5;33mInputLayer\u001b[0m)        │                   │            │                   │\n",
       "├─────────────────────┼───────────────────┼────────────┼───────────────────┤\n",
       "│ Seq2Seq_attention_… │ (\u001b[38;5;45mNone\u001b[0m, \u001b[38;5;45mNone\u001b[0m, \u001b[38;5;34m128\u001b[0m) │  \u001b[38;5;34m6,432,896\u001b[0m │ Seq2Seq_attentio… │\n",
       "│ (\u001b[38;5;33mEmbedding\u001b[0m)         │                   │            │                   │\n",
       "├─────────────────────┼───────────────────┼────────────┼───────────────────┤\n",
       "│ Seq2Seq_attention_… │ (\u001b[38;5;45mNone\u001b[0m, \u001b[38;5;45mNone\u001b[0m)      │          \u001b[38;5;34m0\u001b[0m │ -                 │\n",
       "│ (\u001b[38;5;33mInputLayer\u001b[0m)        │                   │            │                   │\n",
       "├─────────────────────┼───────────────────┼────────────┼───────────────────┤\n",
       "│ Seq2Seq_attention_… │ [(\u001b[38;5;45mNone\u001b[0m, \u001b[38;5;45mNone\u001b[0m,     │    \u001b[38;5;34m792,576\u001b[0m │ Seq2Seq_attentio… │\n",
       "│ (\u001b[38;5;33mBidirectional\u001b[0m)     │ \u001b[38;5;34m256\u001b[0m), (\u001b[38;5;45mNone\u001b[0m,      │            │                   │\n",
       "│                     │ \u001b[38;5;34m128\u001b[0m), (\u001b[38;5;45mNone\u001b[0m,      │            │                   │\n",
       "│                     │ \u001b[38;5;34m128\u001b[0m), (\u001b[38;5;45mNone\u001b[0m,      │            │                   │\n",
       "│                     │ \u001b[38;5;34m128\u001b[0m), (\u001b[38;5;45mNone\u001b[0m,      │            │                   │\n",
       "│                     │ \u001b[38;5;34m128\u001b[0m), (\u001b[38;5;45mNone\u001b[0m,      │            │                   │\n",
       "│                     │ \u001b[38;5;34m128\u001b[0m), (\u001b[38;5;45mNone\u001b[0m,      │            │                   │\n",
       "│                     │ \u001b[38;5;34m128\u001b[0m), (\u001b[38;5;45mNone\u001b[0m,      │            │                   │\n",
       "│                     │ \u001b[38;5;34m128\u001b[0m), (\u001b[38;5;45mNone\u001b[0m,      │            │                   │\n",
       "│                     │ \u001b[38;5;34m128\u001b[0m)]             │            │                   │\n",
       "├─────────────────────┼───────────────────┼────────────┼───────────────────┤\n",
       "│ Seq2Seq_attention_… │ (\u001b[38;5;45mNone\u001b[0m, \u001b[38;5;45mNone\u001b[0m, \u001b[38;5;34m128\u001b[0m) │  \u001b[38;5;34m6,432,896\u001b[0m │ Seq2Seq_attentio… │\n",
       "│ (\u001b[38;5;33mEmbedding\u001b[0m)         │                   │            │                   │\n",
       "├─────────────────────┼───────────────────┼────────────┼───────────────────┤\n",
       "│ concatenate_38      │ (\u001b[38;5;45mNone\u001b[0m, \u001b[38;5;34m256\u001b[0m)       │          \u001b[38;5;34m0\u001b[0m │ Seq2Seq_attentio… │\n",
       "│ (\u001b[38;5;33mConcatenate\u001b[0m)       │                   │            │ Seq2Seq_attentio… │\n",
       "├─────────────────────┼───────────────────┼────────────┼───────────────────┤\n",
       "│ concatenate_39      │ (\u001b[38;5;45mNone\u001b[0m, \u001b[38;5;34m256\u001b[0m)       │          \u001b[38;5;34m0\u001b[0m │ Seq2Seq_attentio… │\n",
       "│ (\u001b[38;5;33mConcatenate\u001b[0m)       │                   │            │ Seq2Seq_attentio… │\n",
       "├─────────────────────┼───────────────────┼────────────┼───────────────────┤\n",
       "│ concatenate_40      │ (\u001b[38;5;45mNone\u001b[0m, \u001b[38;5;34m256\u001b[0m)       │          \u001b[38;5;34m0\u001b[0m │ Seq2Seq_attentio… │\n",
       "│ (\u001b[38;5;33mConcatenate\u001b[0m)       │                   │            │ Seq2Seq_attentio… │\n",
       "├─────────────────────┼───────────────────┼────────────┼───────────────────┤\n",
       "│ concatenate_41      │ (\u001b[38;5;45mNone\u001b[0m, \u001b[38;5;34m256\u001b[0m)       │          \u001b[38;5;34m0\u001b[0m │ Seq2Seq_attentio… │\n",
       "│ (\u001b[38;5;33mConcatenate\u001b[0m)       │                   │            │ Seq2Seq_attentio… │\n",
       "├─────────────────────┼───────────────────┼────────────┼───────────────────┤\n",
       "│ Seq2Seq_attention_… │ (\u001b[38;5;45mNone\u001b[0m, \u001b[38;5;45mNone\u001b[0m, \u001b[38;5;34m256\u001b[0m) │  \u001b[38;5;34m1,480,704\u001b[0m │ Seq2Seq_attentio… │\n",
       "│ (\u001b[38;5;33mRNN\u001b[0m)               │                   │            │ concatenate_38[\u001b[38;5;34m0\u001b[0m… │\n",
       "│                     │                   │            │ concatenate_39[\u001b[38;5;34m0\u001b[0m… │\n",
       "│                     │                   │            │ concatenate_40[\u001b[38;5;34m0\u001b[0m… │\n",
       "│                     │                   │            │ concatenate_41[\u001b[38;5;34m0\u001b[0m… │\n",
       "├─────────────────────┼───────────────────┼────────────┼───────────────────┤\n",
       "│ Seq2Seq_attention_… │ (\u001b[38;5;45mNone\u001b[0m, \u001b[38;5;45mNone\u001b[0m, \u001b[38;5;34m256\u001b[0m) │        \u001b[38;5;34m256\u001b[0m │ Seq2Seq_attentio… │\n",
       "│ (\u001b[38;5;33mAdditiveAttention\u001b[0m) │                   │            │ Seq2Seq_attentio… │\n",
       "├─────────────────────┼───────────────────┼────────────┼───────────────────┤\n",
       "│ Seq2Seq_attention_… │ (\u001b[38;5;45mNone\u001b[0m, \u001b[38;5;45mNone\u001b[0m, \u001b[38;5;34m512\u001b[0m) │          \u001b[38;5;34m0\u001b[0m │ Seq2Seq_attentio… │\n",
       "│ (\u001b[38;5;33mConcatenate\u001b[0m)       │                   │            │ Seq2Seq_attentio… │\n",
       "├─────────────────────┼───────────────────┼────────────┼───────────────────┤\n",
       "│ Seq2Seq_attention_… │ (\u001b[38;5;45mNone\u001b[0m, \u001b[38;5;45mNone\u001b[0m,      │ \u001b[38;5;34m25,781,841\u001b[0m │ Seq2Seq_attentio… │\n",
       "│ (\u001b[38;5;33mDense\u001b[0m)             │ \u001b[38;5;34m50257\u001b[0m)            │            │                   │\n",
       "└─────────────────────┴───────────────────┴────────────┴───────────────────┘\n"
      ]
     },
     "metadata": {},
     "output_type": "display_data"
    },
    {
     "data": {
      "text/html": [
       "<pre style=\"white-space:pre;overflow-x:auto;line-height:normal;font-family:Menlo,'DejaVu Sans Mono',consolas,'Courier New',monospace\"><span style=\"font-weight: bold\"> Total params: </span><span style=\"color: #00af00; text-decoration-color: #00af00\">40,921,169</span> (156.10 MB)\n",
       "</pre>\n"
      ],
      "text/plain": [
       "\u001b[1m Total params: \u001b[0m\u001b[38;5;34m40,921,169\u001b[0m (156.10 MB)\n"
      ]
     },
     "metadata": {},
     "output_type": "display_data"
    },
    {
     "data": {
      "text/html": [
       "<pre style=\"white-space:pre;overflow-x:auto;line-height:normal;font-family:Menlo,'DejaVu Sans Mono',consolas,'Courier New',monospace\"><span style=\"font-weight: bold\"> Trainable params: </span><span style=\"color: #00af00; text-decoration-color: #00af00\">40,921,169</span> (156.10 MB)\n",
       "</pre>\n"
      ],
      "text/plain": [
       "\u001b[1m Trainable params: \u001b[0m\u001b[38;5;34m40,921,169\u001b[0m (156.10 MB)\n"
      ]
     },
     "metadata": {},
     "output_type": "display_data"
    },
    {
     "data": {
      "text/html": [
       "<pre style=\"white-space:pre;overflow-x:auto;line-height:normal;font-family:Menlo,'DejaVu Sans Mono',consolas,'Courier New',monospace\"><span style=\"font-weight: bold\"> Non-trainable params: </span><span style=\"color: #00af00; text-decoration-color: #00af00\">0</span> (0.00 B)\n",
       "</pre>\n"
      ],
      "text/plain": [
       "\u001b[1m Non-trainable params: \u001b[0m\u001b[38;5;34m0\u001b[0m (0.00 B)\n"
      ]
     },
     "metadata": {},
     "output_type": "display_data"
    }
   ],
   "source": [
    "model3 = get_model(128,\n",
    "                   tokenizer.vocab_size,\n",
    "                   tokenizer.vocab_size,\n",
    "                   n_stacks=4,\n",
    "                   bidirectional=True,\n",
    "                   name='Seq2Seq_attention_GRUCell',\n",
    "                   cell_type=tf.keras.layers.GRUCell,\n",
    "                   attention_flg=True\n",
    ")\n",
    "\n",
    "model3.summary()"
   ]
  },
  {
   "cell_type": "code",
   "execution_count": 119,
   "id": "dfce1dcb-3cef-44dd-bbf9-97533673629d",
   "metadata": {},
   "outputs": [],
   "source": [
    "model3.compile(\n",
    "    loss=tf.keras.losses.SparseCategoricalCrossentropy(from_logits=True),\n",
    "    optimizer=keras.optimizers.Adam(learning_rate=0.001),\n",
    "    metrics=['accuracy']\n",
    ")"
   ]
  },
  {
   "cell_type": "code",
   "execution_count": 37,
   "id": "5680457d-0e59-428c-a35f-c18e07f3f643",
   "metadata": {
    "scrolled": true
   },
   "outputs": [
    {
     "name": "stdout",
     "output_type": "stream",
     "text": [
      "model training: Seq2Seq_attention_GRUCell\n",
      "Epoch 1/15\n"
     ]
    },
    {
     "name": "stderr",
     "output_type": "stream",
     "text": [
      "W0000 00:00:1731000000.546222   37219 assert_op.cc:38] Ignoring Assert operator compile_loss/sparse_categorical_crossentropy/SparseSoftmaxCrossEntropyWithLogits/assert_equal_1/Assert/Assert\n",
      "I0000 00:00:1731000001.852334   97356 asm_compiler.cc:369] ptxas warning : Registers are spilled to local memory in function 'triton_gemm_dot_488', 4 bytes spill stores, 4 bytes spill loads\n",
      "\n",
      "I0000 00:00:1731000002.680821   97362 asm_compiler.cc:369] ptxas warning : Registers are spilled to local memory in function 'triton_gemm_dot_488', 112 bytes spill stores, 112 bytes spill loads\n",
      "\n",
      "I0000 00:00:1731000003.363254   97361 asm_compiler.cc:369] ptxas warning : Registers are spilled to local memory in function 'triton_gemm_dot_472', 116 bytes spill stores, 116 bytes spill loads\n",
      "\n",
      "I0000 00:00:1731000003.528791   97364 asm_compiler.cc:369] ptxas warning : Registers are spilled to local memory in function 'triton_gemm_dot', 128 bytes spill stores, 128 bytes spill loads\n",
      "\n",
      "I0000 00:00:1731000003.552923   97354 asm_compiler.cc:369] ptxas warning : Registers are spilled to local memory in function 'triton_gemm_dot_475', 4 bytes spill stores, 4 bytes spill loads\n",
      "\n",
      "I0000 00:00:1731000003.965203   97363 asm_compiler.cc:369] ptxas warning : Registers are spilled to local memory in function 'triton_gemm_dot_475', 112 bytes spill stores, 112 bytes spill loads\n",
      "\n"
     ]
    },
    {
     "name": "stdout",
     "output_type": "stream",
     "text": [
      "\u001b[1m2004/2005\u001b[0m \u001b[32m━━━━━━━━━━━━━━━━━━━\u001b[0m\u001b[37m━\u001b[0m \u001b[1m0s\u001b[0m 139ms/step - accuracy: 0.4927 - loss: 2.7459"
     ]
    },
    {
     "name": "stderr",
     "output_type": "stream",
     "text": [
      "W0000 00:00:1731000287.587403   37217 assert_op.cc:38] Ignoring Assert operator compile_loss/sparse_categorical_crossentropy/SparseSoftmaxCrossEntropyWithLogits/assert_equal_1/Assert/Assert\n",
      "I0000 00:00:1731000289.279472   98595 asm_compiler.cc:369] ptxas warning : Registers are spilled to local memory in function 'triton_gemm_dot_475', 116 bytes spill stores, 116 bytes spill loads\n",
      "\n",
      "I0000 00:00:1731000289.410082   98597 asm_compiler.cc:369] ptxas warning : Registers are spilled to local memory in function 'triton_gemm_dot', 28 bytes spill stores, 28 bytes spill loads\n",
      "\n",
      "I0000 00:00:1731000289.761581   98588 asm_compiler.cc:369] ptxas warning : Registers are spilled to local memory in function 'triton_gemm_dot_475', 8 bytes spill stores, 8 bytes spill loads\n",
      "\n",
      "I0000 00:00:1731000289.787169   98601 asm_compiler.cc:369] ptxas warning : Registers are spilled to local memory in function 'triton_gemm_dot', 4 bytes spill stores, 4 bytes spill loads\n",
      "\n",
      "I0000 00:00:1731000290.311107   98594 asm_compiler.cc:369] ptxas warning : Registers are spilled to local memory in function 'triton_gemm_dot_488', 116 bytes spill stores, 116 bytes spill loads\n",
      "\n",
      "I0000 00:00:1731000291.514149   98591 asm_compiler.cc:369] ptxas warning : Registers are spilled to local memory in function 'triton_gemm_dot_472', 116 bytes spill stores, 116 bytes spill loads\n",
      "\n"
     ]
    },
    {
     "name": "stdout",
     "output_type": "stream",
     "text": [
      "\u001b[1m2005/2005\u001b[0m \u001b[32m━━━━━━━━━━━━━━━━━━━━\u001b[0m\u001b[37m\u001b[0m \u001b[1m304s\u001b[0m 143ms/step - accuracy: 0.4928 - loss: 2.7453\n",
      "Epoch 2/15\n",
      "\u001b[1m2005/2005\u001b[0m \u001b[32m━━━━━━━━━━━━━━━━━━━━\u001b[0m\u001b[37m\u001b[0m \u001b[1m282s\u001b[0m 141ms/step - accuracy: 0.6504 - loss: 1.4874\n",
      "Epoch 3/15\n",
      "\u001b[1m2005/2005\u001b[0m \u001b[32m━━━━━━━━━━━━━━━━━━━━\u001b[0m\u001b[37m\u001b[0m \u001b[1m283s\u001b[0m 141ms/step - accuracy: 0.5592 - loss: 1.1661\n",
      "Epoch 4/15\n",
      "\u001b[1m2005/2005\u001b[0m \u001b[32m━━━━━━━━━━━━━━━━━━━━\u001b[0m\u001b[37m\u001b[0m \u001b[1m282s\u001b[0m 141ms/step - accuracy: 0.5272 - loss: 0.9871\n",
      "Epoch 5/15\n",
      "\u001b[1m2005/2005\u001b[0m \u001b[32m━━━━━━━━━━━━━━━━━━━━\u001b[0m\u001b[37m\u001b[0m \u001b[1m284s\u001b[0m 141ms/step - accuracy: 0.5313 - loss: 0.8734\n",
      "Epoch 6/15\n",
      "\u001b[1m2005/2005\u001b[0m \u001b[32m━━━━━━━━━━━━━━━━━━━━\u001b[0m\u001b[37m\u001b[0m \u001b[1m284s\u001b[0m 142ms/step - accuracy: 0.5581 - loss: 0.7947\n",
      "Epoch 7/15\n",
      "\u001b[1m2005/2005\u001b[0m \u001b[32m━━━━━━━━━━━━━━━━━━━━\u001b[0m\u001b[37m\u001b[0m \u001b[1m283s\u001b[0m 141ms/step - accuracy: 0.5620 - loss: 0.7379\n",
      "Epoch 8/15\n",
      "\u001b[1m2005/2005\u001b[0m \u001b[32m━━━━━━━━━━━━━━━━━━━━\u001b[0m\u001b[37m\u001b[0m \u001b[1m283s\u001b[0m 141ms/step - accuracy: 0.5624 - loss: 0.6966\n",
      "Epoch 9/15\n",
      "\u001b[1m2005/2005\u001b[0m \u001b[32m━━━━━━━━━━━━━━━━━━━━\u001b[0m\u001b[37m\u001b[0m \u001b[1m283s\u001b[0m 141ms/step - accuracy: 0.5737 - loss: 0.6638\n",
      "Epoch 10/15\n",
      "\u001b[1m2005/2005\u001b[0m \u001b[32m━━━━━━━━━━━━━━━━━━━━\u001b[0m\u001b[37m\u001b[0m \u001b[1m282s\u001b[0m 141ms/step - accuracy: 0.5669 - loss: 0.6360\n",
      "Epoch 11/15\n",
      "\u001b[1m2005/2005\u001b[0m \u001b[32m━━━━━━━━━━━━━━━━━━━━\u001b[0m\u001b[37m\u001b[0m \u001b[1m284s\u001b[0m 141ms/step - accuracy: 0.5642 - loss: 0.6123\n",
      "Epoch 12/15\n",
      "\u001b[1m2005/2005\u001b[0m \u001b[32m━━━━━━━━━━━━━━━━━━━━\u001b[0m\u001b[37m\u001b[0m \u001b[1m283s\u001b[0m 141ms/step - accuracy: 0.5728 - loss: 0.5916\n",
      "Epoch 13/15\n",
      "\u001b[1m2005/2005\u001b[0m \u001b[32m━━━━━━━━━━━━━━━━━━━━\u001b[0m\u001b[37m\u001b[0m \u001b[1m283s\u001b[0m 141ms/step - accuracy: 0.5980 - loss: 0.5735\n",
      "Epoch 14/15\n",
      "\u001b[1m2005/2005\u001b[0m \u001b[32m━━━━━━━━━━━━━━━━━━━━\u001b[0m\u001b[37m\u001b[0m \u001b[1m283s\u001b[0m 141ms/step - accuracy: 0.6081 - loss: 0.5562\n",
      "Epoch 15/15\n",
      "\u001b[1m2005/2005\u001b[0m \u001b[32m━━━━━━━━━━━━━━━━━━━━\u001b[0m\u001b[37m\u001b[0m \u001b[1m282s\u001b[0m 141ms/step - accuracy: 0.6207 - loss: 0.5439\n"
     ]
    }
   ],
   "source": [
    "print(f'model training: {model3.name}')\n",
    "history_3 = model3.fit(train_dataset, batch_size=256, epochs=15)"
   ]
  },
  {
   "cell_type": "code",
   "execution_count": 39,
   "id": "e733ba0d-c105-4076-a731-2e8603363240",
   "metadata": {},
   "outputs": [
    {
     "name": "stdout",
     "output_type": "stream",
     "text": [
      "Дообучение дополнительных 15 эпох модели\n",
      "model training: Seq2Seq_attention_GRUCell\n",
      "Epoch 1/15\n",
      "\u001b[1m2005/2005\u001b[0m \u001b[32m━━━━━━━━━━━━━━━━━━━━\u001b[0m\u001b[37m\u001b[0m \u001b[1m283s\u001b[0m 141ms/step - accuracy: 0.6260 - loss: 0.5301\n",
      "Epoch 2/15\n",
      "\u001b[1m2005/2005\u001b[0m \u001b[32m━━━━━━━━━━━━━━━━━━━━\u001b[0m\u001b[37m\u001b[0m \u001b[1m284s\u001b[0m 141ms/step - accuracy: 0.6333 - loss: 0.5150\n",
      "Epoch 3/15\n",
      "\u001b[1m2005/2005\u001b[0m \u001b[32m━━━━━━━━━━━━━━━━━━━━\u001b[0m\u001b[37m\u001b[0m \u001b[1m284s\u001b[0m 141ms/step - accuracy: 0.6317 - loss: 0.5041\n",
      "Epoch 4/15\n",
      "\u001b[1m2005/2005\u001b[0m \u001b[32m━━━━━━━━━━━━━━━━━━━━\u001b[0m\u001b[37m\u001b[0m \u001b[1m284s\u001b[0m 141ms/step - accuracy: 0.6343 - loss: 0.4943\n",
      "Epoch 5/15\n",
      "\u001b[1m2005/2005\u001b[0m \u001b[32m━━━━━━━━━━━━━━━━━━━━\u001b[0m\u001b[37m\u001b[0m \u001b[1m282s\u001b[0m 140ms/step - accuracy: 0.6399 - loss: 0.4855\n",
      "Epoch 6/15\n",
      "\u001b[1m2005/2005\u001b[0m \u001b[32m━━━━━━━━━━━━━━━━━━━━\u001b[0m\u001b[37m\u001b[0m \u001b[1m282s\u001b[0m 141ms/step - accuracy: 0.6351 - loss: 0.4802\n",
      "Epoch 7/15\n",
      "\u001b[1m2005/2005\u001b[0m \u001b[32m━━━━━━━━━━━━━━━━━━━━\u001b[0m\u001b[37m\u001b[0m \u001b[1m284s\u001b[0m 142ms/step - accuracy: 0.6452 - loss: 0.4735\n",
      "Epoch 8/15\n",
      "\u001b[1m2005/2005\u001b[0m \u001b[32m━━━━━━━━━━━━━━━━━━━━\u001b[0m\u001b[37m\u001b[0m \u001b[1m284s\u001b[0m 142ms/step - accuracy: 0.6463 - loss: 0.4641\n",
      "Epoch 9/15\n",
      "\u001b[1m2005/2005\u001b[0m \u001b[32m━━━━━━━━━━━━━━━━━━━━\u001b[0m\u001b[37m\u001b[0m \u001b[1m283s\u001b[0m 141ms/step - accuracy: 0.6412 - loss: 0.4571\n",
      "Epoch 10/15\n",
      "\u001b[1m2005/2005\u001b[0m \u001b[32m━━━━━━━━━━━━━━━━━━━━\u001b[0m\u001b[37m\u001b[0m \u001b[1m282s\u001b[0m 141ms/step - accuracy: 0.6396 - loss: 0.4511\n",
      "Epoch 11/15\n",
      "\u001b[1m2005/2005\u001b[0m \u001b[32m━━━━━━━━━━━━━━━━━━━━\u001b[0m\u001b[37m\u001b[0m \u001b[1m281s\u001b[0m 140ms/step - accuracy: 0.6457 - loss: 0.4448\n",
      "Epoch 12/15\n",
      "\u001b[1m2005/2005\u001b[0m \u001b[32m━━━━━━━━━━━━━━━━━━━━\u001b[0m\u001b[37m\u001b[0m \u001b[1m282s\u001b[0m 141ms/step - accuracy: 0.6470 - loss: 0.4392\n",
      "Epoch 13/15\n",
      "\u001b[1m2005/2005\u001b[0m \u001b[32m━━━━━━━━━━━━━━━━━━━━\u001b[0m\u001b[37m\u001b[0m \u001b[1m284s\u001b[0m 141ms/step - accuracy: 0.6523 - loss: 0.4347\n",
      "Epoch 14/15\n",
      "\u001b[1m2005/2005\u001b[0m \u001b[32m━━━━━━━━━━━━━━━━━━━━\u001b[0m\u001b[37m\u001b[0m \u001b[1m283s\u001b[0m 141ms/step - accuracy: 0.6628 - loss: 0.4304\n",
      "Epoch 15/15\n",
      "\u001b[1m2005/2005\u001b[0m \u001b[32m━━━━━━━━━━━━━━━━━━━━\u001b[0m\u001b[37m\u001b[0m \u001b[1m283s\u001b[0m 141ms/step - accuracy: 0.6582 - loss: 0.4261\n"
     ]
    }
   ],
   "source": [
    "print('Дообучение дополнительных 15 эпох модели')\n",
    "print(f'model training: {model3.name}')\n",
    "history_3 = model3.fit(train_dataset, batch_size=256, epochs=15)"
   ]
  },
  {
   "cell_type": "code",
   "execution_count": 40,
   "id": "7eda9c00-dd55-4da4-af6d-df6041fea343",
   "metadata": {},
   "outputs": [
    {
     "name": "stdout",
     "output_type": "stream",
     "text": [
      "------------------------------\n",
      "Веса модели 30_new_Seq2Seq_attention_GRUCell сохранены\n"
     ]
    }
   ],
   "source": [
    "print('-'*30)\n",
    "model3.save_weights(f'30_new_{model3.name}.weights.h5')\n",
    "print(f'Веса модели 30_new_{model3.name} сохранены')"
   ]
  },
  {
   "cell_type": "markdown",
   "id": "7c96e4a0-7c9c-4d1c-97f6-a8d3846b4fde",
   "metadata": {},
   "source": [
    "# Testing"
   ]
  },
  {
   "cell_type": "markdown",
   "id": "8b7f3475-22b9-47b4-824c-7ebc758b75a2",
   "metadata": {},
   "source": [
    "Make a function for text translation. Translate some text and evaluate model performance."
   ]
  },
  {
   "cell_type": "markdown",
   "id": "602f831b-9ddd-4070-ba8f-b7b16bc26463",
   "metadata": {},
   "source": [
    "Take note that your model is set for training. During the inference process you will have to use parts of the model independently (including the RNN cells)."
   ]
  },
  {
   "cell_type": "code",
   "execution_count": 146,
   "id": "0a32f4dc-3c53-426d-bf67-35b1efe2bbe0",
   "metadata": {},
   "outputs": [],
   "source": [
    "def translate(\n",
    "    text: str,\n",
    "    tokenizer: Tokenizer,\n",
    "    model: keras.Model,\n",
    "    max_len: int = 20,\n",
    "    type_cell: str = 'LSTM',\n",
    "    name_model: str = 'Seq2Seq',\n",
    "    flg_attention: bool = True\n",
    ") -> str:\n",
    "    '''Predicts `text`translation using the `model`.\n",
    "\n",
    "    Arguments:\n",
    "        text: text to be translated\n",
    "        tokenizer: tokenizer to use\n",
    "        model: model ot use\n",
    "        max_len: maximum length of the prediction (in tokens)\n",
    "\n",
    "    Returns:\n",
    "        tranlated text'''\n",
    "\n",
    "    encorder_emm = model.get_layer(f'{name_model}_embedding_encoder')\n",
    "    encoder_rnn = model.get_layer(f'{name_model}_bidirectional')\n",
    "\n",
    "    input_seq =  tokenizer(text, return_tensors='np', add_special_tokens=False)['input_ids'].astype(np.int32)\n",
    "    encoder_outputs, *states = encoder_rnn(encorder_emm(input_seq))\n",
    "\n",
    "    if type_cell == 'LSTM':\n",
    "        forwards = states[len(states) // 2-1]\n",
    "        bacwards = states[len(states) - 1]\n",
    "        initial_state = [tf.keras.ops.concatenate([forwards[0], bacwards[0]], axis=-1),\n",
    "                         tf.keras.ops.concatenate([forwards[1], bacwards[1]], axis=-1),]\n",
    "        initial_state = [initial_state] * (len(states) // 2)\n",
    "    else:\n",
    "        forwards = states[len(states) // 2 - 1]\n",
    "        bacwards = states[len(states) - 1]\n",
    "        initial_state = [tf.keras.ops.concatenate([forwards[0], bacwards[0]], axis=-1)]\n",
    "        initial_state = initial_state * (len(states) // 2)\n",
    "        \n",
    "\n",
    "    target_seq = [tokenizer.pad_token_id]\n",
    "    \n",
    "    decoded_sentence = ''\n",
    "    \n",
    "    decoder_embedding = model.get_layer(f'{name_model}_embedding_decoder')\n",
    "    decoder_rnn = model.get_layer(f'{name_model}_rnn_decoder').cell\n",
    "    decoder_dance = model.get_layer(f'{name_model}_output')\n",
    "    if flg_attention:\n",
    "        attention_layer = model.get_layer(f'{name_model}_attention')\n",
    "        \n",
    "\n",
    "    states = initial_state\n",
    "    for _ in range(max_len):\n",
    "\n",
    "        embedding = decoder_embedding(np.array(target_seq[-1]))\n",
    "        rnn, *states = decoder_rnn(embedding, states)\n",
    "        states = states[0]\n",
    "        if flg_attention:\n",
    "            attention = attention_layer([rnn, encoder_outputs])[0]\n",
    "            rnn = tf.keras.ops.concatenate([rnn, attention], axis=-1)\n",
    "        \n",
    "        output = decoder_dance(rnn)\n",
    "        output_tokens = np.argmax(output.numpy(),axis=-1)[0]\n",
    "\n",
    "        sampled_word = tokenizer.decode(output_tokens)\n",
    "        \n",
    "        if output_tokens == tokenizer.pad_token_id:\n",
    "            break\n",
    "        else:\n",
    "            decoded_sentence += sampled_word\n",
    "        \n",
    "        target_seq[0] = output_tokens\n",
    "\n",
    "    return decoded_sentence.strip()"
   ]
  },
  {
   "cell_type": "code",
   "execution_count": 121,
   "id": "ab0cba1a-af73-4341-a5e8-5e898b564ee5",
   "metadata": {},
   "outputs": [
    {
     "name": "stdout",
     "output_type": "stream",
     "text": [
      "Веса модели 30_new_LSTM_Seq2Seq загружены\n",
      "Веса модели 30_new_attention_LSTM_Seq2Seq загружены\n",
      "Веса модели 30_new_Seq2Seq_attention_GRUCell загружены\n"
     ]
    },
    {
     "name": "stderr",
     "output_type": "stream",
     "text": [
      "/home/dron46/anaconda3/envs/tf/lib/python3.10/site-packages/keras/src/saving/saving_lib.py:719: UserWarning: Skipping variable loading for optimizer 'adam', because it has 2 variables whereas the saved optimizer has 84 variables. \n",
      "  saveable.load_own_variables(weights_store.get(inner_path))\n"
     ]
    }
   ],
   "source": [
    "model1.load_weights(f'30_new_LSTM_{model1.name}.weights.h5')\n",
    "print(f'Веса модели 30_new_LSTM_{model1.name} загружены')\n",
    "model2.load_weights(f'30_new_attention_LSTM_{model2.name}.weights.h5')\n",
    "print(f'Веса модели 30_new_attention_LSTM_{model2.name} загружены')\n",
    "model3.load_weights(f'30_new_{model3.name}.weights.h5')\n",
    "print(f'Веса модели 30_new_{model3.name} загружены')"
   ]
  },
  {
   "cell_type": "code",
   "execution_count": 99,
   "id": "03441892-cbd5-46a6-ad7a-a72d65079478",
   "metadata": {
    "scrolled": true
   },
   "outputs": [],
   "source": [
    "texts = ['Я люблю пиво', 'Я хочу в отпуск', 'Суббота лучший день для учёбы', 'Котик уснул на кровате']\n",
    "translates_texts = []\n",
    "for text in texts:\n",
    "    translates_texts.append(translate(text, tokenizer, model1, 16, type_cell='LSTM', name_model='Seq2Seq', flg_attention=False))"
   ]
  },
  {
   "cell_type": "code",
   "execution_count": 100,
   "id": "b4e29e92-8063-42a7-af5f-00b4c3f5f39c",
   "metadata": {},
   "outputs": [
    {
     "data": {
      "text/plain": [
       "['I like beer.',\n",
       " 'I want to go to the bus stop.',\n",
       " 'Saturday is the season for learning to work.',\n",
       " 'The cat fell asleep in the room.']"
      ]
     },
     "execution_count": 100,
     "metadata": {},
     "output_type": "execute_result"
    }
   ],
   "source": [
    "translates_texts"
   ]
  },
  {
   "cell_type": "code",
   "execution_count": 81,
   "id": "669467ae-225b-4613-acbd-170982e3785a",
   "metadata": {},
   "outputs": [
    {
     "data": {
      "text/plain": [
       "'How when every every every has has arewise the the the the the'"
      ]
     },
     "execution_count": 81,
     "metadata": {},
     "output_type": "execute_result"
    }
   ],
   "source": [
    "translate_text"
   ]
  },
  {
   "cell_type": "code",
   "execution_count": 103,
   "id": "e8a0e445-6779-4e34-9dfd-5d25828b3440",
   "metadata": {
    "scrolled": true
   },
   "outputs": [],
   "source": [
    "texts = ['Я люблю пиво', 'Я хочу в отпуск', 'Суббота лучший день для учёбы', 'Котик уснул на кровати']\n",
    "translates_texts = []\n",
    "for text in texts:\n",
    "    translates_texts.append(translate(text, tokenizer, model2, 16, type_cell='LSTM', name_model='Seq2Seq', flg_attention=True))"
   ]
  },
  {
   "cell_type": "code",
   "execution_count": 104,
   "id": "7d3abc83-0974-4384-9dc9-df79053fb00e",
   "metadata": {},
   "outputs": [
    {
     "data": {
      "text/plain": [
       "['I love wild beer.',\n",
       " 'I want to go to Mexico.',\n",
       " 'The job is the best day of the year.',\n",
       " 'The cat were asleep on the bed.']"
      ]
     },
     "execution_count": 104,
     "metadata": {},
     "output_type": "execute_result"
    }
   ],
   "source": [
    "translates_texts"
   ]
  },
  {
   "cell_type": "code",
   "execution_count": 122,
   "id": "805a2e63-dfa7-4390-92d6-30d860b08d16",
   "metadata": {
    "scrolled": true
   },
   "outputs": [],
   "source": [
    "texts = ['Я люблю пиво', 'Я хочу в отпуск', 'Суббота лучший день для учёбы', 'Котик уснул на кровати']\n",
    "translates_texts = []\n",
    "for text in texts:\n",
    "    translates_texts.append(translate(text, tokenizer, model3, 16, type_cell='GRU', name_model='Seq2Seq_attention_GRUCell', flg_attention=True))"
   ]
  },
  {
   "cell_type": "code",
   "execution_count": 123,
   "id": "d28559b3-6457-4962-975e-0c7c749f2fe0",
   "metadata": {},
   "outputs": [
    {
     "data": {
      "text/plain": [
       "['I like vampire when I drank too much salt.',\n",
       " 'I want to go shopping in my wallet.',\n",
       " 'The best translation is the best of the book.',\n",
       " 'The tub fell to the edge of the mountain.']"
      ]
     },
     "execution_count": 123,
     "metadata": {},
     "output_type": "execute_result"
    }
   ],
   "source": [
    "translates_texts"
   ]
  },
  {
   "cell_type": "markdown",
   "id": "9a789944-2dab-4442-b1cd-a9f36b839b50",
   "metadata": {},
   "source": [
    "---"
   ]
  },
  {
   "cell_type": "markdown",
   "id": "4a3a74b6-bbed-4309-a318-79518beebf9b",
   "metadata": {},
   "source": [
    "# Training and Testing 2"
   ]
  },
  {
   "cell_type": "markdown",
   "id": "191a402a-a16c-498c-8960-d19158dbb753",
   "metadata": {},
   "source": [
    "Исправленные модели"
   ]
  },
  {
   "cell_type": "code",
   "execution_count": 124,
   "id": "0e8bec62-14c4-44f1-89e8-c6bac80662b3",
   "metadata": {},
   "outputs": [
    {
     "data": {
      "text/html": [
       "<pre style=\"white-space:pre;overflow-x:auto;line-height:normal;font-family:Menlo,'DejaVu Sans Mono',consolas,'Courier New',monospace\"><span style=\"font-weight: bold\">Model: \"Seq2Seq\"</span>\n",
       "</pre>\n"
      ],
      "text/plain": [
       "\u001b[1mModel: \"Seq2Seq\"\u001b[0m\n"
      ]
     },
     "metadata": {},
     "output_type": "display_data"
    },
    {
     "data": {
      "text/html": [
       "<pre style=\"white-space:pre;overflow-x:auto;line-height:normal;font-family:Menlo,'DejaVu Sans Mono',consolas,'Courier New',monospace\">┏━━━━━━━━━━━━━━━━━━━━━┳━━━━━━━━━━━━━━━━━━━┳━━━━━━━━━━━━┳━━━━━━━━━━━━━━━━━━━┓\n",
       "┃<span style=\"font-weight: bold\"> Layer (type)        </span>┃<span style=\"font-weight: bold\"> Output Shape      </span>┃<span style=\"font-weight: bold\">    Param # </span>┃<span style=\"font-weight: bold\"> Connected to      </span>┃\n",
       "┡━━━━━━━━━━━━━━━━━━━━━╇━━━━━━━━━━━━━━━━━━━╇━━━━━━━━━━━━╇━━━━━━━━━━━━━━━━━━━┩\n",
       "│ Seq2Seq_input_enco… │ (<span style=\"color: #00d7ff; text-decoration-color: #00d7ff\">None</span>, <span style=\"color: #00d7ff; text-decoration-color: #00d7ff\">None</span>)      │          <span style=\"color: #00af00; text-decoration-color: #00af00\">0</span> │ -                 │\n",
       "│ (<span style=\"color: #0087ff; text-decoration-color: #0087ff\">InputLayer</span>)        │                   │            │                   │\n",
       "├─────────────────────┼───────────────────┼────────────┼───────────────────┤\n",
       "│ Seq2Seq_embedding_… │ (<span style=\"color: #00d7ff; text-decoration-color: #00d7ff\">None</span>, <span style=\"color: #00d7ff; text-decoration-color: #00d7ff\">None</span>, <span style=\"color: #00af00; text-decoration-color: #00af00\">128</span>) │  <span style=\"color: #00af00; text-decoration-color: #00af00\">6,432,896</span> │ Seq2Seq_input_en… │\n",
       "│ (<span style=\"color: #0087ff; text-decoration-color: #0087ff\">Embedding</span>)         │                   │            │                   │\n",
       "├─────────────────────┼───────────────────┼────────────┼───────────────────┤\n",
       "│ Seq2Seq_input_deco… │ (<span style=\"color: #00d7ff; text-decoration-color: #00d7ff\">None</span>, <span style=\"color: #00d7ff; text-decoration-color: #00d7ff\">None</span>)      │          <span style=\"color: #00af00; text-decoration-color: #00af00\">0</span> │ -                 │\n",
       "│ (<span style=\"color: #0087ff; text-decoration-color: #0087ff\">InputLayer</span>)        │                   │            │                   │\n",
       "├─────────────────────┼───────────────────┼────────────┼───────────────────┤\n",
       "│ Seq2Seq_bidirectio… │ [(<span style=\"color: #00d7ff; text-decoration-color: #00d7ff\">None</span>, <span style=\"color: #00d7ff; text-decoration-color: #00d7ff\">None</span>,     │    <span style=\"color: #00af00; text-decoration-color: #00af00\">526,336</span> │ Seq2Seq_embeddin… │\n",
       "│ (<span style=\"color: #0087ff; text-decoration-color: #0087ff\">Bidirectional</span>)     │ <span style=\"color: #00af00; text-decoration-color: #00af00\">256</span>), (<span style=\"color: #00d7ff; text-decoration-color: #00d7ff\">None</span>,      │            │                   │\n",
       "│                     │ <span style=\"color: #00af00; text-decoration-color: #00af00\">128</span>), (<span style=\"color: #00d7ff; text-decoration-color: #00d7ff\">None</span>,      │            │                   │\n",
       "│                     │ <span style=\"color: #00af00; text-decoration-color: #00af00\">128</span>), (<span style=\"color: #00d7ff; text-decoration-color: #00d7ff\">None</span>,      │            │                   │\n",
       "│                     │ <span style=\"color: #00af00; text-decoration-color: #00af00\">128</span>), (<span style=\"color: #00d7ff; text-decoration-color: #00d7ff\">None</span>,      │            │                   │\n",
       "│                     │ <span style=\"color: #00af00; text-decoration-color: #00af00\">128</span>), (<span style=\"color: #00d7ff; text-decoration-color: #00d7ff\">None</span>,      │            │                   │\n",
       "│                     │ <span style=\"color: #00af00; text-decoration-color: #00af00\">128</span>), (<span style=\"color: #00d7ff; text-decoration-color: #00d7ff\">None</span>,      │            │                   │\n",
       "│                     │ <span style=\"color: #00af00; text-decoration-color: #00af00\">128</span>), (<span style=\"color: #00d7ff; text-decoration-color: #00d7ff\">None</span>,      │            │                   │\n",
       "│                     │ <span style=\"color: #00af00; text-decoration-color: #00af00\">128</span>), (<span style=\"color: #00d7ff; text-decoration-color: #00d7ff\">None</span>,      │            │                   │\n",
       "│                     │ <span style=\"color: #00af00; text-decoration-color: #00af00\">128</span>)]             │            │                   │\n",
       "├─────────────────────┼───────────────────┼────────────┼───────────────────┤\n",
       "│ Seq2Seq_embedding_… │ (<span style=\"color: #00d7ff; text-decoration-color: #00d7ff\">None</span>, <span style=\"color: #00d7ff; text-decoration-color: #00d7ff\">None</span>, <span style=\"color: #00af00; text-decoration-color: #00af00\">128</span>) │  <span style=\"color: #00af00; text-decoration-color: #00af00\">6,432,896</span> │ Seq2Seq_input_de… │\n",
       "│ (<span style=\"color: #0087ff; text-decoration-color: #0087ff\">Embedding</span>)         │                   │            │                   │\n",
       "├─────────────────────┼───────────────────┼────────────┼───────────────────┤\n",
       "│ concatenate_42      │ (<span style=\"color: #00d7ff; text-decoration-color: #00d7ff\">None</span>, <span style=\"color: #00af00; text-decoration-color: #00af00\">256</span>)       │          <span style=\"color: #00af00; text-decoration-color: #00af00\">0</span> │ Seq2Seq_bidirect… │\n",
       "│ (<span style=\"color: #0087ff; text-decoration-color: #0087ff\">Concatenate</span>)       │                   │            │ Seq2Seq_bidirect… │\n",
       "├─────────────────────┼───────────────────┼────────────┼───────────────────┤\n",
       "│ concatenate_43      │ (<span style=\"color: #00d7ff; text-decoration-color: #00d7ff\">None</span>, <span style=\"color: #00af00; text-decoration-color: #00af00\">256</span>)       │          <span style=\"color: #00af00; text-decoration-color: #00af00\">0</span> │ Seq2Seq_bidirect… │\n",
       "│ (<span style=\"color: #0087ff; text-decoration-color: #0087ff\">Concatenate</span>)       │                   │            │ Seq2Seq_bidirect… │\n",
       "├─────────────────────┼───────────────────┼────────────┼───────────────────┤\n",
       "│ concatenate_44      │ (<span style=\"color: #00d7ff; text-decoration-color: #00d7ff\">None</span>, <span style=\"color: #00af00; text-decoration-color: #00af00\">256</span>)       │          <span style=\"color: #00af00; text-decoration-color: #00af00\">0</span> │ Seq2Seq_bidirect… │\n",
       "│ (<span style=\"color: #0087ff; text-decoration-color: #0087ff\">Concatenate</span>)       │                   │            │ Seq2Seq_bidirect… │\n",
       "├─────────────────────┼───────────────────┼────────────┼───────────────────┤\n",
       "│ concatenate_45      │ (<span style=\"color: #00d7ff; text-decoration-color: #00d7ff\">None</span>, <span style=\"color: #00af00; text-decoration-color: #00af00\">256</span>)       │          <span style=\"color: #00af00; text-decoration-color: #00af00\">0</span> │ Seq2Seq_bidirect… │\n",
       "│ (<span style=\"color: #0087ff; text-decoration-color: #0087ff\">Concatenate</span>)       │                   │            │ Seq2Seq_bidirect… │\n",
       "├─────────────────────┼───────────────────┼────────────┼───────────────────┤\n",
       "│ Seq2Seq_rnn_decoder │ (<span style=\"color: #00d7ff; text-decoration-color: #00d7ff\">None</span>, <span style=\"color: #00d7ff; text-decoration-color: #00d7ff\">None</span>, <span style=\"color: #00af00; text-decoration-color: #00af00\">256</span>) │    <span style=\"color: #00af00; text-decoration-color: #00af00\">919,552</span> │ Seq2Seq_embeddin… │\n",
       "│ (<span style=\"color: #0087ff; text-decoration-color: #0087ff\">RNN</span>)               │                   │            │ concatenate_42[<span style=\"color: #00af00; text-decoration-color: #00af00\">0</span>… │\n",
       "│                     │                   │            │ concatenate_43[<span style=\"color: #00af00; text-decoration-color: #00af00\">0</span>… │\n",
       "│                     │                   │            │ concatenate_44[<span style=\"color: #00af00; text-decoration-color: #00af00\">0</span>… │\n",
       "│                     │                   │            │ concatenate_45[<span style=\"color: #00af00; text-decoration-color: #00af00\">0</span>… │\n",
       "├─────────────────────┼───────────────────┼────────────┼───────────────────┤\n",
       "│ Seq2Seq_output      │ (<span style=\"color: #00d7ff; text-decoration-color: #00d7ff\">None</span>, <span style=\"color: #00d7ff; text-decoration-color: #00d7ff\">None</span>,      │ <span style=\"color: #00af00; text-decoration-color: #00af00\">12,916,049</span> │ Seq2Seq_rnn_deco… │\n",
       "│ (<span style=\"color: #0087ff; text-decoration-color: #0087ff\">Dense</span>)             │ <span style=\"color: #00af00; text-decoration-color: #00af00\">50257</span>)            │            │                   │\n",
       "└─────────────────────┴───────────────────┴────────────┴───────────────────┘\n",
       "</pre>\n"
      ],
      "text/plain": [
       "┏━━━━━━━━━━━━━━━━━━━━━┳━━━━━━━━━━━━━━━━━━━┳━━━━━━━━━━━━┳━━━━━━━━━━━━━━━━━━━┓\n",
       "┃\u001b[1m \u001b[0m\u001b[1mLayer (type)       \u001b[0m\u001b[1m \u001b[0m┃\u001b[1m \u001b[0m\u001b[1mOutput Shape     \u001b[0m\u001b[1m \u001b[0m┃\u001b[1m \u001b[0m\u001b[1m   Param #\u001b[0m\u001b[1m \u001b[0m┃\u001b[1m \u001b[0m\u001b[1mConnected to     \u001b[0m\u001b[1m \u001b[0m┃\n",
       "┡━━━━━━━━━━━━━━━━━━━━━╇━━━━━━━━━━━━━━━━━━━╇━━━━━━━━━━━━╇━━━━━━━━━━━━━━━━━━━┩\n",
       "│ Seq2Seq_input_enco… │ (\u001b[38;5;45mNone\u001b[0m, \u001b[38;5;45mNone\u001b[0m)      │          \u001b[38;5;34m0\u001b[0m │ -                 │\n",
       "│ (\u001b[38;5;33mInputLayer\u001b[0m)        │                   │            │                   │\n",
       "├─────────────────────┼───────────────────┼────────────┼───────────────────┤\n",
       "│ Seq2Seq_embedding_… │ (\u001b[38;5;45mNone\u001b[0m, \u001b[38;5;45mNone\u001b[0m, \u001b[38;5;34m128\u001b[0m) │  \u001b[38;5;34m6,432,896\u001b[0m │ Seq2Seq_input_en… │\n",
       "│ (\u001b[38;5;33mEmbedding\u001b[0m)         │                   │            │                   │\n",
       "├─────────────────────┼───────────────────┼────────────┼───────────────────┤\n",
       "│ Seq2Seq_input_deco… │ (\u001b[38;5;45mNone\u001b[0m, \u001b[38;5;45mNone\u001b[0m)      │          \u001b[38;5;34m0\u001b[0m │ -                 │\n",
       "│ (\u001b[38;5;33mInputLayer\u001b[0m)        │                   │            │                   │\n",
       "├─────────────────────┼───────────────────┼────────────┼───────────────────┤\n",
       "│ Seq2Seq_bidirectio… │ [(\u001b[38;5;45mNone\u001b[0m, \u001b[38;5;45mNone\u001b[0m,     │    \u001b[38;5;34m526,336\u001b[0m │ Seq2Seq_embeddin… │\n",
       "│ (\u001b[38;5;33mBidirectional\u001b[0m)     │ \u001b[38;5;34m256\u001b[0m), (\u001b[38;5;45mNone\u001b[0m,      │            │                   │\n",
       "│                     │ \u001b[38;5;34m128\u001b[0m), (\u001b[38;5;45mNone\u001b[0m,      │            │                   │\n",
       "│                     │ \u001b[38;5;34m128\u001b[0m), (\u001b[38;5;45mNone\u001b[0m,      │            │                   │\n",
       "│                     │ \u001b[38;5;34m128\u001b[0m), (\u001b[38;5;45mNone\u001b[0m,      │            │                   │\n",
       "│                     │ \u001b[38;5;34m128\u001b[0m), (\u001b[38;5;45mNone\u001b[0m,      │            │                   │\n",
       "│                     │ \u001b[38;5;34m128\u001b[0m), (\u001b[38;5;45mNone\u001b[0m,      │            │                   │\n",
       "│                     │ \u001b[38;5;34m128\u001b[0m), (\u001b[38;5;45mNone\u001b[0m,      │            │                   │\n",
       "│                     │ \u001b[38;5;34m128\u001b[0m), (\u001b[38;5;45mNone\u001b[0m,      │            │                   │\n",
       "│                     │ \u001b[38;5;34m128\u001b[0m)]             │            │                   │\n",
       "├─────────────────────┼───────────────────┼────────────┼───────────────────┤\n",
       "│ Seq2Seq_embedding_… │ (\u001b[38;5;45mNone\u001b[0m, \u001b[38;5;45mNone\u001b[0m, \u001b[38;5;34m128\u001b[0m) │  \u001b[38;5;34m6,432,896\u001b[0m │ Seq2Seq_input_de… │\n",
       "│ (\u001b[38;5;33mEmbedding\u001b[0m)         │                   │            │                   │\n",
       "├─────────────────────┼───────────────────┼────────────┼───────────────────┤\n",
       "│ concatenate_42      │ (\u001b[38;5;45mNone\u001b[0m, \u001b[38;5;34m256\u001b[0m)       │          \u001b[38;5;34m0\u001b[0m │ Seq2Seq_bidirect… │\n",
       "│ (\u001b[38;5;33mConcatenate\u001b[0m)       │                   │            │ Seq2Seq_bidirect… │\n",
       "├─────────────────────┼───────────────────┼────────────┼───────────────────┤\n",
       "│ concatenate_43      │ (\u001b[38;5;45mNone\u001b[0m, \u001b[38;5;34m256\u001b[0m)       │          \u001b[38;5;34m0\u001b[0m │ Seq2Seq_bidirect… │\n",
       "│ (\u001b[38;5;33mConcatenate\u001b[0m)       │                   │            │ Seq2Seq_bidirect… │\n",
       "├─────────────────────┼───────────────────┼────────────┼───────────────────┤\n",
       "│ concatenate_44      │ (\u001b[38;5;45mNone\u001b[0m, \u001b[38;5;34m256\u001b[0m)       │          \u001b[38;5;34m0\u001b[0m │ Seq2Seq_bidirect… │\n",
       "│ (\u001b[38;5;33mConcatenate\u001b[0m)       │                   │            │ Seq2Seq_bidirect… │\n",
       "├─────────────────────┼───────────────────┼────────────┼───────────────────┤\n",
       "│ concatenate_45      │ (\u001b[38;5;45mNone\u001b[0m, \u001b[38;5;34m256\u001b[0m)       │          \u001b[38;5;34m0\u001b[0m │ Seq2Seq_bidirect… │\n",
       "│ (\u001b[38;5;33mConcatenate\u001b[0m)       │                   │            │ Seq2Seq_bidirect… │\n",
       "├─────────────────────┼───────────────────┼────────────┼───────────────────┤\n",
       "│ Seq2Seq_rnn_decoder │ (\u001b[38;5;45mNone\u001b[0m, \u001b[38;5;45mNone\u001b[0m, \u001b[38;5;34m256\u001b[0m) │    \u001b[38;5;34m919,552\u001b[0m │ Seq2Seq_embeddin… │\n",
       "│ (\u001b[38;5;33mRNN\u001b[0m)               │                   │            │ concatenate_42[\u001b[38;5;34m0\u001b[0m… │\n",
       "│                     │                   │            │ concatenate_43[\u001b[38;5;34m0\u001b[0m… │\n",
       "│                     │                   │            │ concatenate_44[\u001b[38;5;34m0\u001b[0m… │\n",
       "│                     │                   │            │ concatenate_45[\u001b[38;5;34m0\u001b[0m… │\n",
       "├─────────────────────┼───────────────────┼────────────┼───────────────────┤\n",
       "│ Seq2Seq_output      │ (\u001b[38;5;45mNone\u001b[0m, \u001b[38;5;45mNone\u001b[0m,      │ \u001b[38;5;34m12,916,049\u001b[0m │ Seq2Seq_rnn_deco… │\n",
       "│ (\u001b[38;5;33mDense\u001b[0m)             │ \u001b[38;5;34m50257\u001b[0m)            │            │                   │\n",
       "└─────────────────────┴───────────────────┴────────────┴───────────────────┘\n"
      ]
     },
     "metadata": {},
     "output_type": "display_data"
    },
    {
     "data": {
      "text/html": [
       "<pre style=\"white-space:pre;overflow-x:auto;line-height:normal;font-family:Menlo,'DejaVu Sans Mono',consolas,'Courier New',monospace\"><span style=\"font-weight: bold\"> Total params: </span><span style=\"color: #00af00; text-decoration-color: #00af00\">27,227,729</span> (103.87 MB)\n",
       "</pre>\n"
      ],
      "text/plain": [
       "\u001b[1m Total params: \u001b[0m\u001b[38;5;34m27,227,729\u001b[0m (103.87 MB)\n"
      ]
     },
     "metadata": {},
     "output_type": "display_data"
    },
    {
     "data": {
      "text/html": [
       "<pre style=\"white-space:pre;overflow-x:auto;line-height:normal;font-family:Menlo,'DejaVu Sans Mono',consolas,'Courier New',monospace\"><span style=\"font-weight: bold\"> Trainable params: </span><span style=\"color: #00af00; text-decoration-color: #00af00\">27,227,729</span> (103.87 MB)\n",
       "</pre>\n"
      ],
      "text/plain": [
       "\u001b[1m Trainable params: \u001b[0m\u001b[38;5;34m27,227,729\u001b[0m (103.87 MB)\n"
      ]
     },
     "metadata": {},
     "output_type": "display_data"
    },
    {
     "data": {
      "text/html": [
       "<pre style=\"white-space:pre;overflow-x:auto;line-height:normal;font-family:Menlo,'DejaVu Sans Mono',consolas,'Courier New',monospace\"><span style=\"font-weight: bold\"> Non-trainable params: </span><span style=\"color: #00af00; text-decoration-color: #00af00\">0</span> (0.00 B)\n",
       "</pre>\n"
      ],
      "text/plain": [
       "\u001b[1m Non-trainable params: \u001b[0m\u001b[38;5;34m0\u001b[0m (0.00 B)\n"
      ]
     },
     "metadata": {},
     "output_type": "display_data"
    }
   ],
   "source": [
    "model1 = get_model(128,\n",
    "                   tokenizer.vocab_size,\n",
    "                   tokenizer.vocab_size,\n",
    "                   n_stacks=2,\n",
    "                   bidirectional=True,\n",
    "                   name='Seq2Seq',\n",
    "                   cell_type=tf.keras.layers.LSTMCell,\n",
    "                   attention_flg=False\n",
    ")\n",
    "\n",
    "model1.summary()"
   ]
  },
  {
   "cell_type": "code",
   "execution_count": 125,
   "id": "255de51c-b647-4ddc-b0dc-0a1595b76e59",
   "metadata": {},
   "outputs": [],
   "source": [
    "model1.compile(\n",
    "    loss=tf.keras.losses.SparseCategoricalCrossentropy(from_logits=True),\n",
    "    optimizer=keras.optimizers.Adam(learning_rate=0.001),\n",
    "    metrics=['accuracy']\n",
    ")"
   ]
  },
  {
   "cell_type": "code",
   "execution_count": 22,
   "id": "1e97e8b2-1076-479f-aaf6-6843af85d8b6",
   "metadata": {
    "scrolled": true
   },
   "outputs": [
    {
     "name": "stdout",
     "output_type": "stream",
     "text": [
      "model training: Seq2Seq\n",
      "Epoch 1/15\n"
     ]
    },
    {
     "name": "stderr",
     "output_type": "stream",
     "text": [
      "WARNING: All log messages before absl::InitializeLog() is called are written to STDERR\n",
      "I0000 00:00:1731329957.147876   41705 service.cc:145] XLA service 0xe35cfa0 initialized for platform CUDA (this does not guarantee that XLA will be used). Devices:\n",
      "I0000 00:00:1731329957.147973   41705 service.cc:153]   StreamExecutor device (0): NVIDIA GeForce RTX 4060 Laptop GPU, Compute Capability 8.9\n",
      "2024-11-11 22:59:17.250353: I tensorflow/compiler/mlir/tensorflow/utils/dump_mlir_util.cc:268] disabling MLIR crash reproducer, set env var `MLIR_CRASH_REPRODUCER_DIRECTORY` to enable.\n",
      "W0000 00:00:1731329957.632463   41705 assert_op.cc:38] Ignoring Assert operator compile_loss/sparse_categorical_crossentropy/SparseSoftmaxCrossEntropyWithLogits/assert_equal_1/Assert/Assert\n",
      "2024-11-11 22:59:17.837264: I external/local_xla/xla/stream_executor/cuda/cuda_dnn.cc:465] Loaded cuDNN version 8907\n",
      "WARNING: All log messages before absl::InitializeLog() is called are written to STDERR\n",
      "I0000 00:00:1731329959.001547   41980 asm_compiler.cc:369] ptxas warning : Registers are spilled to local memory in function 'triton_gemm_dot_177', 280 bytes spill stores, 264 bytes spill loads\n",
      "\n",
      "I0000 00:00:1731329960.164700   41989 asm_compiler.cc:369] ptxas warning : Registers are spilled to local memory in function 'triton_gemm_dot_173', 84 bytes spill stores, 84 bytes spill loads\n",
      "\n",
      "I0000 00:00:1731329960.164746   41984 asm_compiler.cc:369] ptxas warning : Registers are spilled to local memory in function 'triton_gemm_dot_173', 1748 bytes spill stores, 2168 bytes spill loads\n",
      "\n",
      "I0000 00:00:1731329960.455371   41982 asm_compiler.cc:369] ptxas warning : Registers are spilled to local memory in function 'triton_gemm_dot_175', 84 bytes spill stores, 84 bytes spill loads\n",
      "\n",
      "I0000 00:00:1731329960.721482   41985 asm_compiler.cc:369] ptxas warning : Registers are spilled to local memory in function 'triton_gemm_dot_175', 1760 bytes spill stores, 2180 bytes spill loads\n",
      "\n",
      "I0000 00:00:1731329963.831496   41705 device_compiler.h:188] Compiled cluster using XLA!  This line is logged at most once for the lifetime of the process.\n"
     ]
    },
    {
     "name": "stdout",
     "output_type": "stream",
     "text": [
      "\u001b[1m2004/2005\u001b[0m \u001b[32m━━━━━━━━━━━━━━━━━━━\u001b[0m\u001b[37m━\u001b[0m \u001b[1m0s\u001b[0m 74ms/step - accuracy: 0.5616 - loss: 2.8828"
     ]
    },
    {
     "name": "stderr",
     "output_type": "stream",
     "text": [
      "W0000 00:00:1731330113.125761   41707 assert_op.cc:38] Ignoring Assert operator compile_loss/sparse_categorical_crossentropy/SparseSoftmaxCrossEntropyWithLogits/assert_equal_1/Assert/Assert\n",
      "I0000 00:00:1731330113.733401   42764 asm_compiler.cc:369] ptxas warning : Registers are spilled to local memory in function 'triton_gemm_dot_173', 4 bytes spill stores, 4 bytes spill loads\n",
      "\n",
      "I0000 00:00:1731330113.943315   42763 asm_compiler.cc:369] ptxas warning : Registers are spilled to local memory in function 'triton_gemm_dot_173', 24 bytes spill stores, 24 bytes spill loads\n",
      "\n",
      "I0000 00:00:1731330114.315321   42765 asm_compiler.cc:369] ptxas warning : Registers are spilled to local memory in function 'triton_gemm_dot_175', 4 bytes spill stores, 4 bytes spill loads\n",
      "\n",
      "I0000 00:00:1731330114.476624   42759 asm_compiler.cc:369] ptxas warning : Registers are spilled to local memory in function 'triton_gemm_dot_175', 92 bytes spill stores, 92 bytes spill loads\n",
      "\n",
      "I0000 00:00:1731330114.520777   42773 asm_compiler.cc:369] ptxas warning : Registers are spilled to local memory in function 'triton_gemm_dot_173', 92 bytes spill stores, 92 bytes spill loads\n",
      "\n",
      "I0000 00:00:1731330114.558197   42762 asm_compiler.cc:369] ptxas warning : Registers are spilled to local memory in function 'triton_gemm_dot_173', 348 bytes spill stores, 788 bytes spill loads\n",
      "\n",
      "I0000 00:00:1731330114.857981   42761 asm_compiler.cc:369] ptxas warning : Registers are spilled to local memory in function 'triton_gemm_dot_175', 324 bytes spill stores, 792 bytes spill loads\n",
      "\n",
      "I0000 00:00:1731330115.106709   42769 asm_compiler.cc:369] ptxas warning : Registers are spilled to local memory in function 'triton_gemm_dot_175', 24 bytes spill stores, 24 bytes spill loads\n",
      "\n",
      "I0000 00:00:1731330116.194720   42760 asm_compiler.cc:369] ptxas warning : Registers are spilled to local memory in function 'triton_gemm_dot_177', 44 bytes spill stores, 32 bytes spill loads\n",
      "\n",
      "I0000 00:00:1731330116.347481   42759 asm_compiler.cc:369] ptxas warning : Registers are spilled to local memory in function 'triton_gemm_dot_177', 4 bytes spill stores, 4 bytes spill loads\n",
      "\n",
      "I0000 00:00:1731330116.689435   42770 asm_compiler.cc:369] ptxas warning : Registers are spilled to local memory in function 'triton_gemm_dot_174', 4 bytes spill stores, 4 bytes spill loads\n",
      "\n"
     ]
    },
    {
     "name": "stdout",
     "output_type": "stream",
     "text": [
      "\u001b[1m2005/2005\u001b[0m \u001b[32m━━━━━━━━━━━━━━━━━━━━\u001b[0m\u001b[37m\u001b[0m \u001b[1m0s\u001b[0m 78ms/step - accuracy: 0.5616 - loss: 2.8825"
     ]
    },
    {
     "name": "stderr",
     "output_type": "stream",
     "text": [
      "W0000 00:00:1731330120.189442   41712 assert_op.cc:38] Ignoring Assert operator compile_loss/sparse_categorical_crossentropy/SparseSoftmaxCrossEntropyWithLogits/assert_equal_1/Assert/Assert\n",
      "W0000 00:00:1731330142.050006   41718 assert_op.cc:38] Ignoring Assert operator compile_loss/sparse_categorical_crossentropy/SparseSoftmaxCrossEntropyWithLogits/assert_equal_1/Assert/Assert\n"
     ]
    },
    {
     "name": "stdout",
     "output_type": "stream",
     "text": [
      "\u001b[1m2005/2005\u001b[0m \u001b[32m━━━━━━━━━━━━━━━━━━━━\u001b[0m\u001b[37m\u001b[0m \u001b[1m189s\u001b[0m 89ms/step - accuracy: 0.5617 - loss: 2.8822 - val_accuracy: 0.7028 - val_loss: 1.7288\n",
      "Epoch 2/15\n",
      "\u001b[1m2005/2005\u001b[0m \u001b[32m━━━━━━━━━━━━━━━━━━━━\u001b[0m\u001b[37m\u001b[0m \u001b[1m180s\u001b[0m 90ms/step - accuracy: 0.7160 - loss: 1.6064 - val_accuracy: 0.7368 - val_loss: 1.3516\n",
      "Epoch 3/15\n",
      "\u001b[1m2005/2005\u001b[0m \u001b[32m━━━━━━━━━━━━━━━━━━━━\u001b[0m\u001b[37m\u001b[0m \u001b[1m179s\u001b[0m 89ms/step - accuracy: 0.6957 - loss: 1.2623 - val_accuracy: 0.6024 - val_loss: 1.1387\n",
      "Epoch 4/15\n",
      "\u001b[1m2005/2005\u001b[0m \u001b[32m━━━━━━━━━━━━━━━━━━━━\u001b[0m\u001b[37m\u001b[0m \u001b[1m180s\u001b[0m 90ms/step - accuracy: 0.5873 - loss: 1.0506 - val_accuracy: 0.5496 - val_loss: 1.0192\n",
      "Epoch 5/15\n",
      "\u001b[1m2005/2005\u001b[0m \u001b[32m━━━━━━━━━━━━━━━━━━━━\u001b[0m\u001b[37m\u001b[0m \u001b[1m180s\u001b[0m 90ms/step - accuracy: 0.5641 - loss: 0.9165 - val_accuracy: 0.5348 - val_loss: 0.9477\n",
      "Epoch 6/15\n",
      "\u001b[1m2005/2005\u001b[0m \u001b[32m━━━━━━━━━━━━━━━━━━━━\u001b[0m\u001b[37m\u001b[0m \u001b[1m179s\u001b[0m 89ms/step - accuracy: 0.5729 - loss: 0.8252 - val_accuracy: 0.5362 - val_loss: 0.9028\n",
      "Epoch 7/15\n",
      "\u001b[1m2005/2005\u001b[0m \u001b[32m━━━━━━━━━━━━━━━━━━━━\u001b[0m\u001b[37m\u001b[0m \u001b[1m180s\u001b[0m 90ms/step - accuracy: 0.5887 - loss: 0.7574 - val_accuracy: 0.5734 - val_loss: 0.8718\n",
      "Epoch 8/15\n",
      "\u001b[1m2005/2005\u001b[0m \u001b[32m━━━━━━━━━━━━━━━━━━━━\u001b[0m\u001b[37m\u001b[0m \u001b[1m180s\u001b[0m 90ms/step - accuracy: 0.6146 - loss: 0.7041 - val_accuracy: 0.6587 - val_loss: 0.8538\n",
      "Epoch 9/15\n",
      "\u001b[1m2005/2005\u001b[0m \u001b[32m━━━━━━━━━━━━━━━━━━━━\u001b[0m\u001b[37m\u001b[0m \u001b[1m181s\u001b[0m 90ms/step - accuracy: 0.6603 - loss: 0.6609 - val_accuracy: 0.7183 - val_loss: 0.8434\n",
      "Epoch 10/15\n",
      "\u001b[1m2005/2005\u001b[0m \u001b[32m━━━━━━━━━━━━━━━━━━━━\u001b[0m\u001b[37m\u001b[0m \u001b[1m180s\u001b[0m 90ms/step - accuracy: 0.6990 - loss: 0.6250 - val_accuracy: 0.7359 - val_loss: 0.8352\n",
      "Epoch 11/15\n",
      "\u001b[1m2005/2005\u001b[0m \u001b[32m━━━━━━━━━━━━━━━━━━━━\u001b[0m\u001b[37m\u001b[0m \u001b[1m202s\u001b[0m 90ms/step - accuracy: 0.7228 - loss: 0.5945 - val_accuracy: 0.7409 - val_loss: 0.8288\n",
      "Epoch 12/15\n",
      "\u001b[1m2005/2005\u001b[0m \u001b[32m━━━━━━━━━━━━━━━━━━━━\u001b[0m\u001b[37m\u001b[0m \u001b[1m180s\u001b[0m 90ms/step - accuracy: 0.7435 - loss: 0.5680 - val_accuracy: 0.7308 - val_loss: 0.8255\n",
      "Epoch 13/15\n",
      "\u001b[1m2005/2005\u001b[0m \u001b[32m━━━━━━━━━━━━━━━━━━━━\u001b[0m\u001b[37m\u001b[0m \u001b[1m181s\u001b[0m 90ms/step - accuracy: 0.7478 - loss: 0.5445 - val_accuracy: 0.7268 - val_loss: 0.8251\n",
      "Epoch 14/15\n",
      "\u001b[1m2005/2005\u001b[0m \u001b[32m━━━━━━━━━━━━━━━━━━━━\u001b[0m\u001b[37m\u001b[0m \u001b[1m180s\u001b[0m 90ms/step - accuracy: 0.7486 - loss: 0.5236 - val_accuracy: 0.7230 - val_loss: 0.8261\n",
      "Epoch 15/15\n",
      "\u001b[1m2005/2005\u001b[0m \u001b[32m━━━━━━━━━━━━━━━━━━━━\u001b[0m\u001b[37m\u001b[0m \u001b[1m180s\u001b[0m 90ms/step - accuracy: 0.7467 - loss: 0.5056 - val_accuracy: 0.7210 - val_loss: 0.8270\n"
     ]
    }
   ],
   "source": [
    "print(f'model training: {model1.name}')\n",
    "history_1 = model1.fit(train_dataset, validation_data=test_dataset, batch_size=256, epochs=15)"
   ]
  },
  {
   "cell_type": "code",
   "execution_count": 34,
   "id": "2dfc2f74-b321-49c0-8917-2389f959fef8",
   "metadata": {},
   "outputs": [
    {
     "name": "stdout",
     "output_type": "stream",
     "text": [
      "------------------------------\n",
      "Веса модели 12_11_LSTM_Seq2Seq сохранены\n"
     ]
    }
   ],
   "source": [
    "print('-'*30)\n",
    "model1.save_weights(f'12_11_LSTM_{model1.name}.weights.h5')\n",
    "print(f'Веса модели 12_11_LSTM_{model1.name} сохранены')"
   ]
  },
  {
   "cell_type": "code",
   "execution_count": 126,
   "id": "6369dd79-8c63-4d2f-85c3-11f653ddd635",
   "metadata": {},
   "outputs": [
    {
     "name": "stdout",
     "output_type": "stream",
     "text": [
      "Веса модели 12_11_LSTM_Seq2Seq загружены\n"
     ]
    },
    {
     "name": "stderr",
     "output_type": "stream",
     "text": [
      "/home/dron46/anaconda3/envs/tf/lib/python3.10/site-packages/keras/src/saving/saving_lib.py:719: UserWarning: Skipping variable loading for optimizer 'adam', because it has 2 variables whereas the saved optimizer has 46 variables. \n",
      "  saveable.load_own_variables(weights_store.get(inner_path))\n"
     ]
    }
   ],
   "source": [
    "model1.load_weights(f'12_11_LSTM_{model1.name}.weights.h5')\n",
    "print(f'Веса модели 12_11_LSTM_{model1.name} загружены')"
   ]
  },
  {
   "cell_type": "code",
   "execution_count": 127,
   "id": "c987efd2-8437-45e9-83b3-eee8c65935cd",
   "metadata": {
    "scrolled": true
   },
   "outputs": [],
   "source": [
    "texts = ['Я люблю пиво', 'Я хочу в отпуск', 'Суббота лучший день для учёбы', 'Котик уснул на кровате']\n",
    "translates_texts = []\n",
    "for text in texts:\n",
    "    translates_texts.append(translate(text, tokenizer, model1, 16, type_cell='LSTM', name_model='Seq2Seq', flg_attention=False))"
   ]
  },
  {
   "cell_type": "code",
   "execution_count": 128,
   "id": "23c8f148-d1c9-45b5-9c24-ddac152881a7",
   "metadata": {},
   "outputs": [
    {
     "data": {
      "text/plain": [
       "['I like beer for my children.',\n",
       " 'I want to go to vacation with you.',\n",
       " 'Saturday is for a school than a long time.',\n",
       " 'The cat fell asleep in the bed.']"
      ]
     },
     "execution_count": 128,
     "metadata": {},
     "output_type": "execute_result"
    }
   ],
   "source": [
    "translates_texts"
   ]
  },
  {
   "cell_type": "markdown",
   "id": "28bc9fba-ef53-4f41-8aff-6d0585583584",
   "metadata": {},
   "source": [
    "---"
   ]
  },
  {
   "cell_type": "code",
   "execution_count": 130,
   "id": "90c1015c-fb29-4404-a091-03c557271110",
   "metadata": {},
   "outputs": [
    {
     "data": {
      "text/html": [
       "<pre style=\"white-space:pre;overflow-x:auto;line-height:normal;font-family:Menlo,'DejaVu Sans Mono',consolas,'Courier New',monospace\"><span style=\"font-weight: bold\">Model: \"Seq2Seq\"</span>\n",
       "</pre>\n"
      ],
      "text/plain": [
       "\u001b[1mModel: \"Seq2Seq\"\u001b[0m\n"
      ]
     },
     "metadata": {},
     "output_type": "display_data"
    },
    {
     "data": {
      "text/html": [
       "<pre style=\"white-space:pre;overflow-x:auto;line-height:normal;font-family:Menlo,'DejaVu Sans Mono',consolas,'Courier New',monospace\">┏━━━━━━━━━━━━━━━━━━━━━┳━━━━━━━━━━━━━━━━━━━┳━━━━━━━━━━━━┳━━━━━━━━━━━━━━━━━━━┓\n",
       "┃<span style=\"font-weight: bold\"> Layer (type)        </span>┃<span style=\"font-weight: bold\"> Output Shape      </span>┃<span style=\"font-weight: bold\">    Param # </span>┃<span style=\"font-weight: bold\"> Connected to      </span>┃\n",
       "┡━━━━━━━━━━━━━━━━━━━━━╇━━━━━━━━━━━━━━━━━━━╇━━━━━━━━━━━━╇━━━━━━━━━━━━━━━━━━━┩\n",
       "│ Seq2Seq_input_enco… │ (<span style=\"color: #00d7ff; text-decoration-color: #00d7ff\">None</span>, <span style=\"color: #00d7ff; text-decoration-color: #00d7ff\">None</span>)      │          <span style=\"color: #00af00; text-decoration-color: #00af00\">0</span> │ -                 │\n",
       "│ (<span style=\"color: #0087ff; text-decoration-color: #0087ff\">InputLayer</span>)        │                   │            │                   │\n",
       "├─────────────────────┼───────────────────┼────────────┼───────────────────┤\n",
       "│ Seq2Seq_embedding_… │ (<span style=\"color: #00d7ff; text-decoration-color: #00d7ff\">None</span>, <span style=\"color: #00d7ff; text-decoration-color: #00d7ff\">None</span>, <span style=\"color: #00af00; text-decoration-color: #00af00\">256</span>) │ <span style=\"color: #00af00; text-decoration-color: #00af00\">12,865,792</span> │ Seq2Seq_input_en… │\n",
       "│ (<span style=\"color: #0087ff; text-decoration-color: #0087ff\">Embedding</span>)         │                   │            │                   │\n",
       "├─────────────────────┼───────────────────┼────────────┼───────────────────┤\n",
       "│ Seq2Seq_input_deco… │ (<span style=\"color: #00d7ff; text-decoration-color: #00d7ff\">None</span>, <span style=\"color: #00d7ff; text-decoration-color: #00d7ff\">None</span>)      │          <span style=\"color: #00af00; text-decoration-color: #00af00\">0</span> │ -                 │\n",
       "│ (<span style=\"color: #0087ff; text-decoration-color: #0087ff\">InputLayer</span>)        │                   │            │                   │\n",
       "├─────────────────────┼───────────────────┼────────────┼───────────────────┤\n",
       "│ Seq2Seq_bidirectio… │ [(<span style=\"color: #00d7ff; text-decoration-color: #00d7ff\">None</span>, <span style=\"color: #00d7ff; text-decoration-color: #00d7ff\">None</span>,     │  <span style=\"color: #00af00; text-decoration-color: #00af00\">2,101,248</span> │ Seq2Seq_embeddin… │\n",
       "│ (<span style=\"color: #0087ff; text-decoration-color: #0087ff\">Bidirectional</span>)     │ <span style=\"color: #00af00; text-decoration-color: #00af00\">512</span>), (<span style=\"color: #00d7ff; text-decoration-color: #00d7ff\">None</span>,      │            │                   │\n",
       "│                     │ <span style=\"color: #00af00; text-decoration-color: #00af00\">256</span>), (<span style=\"color: #00d7ff; text-decoration-color: #00d7ff\">None</span>,      │            │                   │\n",
       "│                     │ <span style=\"color: #00af00; text-decoration-color: #00af00\">256</span>), (<span style=\"color: #00d7ff; text-decoration-color: #00d7ff\">None</span>,      │            │                   │\n",
       "│                     │ <span style=\"color: #00af00; text-decoration-color: #00af00\">256</span>), (<span style=\"color: #00d7ff; text-decoration-color: #00d7ff\">None</span>,      │            │                   │\n",
       "│                     │ <span style=\"color: #00af00; text-decoration-color: #00af00\">256</span>), (<span style=\"color: #00d7ff; text-decoration-color: #00d7ff\">None</span>,      │            │                   │\n",
       "│                     │ <span style=\"color: #00af00; text-decoration-color: #00af00\">256</span>), (<span style=\"color: #00d7ff; text-decoration-color: #00d7ff\">None</span>,      │            │                   │\n",
       "│                     │ <span style=\"color: #00af00; text-decoration-color: #00af00\">256</span>), (<span style=\"color: #00d7ff; text-decoration-color: #00d7ff\">None</span>,      │            │                   │\n",
       "│                     │ <span style=\"color: #00af00; text-decoration-color: #00af00\">256</span>), (<span style=\"color: #00d7ff; text-decoration-color: #00d7ff\">None</span>,      │            │                   │\n",
       "│                     │ <span style=\"color: #00af00; text-decoration-color: #00af00\">256</span>)]             │            │                   │\n",
       "├─────────────────────┼───────────────────┼────────────┼───────────────────┤\n",
       "│ Seq2Seq_embedding_… │ (<span style=\"color: #00d7ff; text-decoration-color: #00d7ff\">None</span>, <span style=\"color: #00d7ff; text-decoration-color: #00d7ff\">None</span>, <span style=\"color: #00af00; text-decoration-color: #00af00\">256</span>) │ <span style=\"color: #00af00; text-decoration-color: #00af00\">12,865,792</span> │ Seq2Seq_input_de… │\n",
       "│ (<span style=\"color: #0087ff; text-decoration-color: #0087ff\">Embedding</span>)         │                   │            │                   │\n",
       "├─────────────────────┼───────────────────┼────────────┼───────────────────┤\n",
       "│ concatenate_46      │ (<span style=\"color: #00d7ff; text-decoration-color: #00d7ff\">None</span>, <span style=\"color: #00af00; text-decoration-color: #00af00\">512</span>)       │          <span style=\"color: #00af00; text-decoration-color: #00af00\">0</span> │ Seq2Seq_bidirect… │\n",
       "│ (<span style=\"color: #0087ff; text-decoration-color: #0087ff\">Concatenate</span>)       │                   │            │ Seq2Seq_bidirect… │\n",
       "├─────────────────────┼───────────────────┼────────────┼───────────────────┤\n",
       "│ concatenate_47      │ (<span style=\"color: #00d7ff; text-decoration-color: #00d7ff\">None</span>, <span style=\"color: #00af00; text-decoration-color: #00af00\">512</span>)       │          <span style=\"color: #00af00; text-decoration-color: #00af00\">0</span> │ Seq2Seq_bidirect… │\n",
       "│ (<span style=\"color: #0087ff; text-decoration-color: #0087ff\">Concatenate</span>)       │                   │            │ Seq2Seq_bidirect… │\n",
       "├─────────────────────┼───────────────────┼────────────┼───────────────────┤\n",
       "│ concatenate_48      │ (<span style=\"color: #00d7ff; text-decoration-color: #00d7ff\">None</span>, <span style=\"color: #00af00; text-decoration-color: #00af00\">512</span>)       │          <span style=\"color: #00af00; text-decoration-color: #00af00\">0</span> │ Seq2Seq_bidirect… │\n",
       "│ (<span style=\"color: #0087ff; text-decoration-color: #0087ff\">Concatenate</span>)       │                   │            │ Seq2Seq_bidirect… │\n",
       "├─────────────────────┼───────────────────┼────────────┼───────────────────┤\n",
       "│ concatenate_49      │ (<span style=\"color: #00d7ff; text-decoration-color: #00d7ff\">None</span>, <span style=\"color: #00af00; text-decoration-color: #00af00\">512</span>)       │          <span style=\"color: #00af00; text-decoration-color: #00af00\">0</span> │ Seq2Seq_bidirect… │\n",
       "│ (<span style=\"color: #0087ff; text-decoration-color: #0087ff\">Concatenate</span>)       │                   │            │ Seq2Seq_bidirect… │\n",
       "├─────────────────────┼───────────────────┼────────────┼───────────────────┤\n",
       "│ Seq2Seq_rnn_decoder │ (<span style=\"color: #00d7ff; text-decoration-color: #00d7ff\">None</span>, <span style=\"color: #00d7ff; text-decoration-color: #00d7ff\">None</span>, <span style=\"color: #00af00; text-decoration-color: #00af00\">512</span>) │  <span style=\"color: #00af00; text-decoration-color: #00af00\">3,674,112</span> │ Seq2Seq_embeddin… │\n",
       "│ (<span style=\"color: #0087ff; text-decoration-color: #0087ff\">RNN</span>)               │                   │            │ concatenate_46[<span style=\"color: #00af00; text-decoration-color: #00af00\">0</span>… │\n",
       "│                     │                   │            │ concatenate_47[<span style=\"color: #00af00; text-decoration-color: #00af00\">0</span>… │\n",
       "│                     │                   │            │ concatenate_48[<span style=\"color: #00af00; text-decoration-color: #00af00\">0</span>… │\n",
       "│                     │                   │            │ concatenate_49[<span style=\"color: #00af00; text-decoration-color: #00af00\">0</span>… │\n",
       "├─────────────────────┼───────────────────┼────────────┼───────────────────┤\n",
       "│ Seq2Seq_attention   │ (<span style=\"color: #00d7ff; text-decoration-color: #00d7ff\">None</span>, <span style=\"color: #00d7ff; text-decoration-color: #00d7ff\">None</span>, <span style=\"color: #00af00; text-decoration-color: #00af00\">512</span>) │        <span style=\"color: #00af00; text-decoration-color: #00af00\">512</span> │ Seq2Seq_rnn_deco… │\n",
       "│ (<span style=\"color: #0087ff; text-decoration-color: #0087ff\">AdditiveAttention</span>) │                   │            │ Seq2Seq_bidirect… │\n",
       "├─────────────────────┼───────────────────┼────────────┼───────────────────┤\n",
       "│ Seq2Seq_rnn_and_at… │ (<span style=\"color: #00d7ff; text-decoration-color: #00d7ff\">None</span>, <span style=\"color: #00d7ff; text-decoration-color: #00d7ff\">None</span>,      │          <span style=\"color: #00af00; text-decoration-color: #00af00\">0</span> │ Seq2Seq_rnn_deco… │\n",
       "│ (<span style=\"color: #0087ff; text-decoration-color: #0087ff\">Concatenate</span>)       │ <span style=\"color: #00af00; text-decoration-color: #00af00\">1024</span>)             │            │ Seq2Seq_attentio… │\n",
       "├─────────────────────┼───────────────────┼────────────┼───────────────────┤\n",
       "│ Seq2Seq_output      │ (<span style=\"color: #00d7ff; text-decoration-color: #00d7ff\">None</span>, <span style=\"color: #00d7ff; text-decoration-color: #00d7ff\">None</span>,      │ <span style=\"color: #00af00; text-decoration-color: #00af00\">51,513,425</span> │ Seq2Seq_rnn_and_… │\n",
       "│ (<span style=\"color: #0087ff; text-decoration-color: #0087ff\">Dense</span>)             │ <span style=\"color: #00af00; text-decoration-color: #00af00\">50257</span>)            │            │                   │\n",
       "└─────────────────────┴───────────────────┴────────────┴───────────────────┘\n",
       "</pre>\n"
      ],
      "text/plain": [
       "┏━━━━━━━━━━━━━━━━━━━━━┳━━━━━━━━━━━━━━━━━━━┳━━━━━━━━━━━━┳━━━━━━━━━━━━━━━━━━━┓\n",
       "┃\u001b[1m \u001b[0m\u001b[1mLayer (type)       \u001b[0m\u001b[1m \u001b[0m┃\u001b[1m \u001b[0m\u001b[1mOutput Shape     \u001b[0m\u001b[1m \u001b[0m┃\u001b[1m \u001b[0m\u001b[1m   Param #\u001b[0m\u001b[1m \u001b[0m┃\u001b[1m \u001b[0m\u001b[1mConnected to     \u001b[0m\u001b[1m \u001b[0m┃\n",
       "┡━━━━━━━━━━━━━━━━━━━━━╇━━━━━━━━━━━━━━━━━━━╇━━━━━━━━━━━━╇━━━━━━━━━━━━━━━━━━━┩\n",
       "│ Seq2Seq_input_enco… │ (\u001b[38;5;45mNone\u001b[0m, \u001b[38;5;45mNone\u001b[0m)      │          \u001b[38;5;34m0\u001b[0m │ -                 │\n",
       "│ (\u001b[38;5;33mInputLayer\u001b[0m)        │                   │            │                   │\n",
       "├─────────────────────┼───────────────────┼────────────┼───────────────────┤\n",
       "│ Seq2Seq_embedding_… │ (\u001b[38;5;45mNone\u001b[0m, \u001b[38;5;45mNone\u001b[0m, \u001b[38;5;34m256\u001b[0m) │ \u001b[38;5;34m12,865,792\u001b[0m │ Seq2Seq_input_en… │\n",
       "│ (\u001b[38;5;33mEmbedding\u001b[0m)         │                   │            │                   │\n",
       "├─────────────────────┼───────────────────┼────────────┼───────────────────┤\n",
       "│ Seq2Seq_input_deco… │ (\u001b[38;5;45mNone\u001b[0m, \u001b[38;5;45mNone\u001b[0m)      │          \u001b[38;5;34m0\u001b[0m │ -                 │\n",
       "│ (\u001b[38;5;33mInputLayer\u001b[0m)        │                   │            │                   │\n",
       "├─────────────────────┼───────────────────┼────────────┼───────────────────┤\n",
       "│ Seq2Seq_bidirectio… │ [(\u001b[38;5;45mNone\u001b[0m, \u001b[38;5;45mNone\u001b[0m,     │  \u001b[38;5;34m2,101,248\u001b[0m │ Seq2Seq_embeddin… │\n",
       "│ (\u001b[38;5;33mBidirectional\u001b[0m)     │ \u001b[38;5;34m512\u001b[0m), (\u001b[38;5;45mNone\u001b[0m,      │            │                   │\n",
       "│                     │ \u001b[38;5;34m256\u001b[0m), (\u001b[38;5;45mNone\u001b[0m,      │            │                   │\n",
       "│                     │ \u001b[38;5;34m256\u001b[0m), (\u001b[38;5;45mNone\u001b[0m,      │            │                   │\n",
       "│                     │ \u001b[38;5;34m256\u001b[0m), (\u001b[38;5;45mNone\u001b[0m,      │            │                   │\n",
       "│                     │ \u001b[38;5;34m256\u001b[0m), (\u001b[38;5;45mNone\u001b[0m,      │            │                   │\n",
       "│                     │ \u001b[38;5;34m256\u001b[0m), (\u001b[38;5;45mNone\u001b[0m,      │            │                   │\n",
       "│                     │ \u001b[38;5;34m256\u001b[0m), (\u001b[38;5;45mNone\u001b[0m,      │            │                   │\n",
       "│                     │ \u001b[38;5;34m256\u001b[0m), (\u001b[38;5;45mNone\u001b[0m,      │            │                   │\n",
       "│                     │ \u001b[38;5;34m256\u001b[0m)]             │            │                   │\n",
       "├─────────────────────┼───────────────────┼────────────┼───────────────────┤\n",
       "│ Seq2Seq_embedding_… │ (\u001b[38;5;45mNone\u001b[0m, \u001b[38;5;45mNone\u001b[0m, \u001b[38;5;34m256\u001b[0m) │ \u001b[38;5;34m12,865,792\u001b[0m │ Seq2Seq_input_de… │\n",
       "│ (\u001b[38;5;33mEmbedding\u001b[0m)         │                   │            │                   │\n",
       "├─────────────────────┼───────────────────┼────────────┼───────────────────┤\n",
       "│ concatenate_46      │ (\u001b[38;5;45mNone\u001b[0m, \u001b[38;5;34m512\u001b[0m)       │          \u001b[38;5;34m0\u001b[0m │ Seq2Seq_bidirect… │\n",
       "│ (\u001b[38;5;33mConcatenate\u001b[0m)       │                   │            │ Seq2Seq_bidirect… │\n",
       "├─────────────────────┼───────────────────┼────────────┼───────────────────┤\n",
       "│ concatenate_47      │ (\u001b[38;5;45mNone\u001b[0m, \u001b[38;5;34m512\u001b[0m)       │          \u001b[38;5;34m0\u001b[0m │ Seq2Seq_bidirect… │\n",
       "│ (\u001b[38;5;33mConcatenate\u001b[0m)       │                   │            │ Seq2Seq_bidirect… │\n",
       "├─────────────────────┼───────────────────┼────────────┼───────────────────┤\n",
       "│ concatenate_48      │ (\u001b[38;5;45mNone\u001b[0m, \u001b[38;5;34m512\u001b[0m)       │          \u001b[38;5;34m0\u001b[0m │ Seq2Seq_bidirect… │\n",
       "│ (\u001b[38;5;33mConcatenate\u001b[0m)       │                   │            │ Seq2Seq_bidirect… │\n",
       "├─────────────────────┼───────────────────┼────────────┼───────────────────┤\n",
       "│ concatenate_49      │ (\u001b[38;5;45mNone\u001b[0m, \u001b[38;5;34m512\u001b[0m)       │          \u001b[38;5;34m0\u001b[0m │ Seq2Seq_bidirect… │\n",
       "│ (\u001b[38;5;33mConcatenate\u001b[0m)       │                   │            │ Seq2Seq_bidirect… │\n",
       "├─────────────────────┼───────────────────┼────────────┼───────────────────┤\n",
       "│ Seq2Seq_rnn_decoder │ (\u001b[38;5;45mNone\u001b[0m, \u001b[38;5;45mNone\u001b[0m, \u001b[38;5;34m512\u001b[0m) │  \u001b[38;5;34m3,674,112\u001b[0m │ Seq2Seq_embeddin… │\n",
       "│ (\u001b[38;5;33mRNN\u001b[0m)               │                   │            │ concatenate_46[\u001b[38;5;34m0\u001b[0m… │\n",
       "│                     │                   │            │ concatenate_47[\u001b[38;5;34m0\u001b[0m… │\n",
       "│                     │                   │            │ concatenate_48[\u001b[38;5;34m0\u001b[0m… │\n",
       "│                     │                   │            │ concatenate_49[\u001b[38;5;34m0\u001b[0m… │\n",
       "├─────────────────────┼───────────────────┼────────────┼───────────────────┤\n",
       "│ Seq2Seq_attention   │ (\u001b[38;5;45mNone\u001b[0m, \u001b[38;5;45mNone\u001b[0m, \u001b[38;5;34m512\u001b[0m) │        \u001b[38;5;34m512\u001b[0m │ Seq2Seq_rnn_deco… │\n",
       "│ (\u001b[38;5;33mAdditiveAttention\u001b[0m) │                   │            │ Seq2Seq_bidirect… │\n",
       "├─────────────────────┼───────────────────┼────────────┼───────────────────┤\n",
       "│ Seq2Seq_rnn_and_at… │ (\u001b[38;5;45mNone\u001b[0m, \u001b[38;5;45mNone\u001b[0m,      │          \u001b[38;5;34m0\u001b[0m │ Seq2Seq_rnn_deco… │\n",
       "│ (\u001b[38;5;33mConcatenate\u001b[0m)       │ \u001b[38;5;34m1024\u001b[0m)             │            │ Seq2Seq_attentio… │\n",
       "├─────────────────────┼───────────────────┼────────────┼───────────────────┤\n",
       "│ Seq2Seq_output      │ (\u001b[38;5;45mNone\u001b[0m, \u001b[38;5;45mNone\u001b[0m,      │ \u001b[38;5;34m51,513,425\u001b[0m │ Seq2Seq_rnn_and_… │\n",
       "│ (\u001b[38;5;33mDense\u001b[0m)             │ \u001b[38;5;34m50257\u001b[0m)            │            │                   │\n",
       "└─────────────────────┴───────────────────┴────────────┴───────────────────┘\n"
      ]
     },
     "metadata": {},
     "output_type": "display_data"
    },
    {
     "data": {
      "text/html": [
       "<pre style=\"white-space:pre;overflow-x:auto;line-height:normal;font-family:Menlo,'DejaVu Sans Mono',consolas,'Courier New',monospace\"><span style=\"font-weight: bold\"> Total params: </span><span style=\"color: #00af00; text-decoration-color: #00af00\">83,020,881</span> (316.70 MB)\n",
       "</pre>\n"
      ],
      "text/plain": [
       "\u001b[1m Total params: \u001b[0m\u001b[38;5;34m83,020,881\u001b[0m (316.70 MB)\n"
      ]
     },
     "metadata": {},
     "output_type": "display_data"
    },
    {
     "data": {
      "text/html": [
       "<pre style=\"white-space:pre;overflow-x:auto;line-height:normal;font-family:Menlo,'DejaVu Sans Mono',consolas,'Courier New',monospace\"><span style=\"font-weight: bold\"> Trainable params: </span><span style=\"color: #00af00; text-decoration-color: #00af00\">83,020,881</span> (316.70 MB)\n",
       "</pre>\n"
      ],
      "text/plain": [
       "\u001b[1m Trainable params: \u001b[0m\u001b[38;5;34m83,020,881\u001b[0m (316.70 MB)\n"
      ]
     },
     "metadata": {},
     "output_type": "display_data"
    },
    {
     "data": {
      "text/html": [
       "<pre style=\"white-space:pre;overflow-x:auto;line-height:normal;font-family:Menlo,'DejaVu Sans Mono',consolas,'Courier New',monospace\"><span style=\"font-weight: bold\"> Non-trainable params: </span><span style=\"color: #00af00; text-decoration-color: #00af00\">0</span> (0.00 B)\n",
       "</pre>\n"
      ],
      "text/plain": [
       "\u001b[1m Non-trainable params: \u001b[0m\u001b[38;5;34m0\u001b[0m (0.00 B)\n"
      ]
     },
     "metadata": {},
     "output_type": "display_data"
    }
   ],
   "source": [
    "model2 = get_model(256,\n",
    "                   tokenizer.vocab_size,\n",
    "                   tokenizer.vocab_size,\n",
    "                   n_stacks=2,\n",
    "                   bidirectional=True,\n",
    "                   name='Seq2Seq',\n",
    "                   cell_type=tf.keras.layers.LSTMCell,\n",
    "                   attention_flg=True\n",
    ")\n",
    "\n",
    "model2.summary()"
   ]
  },
  {
   "cell_type": "code",
   "execution_count": 131,
   "id": "0e99a634-25dd-4f34-9993-3a2a5e349c3f",
   "metadata": {},
   "outputs": [],
   "source": [
    "model2.compile(\n",
    "    loss=tf.keras.losses.SparseCategoricalCrossentropy(from_logits=True),\n",
    "    optimizer=keras.optimizers.Adam(learning_rate=0.001),\n",
    "    metrics=['accuracy']\n",
    ")"
   ]
  },
  {
   "cell_type": "code",
   "execution_count": 22,
   "id": "309dd5d1-fa37-4938-b27b-8308a9119df0",
   "metadata": {
    "scrolled": true
   },
   "outputs": [
    {
     "name": "stdout",
     "output_type": "stream",
     "text": [
      "model training: Seq2Seq\n",
      "Epoch 1/10\n"
     ]
    },
    {
     "name": "stderr",
     "output_type": "stream",
     "text": [
      "WARNING: All log messages before absl::InitializeLog() is called are written to STDERR\n",
      "I0000 00:00:1731339341.212558   82564 service.cc:145] XLA service 0x1469c690 initialized for platform CUDA (this does not guarantee that XLA will be used). Devices:\n",
      "I0000 00:00:1731339341.212833   82564 service.cc:153]   StreamExecutor device (0): NVIDIA GeForce RTX 4060 Laptop GPU, Compute Capability 8.9\n",
      "2024-11-12 01:35:41.324650: I tensorflow/compiler/mlir/tensorflow/utils/dump_mlir_util.cc:268] disabling MLIR crash reproducer, set env var `MLIR_CRASH_REPRODUCER_DIRECTORY` to enable.\n",
      "W0000 00:00:1731339341.884609   82564 assert_op.cc:38] Ignoring Assert operator compile_loss/sparse_categorical_crossentropy/SparseSoftmaxCrossEntropyWithLogits/assert_equal_1/Assert/Assert\n",
      "2024-11-12 01:35:42.262082: I external/local_xla/xla/stream_executor/cuda/cuda_dnn.cc:465] Loaded cuDNN version 8907\n",
      "WARNING: All log messages before absl::InitializeLog() is called are written to STDERR\n",
      "I0000 00:00:1731339343.516538   83151 asm_compiler.cc:369] ptxas warning : Registers are spilled to local memory in function 'triton_gemm_dot_174', 40 bytes spill stores, 112 bytes spill loads\n",
      "\n",
      "I0000 00:00:1731339344.143039   83147 asm_compiler.cc:369] ptxas warning : Registers are spilled to local memory in function 'triton_gemm_dot_174', 2960 bytes spill stores, 4604 bytes spill loads\n",
      "\n",
      "I0000 00:00:1731339345.025350   83161 asm_compiler.cc:369] ptxas warning : Registers are spilled to local memory in function 'triton_gemm_dot_176', 40 bytes spill stores, 112 bytes spill loads\n",
      "\n",
      "I0000 00:00:1731339345.598894   83146 asm_compiler.cc:369] ptxas warning : Registers are spilled to local memory in function 'triton_gemm_dot_176', 2956 bytes spill stores, 4600 bytes spill loads\n",
      "\n",
      "I0000 00:00:1731339345.709060   83148 asm_compiler.cc:369] ptxas warning : Registers are spilled to local memory in function 'triton_gemm_dot_178', 84 bytes spill stores, 84 bytes spill loads\n",
      "\n",
      "I0000 00:00:1731339345.726238   83157 asm_compiler.cc:369] ptxas warning : Registers are spilled to local memory in function 'triton_gemm_dot_178', 1748 bytes spill stores, 2168 bytes spill loads\n",
      "\n",
      "I0000 00:00:1731339345.841625   83151 asm_compiler.cc:369] ptxas warning : Registers are spilled to local memory in function 'triton_gemm_dot_4', 212 bytes spill stores, 212 bytes spill loads\n",
      "\n",
      "I0000 00:00:1731339345.938943   83160 asm_compiler.cc:369] ptxas warning : Registers are spilled to local memory in function 'triton_gemm_dot_4', 44 bytes spill stores, 40 bytes spill loads\n",
      "\n",
      "I0000 00:00:1731339346.170343   83155 asm_compiler.cc:369] ptxas warning : Registers are spilled to local memory in function 'triton_gemm_dot_4', 784 bytes spill stores, 728 bytes spill loads\n",
      "\n",
      "I0000 00:00:1731339351.811182   82564 device_compiler.h:188] Compiled cluster using XLA!  This line is logged at most once for the lifetime of the process.\n"
     ]
    },
    {
     "name": "stdout",
     "output_type": "stream",
     "text": [
      "\u001b[1m2004/2005\u001b[0m \u001b[32m━━━━━━━━━━━━━━━━━━━\u001b[0m\u001b[37m━\u001b[0m \u001b[1m0s\u001b[0m 169ms/step - accuracy: 0.5959 - loss: 2.5804"
     ]
    },
    {
     "name": "stderr",
     "output_type": "stream",
     "text": [
      "W0000 00:00:1731339691.066388   82568 assert_op.cc:38] Ignoring Assert operator compile_loss/sparse_categorical_crossentropy/SparseSoftmaxCrossEntropyWithLogits/assert_equal_1/Assert/Assert\n",
      "I0000 00:00:1731339692.302209   84766 asm_compiler.cc:369] ptxas warning : Registers are spilled to local memory in function 'triton_gemm_dot_175', 4 bytes spill stores, 4 bytes spill loads\n",
      "\n",
      "I0000 00:00:1731339692.666515   84759 asm_compiler.cc:369] ptxas warning : Registers are spilled to local memory in function 'triton_gemm_dot_176', 340 bytes spill stores, 340 bytes spill loads\n",
      "\n",
      "I0000 00:00:1731339692.762005   84767 asm_compiler.cc:369] ptxas warning : Registers are spilled to local memory in function 'triton_gemm_dot_174', 4 bytes spill stores, 4 bytes spill loads\n",
      "\n",
      "I0000 00:00:1731339693.041722   84768 asm_compiler.cc:369] ptxas warning : Registers are spilled to local memory in function 'triton_gemm_dot_178', 24 bytes spill stores, 24 bytes spill loads\n",
      "\n",
      "I0000 00:00:1731339693.900384   84767 asm_compiler.cc:369] ptxas warning : Registers are spilled to local memory in function 'triton_gemm_dot_4', 216 bytes spill stores, 216 bytes spill loads\n",
      "\n",
      "I0000 00:00:1731339693.987940   84761 asm_compiler.cc:369] ptxas warning : Registers are spilled to local memory in function 'triton_gemm_dot_176', 96 bytes spill stores, 96 bytes spill loads\n",
      "\n",
      "I0000 00:00:1731339694.108065   84760 asm_compiler.cc:369] ptxas warning : Registers are spilled to local memory in function 'triton_gemm_dot_176', 48 bytes spill stores, 36 bytes spill loads\n",
      "\n",
      "I0000 00:00:1731339694.499413   84764 asm_compiler.cc:369] ptxas warning : Registers are spilled to local memory in function 'triton_gemm_dot_181', 4 bytes spill stores, 4 bytes spill loads\n",
      "\n",
      "I0000 00:00:1731339694.571541   84761 asm_compiler.cc:369] ptxas warning : Registers are spilled to local memory in function 'triton_gemm_dot_176', 4 bytes spill stores, 4 bytes spill loads\n",
      "\n",
      "I0000 00:00:1731339694.705858   84754 asm_compiler.cc:369] ptxas warning : Registers are spilled to local memory in function 'triton_gemm_dot_4', 212 bytes spill stores, 212 bytes spill loads\n",
      "\n",
      "I0000 00:00:1731339694.788529   84766 asm_compiler.cc:369] ptxas warning : Registers are spilled to local memory in function 'triton_gemm_dot_178', 348 bytes spill stores, 788 bytes spill loads\n",
      "\n",
      "I0000 00:00:1731339694.998111   84766 asm_compiler.cc:369] ptxas warning : Registers are spilled to local memory in function 'triton_gemm_dot_178', 4 bytes spill stores, 4 bytes spill loads\n",
      "\n",
      "I0000 00:00:1731339695.397556   84761 asm_compiler.cc:369] ptxas warning : Registers are spilled to local memory in function 'triton_gemm_dot_178', 92 bytes spill stores, 92 bytes spill loads\n",
      "\n",
      "I0000 00:00:1731339695.503944   84762 asm_compiler.cc:369] ptxas warning : Registers are spilled to local memory in function 'triton_gemm_dot_174', 52 bytes spill stores, 36 bytes spill loads\n",
      "\n",
      "I0000 00:00:1731339695.859367   84759 asm_compiler.cc:369] ptxas warning : Registers are spilled to local memory in function 'triton_gemm_dot_174', 340 bytes spill stores, 340 bytes spill loads\n",
      "\n",
      "I0000 00:00:1731339696.130235   84762 asm_compiler.cc:369] ptxas warning : Registers are spilled to local memory in function 'triton_gemm_dot_174', 96 bytes spill stores, 96 bytes spill loads\n",
      "\n"
     ]
    },
    {
     "name": "stdout",
     "output_type": "stream",
     "text": [
      "\u001b[1m2005/2005\u001b[0m \u001b[32m━━━━━━━━━━━━━━━━━━━━\u001b[0m\u001b[37m\u001b[0m \u001b[1m0s\u001b[0m 174ms/step - accuracy: 0.5959 - loss: 2.5801"
     ]
    },
    {
     "name": "stderr",
     "output_type": "stream",
     "text": [
      "W0000 00:00:1731339701.610509   82573 assert_op.cc:38] Ignoring Assert operator compile_loss/sparse_categorical_crossentropy/SparseSoftmaxCrossEntropyWithLogits/assert_equal_1/Assert/Assert\n",
      "W0000 00:00:1731339745.696962   82570 assert_op.cc:38] Ignoring Assert operator compile_loss/sparse_categorical_crossentropy/SparseSoftmaxCrossEntropyWithLogits/assert_equal_1/Assert/Assert\n"
     ]
    },
    {
     "name": "stdout",
     "output_type": "stream",
     "text": [
      "\u001b[1m2005/2005\u001b[0m \u001b[32m━━━━━━━━━━━━━━━━━━━━\u001b[0m\u001b[37m\u001b[0m \u001b[1m409s\u001b[0m 197ms/step - accuracy: 0.5960 - loss: 2.5799 - val_accuracy: 0.7143 - val_loss: 1.4933\n",
      "Epoch 2/10\n",
      "\u001b[1m2005/2005\u001b[0m \u001b[32m━━━━━━━━━━━━━━━━━━━━\u001b[0m\u001b[37m\u001b[0m \u001b[1m432s\u001b[0m 216ms/step - accuracy: 0.7107 - loss: 1.3478 - val_accuracy: 0.6940 - val_loss: 1.0470\n",
      "Epoch 3/10\n",
      "\u001b[1m2005/2005\u001b[0m \u001b[32m━━━━━━━━━━━━━━━━━━━━\u001b[0m\u001b[37m\u001b[0m \u001b[1m464s\u001b[0m 231ms/step - accuracy: 0.6965 - loss: 0.9304 - val_accuracy: 0.7008 - val_loss: 0.8594\n",
      "Epoch 4/10\n",
      "\u001b[1m2005/2005\u001b[0m \u001b[32m━━━━━━━━━━━━━━━━━━━━\u001b[0m\u001b[37m\u001b[0m \u001b[1m470s\u001b[0m 234ms/step - accuracy: 0.6804 - loss: 0.7274 - val_accuracy: 0.6978 - val_loss: 0.7891\n",
      "Epoch 5/10\n",
      "\u001b[1m2005/2005\u001b[0m \u001b[32m━━━━━━━━━━━━━━━━━━━━\u001b[0m\u001b[37m\u001b[0m \u001b[1m470s\u001b[0m 235ms/step - accuracy: 0.6748 - loss: 0.6091 - val_accuracy: 0.6637 - val_loss: 0.7582\n",
      "Epoch 6/10\n",
      "\u001b[1m2005/2005\u001b[0m \u001b[32m━━━━━━━━━━━━━━━━━━━━\u001b[0m\u001b[37m\u001b[0m \u001b[1m469s\u001b[0m 234ms/step - accuracy: 0.6648 - loss: 0.5299 - val_accuracy: 0.6410 - val_loss: 0.7446\n",
      "Epoch 7/10\n",
      "\u001b[1m2005/2005\u001b[0m \u001b[32m━━━━━━━━━━━━━━━━━━━━\u001b[0m\u001b[37m\u001b[0m \u001b[1m471s\u001b[0m 235ms/step - accuracy: 0.6606 - loss: 0.4717 - val_accuracy: 0.6237 - val_loss: 0.7432\n",
      "Epoch 8/10\n",
      "\u001b[1m2005/2005\u001b[0m \u001b[32m━━━━━━━━━━━━━━━━━━━━\u001b[0m\u001b[37m\u001b[0m \u001b[1m468s\u001b[0m 233ms/step - accuracy: 0.6481 - loss: 0.4262 - val_accuracy: 0.6287 - val_loss: 0.7420\n",
      "Epoch 9/10\n",
      "\u001b[1m2005/2005\u001b[0m \u001b[32m━━━━━━━━━━━━━━━━━━━━\u001b[0m\u001b[37m\u001b[0m \u001b[1m469s\u001b[0m 234ms/step - accuracy: 0.6526 - loss: 0.3887 - val_accuracy: 0.6232 - val_loss: 0.7463\n",
      "Epoch 10/10\n",
      "\u001b[1m2005/2005\u001b[0m \u001b[32m━━━━━━━━━━━━━━━━━━━━\u001b[0m\u001b[37m\u001b[0m \u001b[1m471s\u001b[0m 235ms/step - accuracy: 0.6584 - loss: 0.3570 - val_accuracy: 0.6095 - val_loss: 0.7557\n"
     ]
    }
   ],
   "source": [
    "print(f'model training: {model2.name}')\n",
    "history_2 = model2.fit(train_dataset, validation_data=test_dataset, batch_size=256, epochs=10)"
   ]
  },
  {
   "cell_type": "code",
   "execution_count": 23,
   "id": "ee920afd-fb05-4643-a827-11296525f71c",
   "metadata": {},
   "outputs": [
    {
     "name": "stdout",
     "output_type": "stream",
     "text": [
      "------------------------------\n",
      "Веса модели 10_LSTM_attention_Seq2Seq сохранены\n"
     ]
    }
   ],
   "source": [
    "print('-'*30)\n",
    "model2.save_weights(f'10_LSTM_attention_{model2.name}.weights.h5')\n",
    "print(f'Веса модели 10_LSTM_attention_{model2.name} сохранены')"
   ]
  },
  {
   "cell_type": "code",
   "execution_count": 133,
   "id": "7bc80b67-ba02-45ac-a2cd-4e2d74f438f7",
   "metadata": {},
   "outputs": [
    {
     "name": "stdout",
     "output_type": "stream",
     "text": [
      "Веса модели 10_LSTM_attention_Seq2Seq загружены\n"
     ]
    }
   ],
   "source": [
    "model2.load_weights(f'10_LSTM_attention_{model2.name}.weights.h5')\n",
    "print(f'Веса модели 10_LSTM_attention_{model2.name} загружены')"
   ]
  },
  {
   "cell_type": "code",
   "execution_count": 136,
   "id": "84bc6862-388b-4da0-a2df-6d2bb70daac4",
   "metadata": {},
   "outputs": [],
   "source": [
    "texts = ['Я люблю пиво', 'Я хочу в отпуск', 'Суббота лучший день для учёбы', 'Котик уснул на кровати']\n",
    "translates_texts = []\n",
    "for text in texts:\n",
    "    translates_texts.append(translate(text, tokenizer, model2, 16, type_cell='LSTM', name_model='Seq2Seq', flg_attention=True))"
   ]
  },
  {
   "cell_type": "code",
   "execution_count": 137,
   "id": "7fd06688-8e07-488e-a5a4-6a608c8a7e76",
   "metadata": {},
   "outputs": [
    {
     "data": {
      "text/plain": [
       "['I like beer.',\n",
       " 'I want to go to the suburbs.',\n",
       " 'Saturday is the best of the study.',\n",
       " 'The cat fell asleep on the bed.']"
      ]
     },
     "execution_count": 137,
     "metadata": {},
     "output_type": "execute_result"
    }
   ],
   "source": [
    "translates_texts"
   ]
  },
  {
   "cell_type": "markdown",
   "id": "6b9ddd61-970d-467d-b878-f7675cc389d2",
   "metadata": {},
   "source": [
    "---"
   ]
  },
  {
   "cell_type": "code",
   "execution_count": 158,
   "id": "7f2ccc3e-53d6-4142-bf8b-b382a44d5a1c",
   "metadata": {},
   "outputs": [
    {
     "data": {
      "text/html": [
       "<pre style=\"white-space:pre;overflow-x:auto;line-height:normal;font-family:Menlo,'DejaVu Sans Mono',consolas,'Courier New',monospace\"><span style=\"font-weight: bold\">Model: \"Seq2Seq_attention_GRUCell\"</span>\n",
       "</pre>\n"
      ],
      "text/plain": [
       "\u001b[1mModel: \"Seq2Seq_attention_GRUCell\"\u001b[0m\n"
      ]
     },
     "metadata": {},
     "output_type": "display_data"
    },
    {
     "data": {
      "text/html": [
       "<pre style=\"white-space:pre;overflow-x:auto;line-height:normal;font-family:Menlo,'DejaVu Sans Mono',consolas,'Courier New',monospace\">┏━━━━━━━━━━━━━━━━━━━━━┳━━━━━━━━━━━━━━━━━━━┳━━━━━━━━━━━━┳━━━━━━━━━━━━━━━━━━━┓\n",
       "┃<span style=\"font-weight: bold\"> Layer (type)        </span>┃<span style=\"font-weight: bold\"> Output Shape      </span>┃<span style=\"font-weight: bold\">    Param # </span>┃<span style=\"font-weight: bold\"> Connected to      </span>┃\n",
       "┡━━━━━━━━━━━━━━━━━━━━━╇━━━━━━━━━━━━━━━━━━━╇━━━━━━━━━━━━╇━━━━━━━━━━━━━━━━━━━┩\n",
       "│ Seq2Seq_attention_… │ (<span style=\"color: #00d7ff; text-decoration-color: #00d7ff\">None</span>, <span style=\"color: #00d7ff; text-decoration-color: #00d7ff\">None</span>)      │          <span style=\"color: #00af00; text-decoration-color: #00af00\">0</span> │ -                 │\n",
       "│ (<span style=\"color: #0087ff; text-decoration-color: #0087ff\">InputLayer</span>)        │                   │            │                   │\n",
       "├─────────────────────┼───────────────────┼────────────┼───────────────────┤\n",
       "│ Seq2Seq_attention_… │ (<span style=\"color: #00d7ff; text-decoration-color: #00d7ff\">None</span>, <span style=\"color: #00d7ff; text-decoration-color: #00d7ff\">None</span>, <span style=\"color: #00af00; text-decoration-color: #00af00\">128</span>) │  <span style=\"color: #00af00; text-decoration-color: #00af00\">6,432,896</span> │ Seq2Seq_attentio… │\n",
       "│ (<span style=\"color: #0087ff; text-decoration-color: #0087ff\">Embedding</span>)         │                   │            │                   │\n",
       "├─────────────────────┼───────────────────┼────────────┼───────────────────┤\n",
       "│ Seq2Seq_attention_… │ (<span style=\"color: #00d7ff; text-decoration-color: #00d7ff\">None</span>, <span style=\"color: #00d7ff; text-decoration-color: #00d7ff\">None</span>)      │          <span style=\"color: #00af00; text-decoration-color: #00af00\">0</span> │ -                 │\n",
       "│ (<span style=\"color: #0087ff; text-decoration-color: #0087ff\">InputLayer</span>)        │                   │            │                   │\n",
       "├─────────────────────┼───────────────────┼────────────┼───────────────────┤\n",
       "│ Seq2Seq_attention_… │ [(<span style=\"color: #00d7ff; text-decoration-color: #00d7ff\">None</span>, <span style=\"color: #00d7ff; text-decoration-color: #00d7ff\">None</span>,     │    <span style=\"color: #00af00; text-decoration-color: #00af00\">792,576</span> │ Seq2Seq_attentio… │\n",
       "│ (<span style=\"color: #0087ff; text-decoration-color: #0087ff\">Bidirectional</span>)     │ <span style=\"color: #00af00; text-decoration-color: #00af00\">256</span>), (<span style=\"color: #00d7ff; text-decoration-color: #00d7ff\">None</span>,      │            │                   │\n",
       "│                     │ <span style=\"color: #00af00; text-decoration-color: #00af00\">128</span>), (<span style=\"color: #00d7ff; text-decoration-color: #00d7ff\">None</span>,      │            │                   │\n",
       "│                     │ <span style=\"color: #00af00; text-decoration-color: #00af00\">128</span>), (<span style=\"color: #00d7ff; text-decoration-color: #00d7ff\">None</span>,      │            │                   │\n",
       "│                     │ <span style=\"color: #00af00; text-decoration-color: #00af00\">128</span>), (<span style=\"color: #00d7ff; text-decoration-color: #00d7ff\">None</span>,      │            │                   │\n",
       "│                     │ <span style=\"color: #00af00; text-decoration-color: #00af00\">128</span>), (<span style=\"color: #00d7ff; text-decoration-color: #00d7ff\">None</span>,      │            │                   │\n",
       "│                     │ <span style=\"color: #00af00; text-decoration-color: #00af00\">128</span>), (<span style=\"color: #00d7ff; text-decoration-color: #00d7ff\">None</span>,      │            │                   │\n",
       "│                     │ <span style=\"color: #00af00; text-decoration-color: #00af00\">128</span>), (<span style=\"color: #00d7ff; text-decoration-color: #00d7ff\">None</span>,      │            │                   │\n",
       "│                     │ <span style=\"color: #00af00; text-decoration-color: #00af00\">128</span>), (<span style=\"color: #00d7ff; text-decoration-color: #00d7ff\">None</span>,      │            │                   │\n",
       "│                     │ <span style=\"color: #00af00; text-decoration-color: #00af00\">128</span>)]             │            │                   │\n",
       "├─────────────────────┼───────────────────┼────────────┼───────────────────┤\n",
       "│ Seq2Seq_attention_… │ (<span style=\"color: #00d7ff; text-decoration-color: #00d7ff\">None</span>, <span style=\"color: #00d7ff; text-decoration-color: #00d7ff\">None</span>, <span style=\"color: #00af00; text-decoration-color: #00af00\">128</span>) │  <span style=\"color: #00af00; text-decoration-color: #00af00\">6,432,896</span> │ Seq2Seq_attentio… │\n",
       "│ (<span style=\"color: #0087ff; text-decoration-color: #0087ff\">Embedding</span>)         │                   │            │                   │\n",
       "├─────────────────────┼───────────────────┼────────────┼───────────────────┤\n",
       "│ concatenate_58      │ (<span style=\"color: #00d7ff; text-decoration-color: #00d7ff\">None</span>, <span style=\"color: #00af00; text-decoration-color: #00af00\">256</span>)       │          <span style=\"color: #00af00; text-decoration-color: #00af00\">0</span> │ Seq2Seq_attentio… │\n",
       "│ (<span style=\"color: #0087ff; text-decoration-color: #0087ff\">Concatenate</span>)       │                   │            │ Seq2Seq_attentio… │\n",
       "├─────────────────────┼───────────────────┼────────────┼───────────────────┤\n",
       "│ concatenate_59      │ (<span style=\"color: #00d7ff; text-decoration-color: #00d7ff\">None</span>, <span style=\"color: #00af00; text-decoration-color: #00af00\">256</span>)       │          <span style=\"color: #00af00; text-decoration-color: #00af00\">0</span> │ Seq2Seq_attentio… │\n",
       "│ (<span style=\"color: #0087ff; text-decoration-color: #0087ff\">Concatenate</span>)       │                   │            │ Seq2Seq_attentio… │\n",
       "├─────────────────────┼───────────────────┼────────────┼───────────────────┤\n",
       "│ concatenate_60      │ (<span style=\"color: #00d7ff; text-decoration-color: #00d7ff\">None</span>, <span style=\"color: #00af00; text-decoration-color: #00af00\">256</span>)       │          <span style=\"color: #00af00; text-decoration-color: #00af00\">0</span> │ Seq2Seq_attentio… │\n",
       "│ (<span style=\"color: #0087ff; text-decoration-color: #0087ff\">Concatenate</span>)       │                   │            │ Seq2Seq_attentio… │\n",
       "├─────────────────────┼───────────────────┼────────────┼───────────────────┤\n",
       "│ concatenate_61      │ (<span style=\"color: #00d7ff; text-decoration-color: #00d7ff\">None</span>, <span style=\"color: #00af00; text-decoration-color: #00af00\">256</span>)       │          <span style=\"color: #00af00; text-decoration-color: #00af00\">0</span> │ Seq2Seq_attentio… │\n",
       "│ (<span style=\"color: #0087ff; text-decoration-color: #0087ff\">Concatenate</span>)       │                   │            │ Seq2Seq_attentio… │\n",
       "├─────────────────────┼───────────────────┼────────────┼───────────────────┤\n",
       "│ Seq2Seq_attention_… │ (<span style=\"color: #00d7ff; text-decoration-color: #00d7ff\">None</span>, <span style=\"color: #00d7ff; text-decoration-color: #00d7ff\">None</span>, <span style=\"color: #00af00; text-decoration-color: #00af00\">256</span>) │  <span style=\"color: #00af00; text-decoration-color: #00af00\">1,480,704</span> │ Seq2Seq_attentio… │\n",
       "│ (<span style=\"color: #0087ff; text-decoration-color: #0087ff\">RNN</span>)               │                   │            │ concatenate_58[<span style=\"color: #00af00; text-decoration-color: #00af00\">0</span>… │\n",
       "│                     │                   │            │ concatenate_59[<span style=\"color: #00af00; text-decoration-color: #00af00\">0</span>… │\n",
       "│                     │                   │            │ concatenate_60[<span style=\"color: #00af00; text-decoration-color: #00af00\">0</span>… │\n",
       "│                     │                   │            │ concatenate_61[<span style=\"color: #00af00; text-decoration-color: #00af00\">0</span>… │\n",
       "├─────────────────────┼───────────────────┼────────────┼───────────────────┤\n",
       "│ Seq2Seq_attention_… │ (<span style=\"color: #00d7ff; text-decoration-color: #00d7ff\">None</span>, <span style=\"color: #00d7ff; text-decoration-color: #00d7ff\">None</span>, <span style=\"color: #00af00; text-decoration-color: #00af00\">256</span>) │        <span style=\"color: #00af00; text-decoration-color: #00af00\">256</span> │ Seq2Seq_attentio… │\n",
       "│ (<span style=\"color: #0087ff; text-decoration-color: #0087ff\">AdditiveAttention</span>) │                   │            │ Seq2Seq_attentio… │\n",
       "├─────────────────────┼───────────────────┼────────────┼───────────────────┤\n",
       "│ Seq2Seq_attention_… │ (<span style=\"color: #00d7ff; text-decoration-color: #00d7ff\">None</span>, <span style=\"color: #00d7ff; text-decoration-color: #00d7ff\">None</span>, <span style=\"color: #00af00; text-decoration-color: #00af00\">512</span>) │          <span style=\"color: #00af00; text-decoration-color: #00af00\">0</span> │ Seq2Seq_attentio… │\n",
       "│ (<span style=\"color: #0087ff; text-decoration-color: #0087ff\">Concatenate</span>)       │                   │            │ Seq2Seq_attentio… │\n",
       "├─────────────────────┼───────────────────┼────────────┼───────────────────┤\n",
       "│ Seq2Seq_attention_… │ (<span style=\"color: #00d7ff; text-decoration-color: #00d7ff\">None</span>, <span style=\"color: #00d7ff; text-decoration-color: #00d7ff\">None</span>,      │ <span style=\"color: #00af00; text-decoration-color: #00af00\">25,781,841</span> │ Seq2Seq_attentio… │\n",
       "│ (<span style=\"color: #0087ff; text-decoration-color: #0087ff\">Dense</span>)             │ <span style=\"color: #00af00; text-decoration-color: #00af00\">50257</span>)            │            │                   │\n",
       "└─────────────────────┴───────────────────┴────────────┴───────────────────┘\n",
       "</pre>\n"
      ],
      "text/plain": [
       "┏━━━━━━━━━━━━━━━━━━━━━┳━━━━━━━━━━━━━━━━━━━┳━━━━━━━━━━━━┳━━━━━━━━━━━━━━━━━━━┓\n",
       "┃\u001b[1m \u001b[0m\u001b[1mLayer (type)       \u001b[0m\u001b[1m \u001b[0m┃\u001b[1m \u001b[0m\u001b[1mOutput Shape     \u001b[0m\u001b[1m \u001b[0m┃\u001b[1m \u001b[0m\u001b[1m   Param #\u001b[0m\u001b[1m \u001b[0m┃\u001b[1m \u001b[0m\u001b[1mConnected to     \u001b[0m\u001b[1m \u001b[0m┃\n",
       "┡━━━━━━━━━━━━━━━━━━━━━╇━━━━━━━━━━━━━━━━━━━╇━━━━━━━━━━━━╇━━━━━━━━━━━━━━━━━━━┩\n",
       "│ Seq2Seq_attention_… │ (\u001b[38;5;45mNone\u001b[0m, \u001b[38;5;45mNone\u001b[0m)      │          \u001b[38;5;34m0\u001b[0m │ -                 │\n",
       "│ (\u001b[38;5;33mInputLayer\u001b[0m)        │                   │            │                   │\n",
       "├─────────────────────┼───────────────────┼────────────┼───────────────────┤\n",
       "│ Seq2Seq_attention_… │ (\u001b[38;5;45mNone\u001b[0m, \u001b[38;5;45mNone\u001b[0m, \u001b[38;5;34m128\u001b[0m) │  \u001b[38;5;34m6,432,896\u001b[0m │ Seq2Seq_attentio… │\n",
       "│ (\u001b[38;5;33mEmbedding\u001b[0m)         │                   │            │                   │\n",
       "├─────────────────────┼───────────────────┼────────────┼───────────────────┤\n",
       "│ Seq2Seq_attention_… │ (\u001b[38;5;45mNone\u001b[0m, \u001b[38;5;45mNone\u001b[0m)      │          \u001b[38;5;34m0\u001b[0m │ -                 │\n",
       "│ (\u001b[38;5;33mInputLayer\u001b[0m)        │                   │            │                   │\n",
       "├─────────────────────┼───────────────────┼────────────┼───────────────────┤\n",
       "│ Seq2Seq_attention_… │ [(\u001b[38;5;45mNone\u001b[0m, \u001b[38;5;45mNone\u001b[0m,     │    \u001b[38;5;34m792,576\u001b[0m │ Seq2Seq_attentio… │\n",
       "│ (\u001b[38;5;33mBidirectional\u001b[0m)     │ \u001b[38;5;34m256\u001b[0m), (\u001b[38;5;45mNone\u001b[0m,      │            │                   │\n",
       "│                     │ \u001b[38;5;34m128\u001b[0m), (\u001b[38;5;45mNone\u001b[0m,      │            │                   │\n",
       "│                     │ \u001b[38;5;34m128\u001b[0m), (\u001b[38;5;45mNone\u001b[0m,      │            │                   │\n",
       "│                     │ \u001b[38;5;34m128\u001b[0m), (\u001b[38;5;45mNone\u001b[0m,      │            │                   │\n",
       "│                     │ \u001b[38;5;34m128\u001b[0m), (\u001b[38;5;45mNone\u001b[0m,      │            │                   │\n",
       "│                     │ \u001b[38;5;34m128\u001b[0m), (\u001b[38;5;45mNone\u001b[0m,      │            │                   │\n",
       "│                     │ \u001b[38;5;34m128\u001b[0m), (\u001b[38;5;45mNone\u001b[0m,      │            │                   │\n",
       "│                     │ \u001b[38;5;34m128\u001b[0m), (\u001b[38;5;45mNone\u001b[0m,      │            │                   │\n",
       "│                     │ \u001b[38;5;34m128\u001b[0m)]             │            │                   │\n",
       "├─────────────────────┼───────────────────┼────────────┼───────────────────┤\n",
       "│ Seq2Seq_attention_… │ (\u001b[38;5;45mNone\u001b[0m, \u001b[38;5;45mNone\u001b[0m, \u001b[38;5;34m128\u001b[0m) │  \u001b[38;5;34m6,432,896\u001b[0m │ Seq2Seq_attentio… │\n",
       "│ (\u001b[38;5;33mEmbedding\u001b[0m)         │                   │            │                   │\n",
       "├─────────────────────┼───────────────────┼────────────┼───────────────────┤\n",
       "│ concatenate_58      │ (\u001b[38;5;45mNone\u001b[0m, \u001b[38;5;34m256\u001b[0m)       │          \u001b[38;5;34m0\u001b[0m │ Seq2Seq_attentio… │\n",
       "│ (\u001b[38;5;33mConcatenate\u001b[0m)       │                   │            │ Seq2Seq_attentio… │\n",
       "├─────────────────────┼───────────────────┼────────────┼───────────────────┤\n",
       "│ concatenate_59      │ (\u001b[38;5;45mNone\u001b[0m, \u001b[38;5;34m256\u001b[0m)       │          \u001b[38;5;34m0\u001b[0m │ Seq2Seq_attentio… │\n",
       "│ (\u001b[38;5;33mConcatenate\u001b[0m)       │                   │            │ Seq2Seq_attentio… │\n",
       "├─────────────────────┼───────────────────┼────────────┼───────────────────┤\n",
       "│ concatenate_60      │ (\u001b[38;5;45mNone\u001b[0m, \u001b[38;5;34m256\u001b[0m)       │          \u001b[38;5;34m0\u001b[0m │ Seq2Seq_attentio… │\n",
       "│ (\u001b[38;5;33mConcatenate\u001b[0m)       │                   │            │ Seq2Seq_attentio… │\n",
       "├─────────────────────┼───────────────────┼────────────┼───────────────────┤\n",
       "│ concatenate_61      │ (\u001b[38;5;45mNone\u001b[0m, \u001b[38;5;34m256\u001b[0m)       │          \u001b[38;5;34m0\u001b[0m │ Seq2Seq_attentio… │\n",
       "│ (\u001b[38;5;33mConcatenate\u001b[0m)       │                   │            │ Seq2Seq_attentio… │\n",
       "├─────────────────────┼───────────────────┼────────────┼───────────────────┤\n",
       "│ Seq2Seq_attention_… │ (\u001b[38;5;45mNone\u001b[0m, \u001b[38;5;45mNone\u001b[0m, \u001b[38;5;34m256\u001b[0m) │  \u001b[38;5;34m1,480,704\u001b[0m │ Seq2Seq_attentio… │\n",
       "│ (\u001b[38;5;33mRNN\u001b[0m)               │                   │            │ concatenate_58[\u001b[38;5;34m0\u001b[0m… │\n",
       "│                     │                   │            │ concatenate_59[\u001b[38;5;34m0\u001b[0m… │\n",
       "│                     │                   │            │ concatenate_60[\u001b[38;5;34m0\u001b[0m… │\n",
       "│                     │                   │            │ concatenate_61[\u001b[38;5;34m0\u001b[0m… │\n",
       "├─────────────────────┼───────────────────┼────────────┼───────────────────┤\n",
       "│ Seq2Seq_attention_… │ (\u001b[38;5;45mNone\u001b[0m, \u001b[38;5;45mNone\u001b[0m, \u001b[38;5;34m256\u001b[0m) │        \u001b[38;5;34m256\u001b[0m │ Seq2Seq_attentio… │\n",
       "│ (\u001b[38;5;33mAdditiveAttention\u001b[0m) │                   │            │ Seq2Seq_attentio… │\n",
       "├─────────────────────┼───────────────────┼────────────┼───────────────────┤\n",
       "│ Seq2Seq_attention_… │ (\u001b[38;5;45mNone\u001b[0m, \u001b[38;5;45mNone\u001b[0m, \u001b[38;5;34m512\u001b[0m) │          \u001b[38;5;34m0\u001b[0m │ Seq2Seq_attentio… │\n",
       "│ (\u001b[38;5;33mConcatenate\u001b[0m)       │                   │            │ Seq2Seq_attentio… │\n",
       "├─────────────────────┼───────────────────┼────────────┼───────────────────┤\n",
       "│ Seq2Seq_attention_… │ (\u001b[38;5;45mNone\u001b[0m, \u001b[38;5;45mNone\u001b[0m,      │ \u001b[38;5;34m25,781,841\u001b[0m │ Seq2Seq_attentio… │\n",
       "│ (\u001b[38;5;33mDense\u001b[0m)             │ \u001b[38;5;34m50257\u001b[0m)            │            │                   │\n",
       "└─────────────────────┴───────────────────┴────────────┴───────────────────┘\n"
      ]
     },
     "metadata": {},
     "output_type": "display_data"
    },
    {
     "data": {
      "text/html": [
       "<pre style=\"white-space:pre;overflow-x:auto;line-height:normal;font-family:Menlo,'DejaVu Sans Mono',consolas,'Courier New',monospace\"><span style=\"font-weight: bold\"> Total params: </span><span style=\"color: #00af00; text-decoration-color: #00af00\">40,921,169</span> (156.10 MB)\n",
       "</pre>\n"
      ],
      "text/plain": [
       "\u001b[1m Total params: \u001b[0m\u001b[38;5;34m40,921,169\u001b[0m (156.10 MB)\n"
      ]
     },
     "metadata": {},
     "output_type": "display_data"
    },
    {
     "data": {
      "text/html": [
       "<pre style=\"white-space:pre;overflow-x:auto;line-height:normal;font-family:Menlo,'DejaVu Sans Mono',consolas,'Courier New',monospace\"><span style=\"font-weight: bold\"> Trainable params: </span><span style=\"color: #00af00; text-decoration-color: #00af00\">40,921,169</span> (156.10 MB)\n",
       "</pre>\n"
      ],
      "text/plain": [
       "\u001b[1m Trainable params: \u001b[0m\u001b[38;5;34m40,921,169\u001b[0m (156.10 MB)\n"
      ]
     },
     "metadata": {},
     "output_type": "display_data"
    },
    {
     "data": {
      "text/html": [
       "<pre style=\"white-space:pre;overflow-x:auto;line-height:normal;font-family:Menlo,'DejaVu Sans Mono',consolas,'Courier New',monospace\"><span style=\"font-weight: bold\"> Non-trainable params: </span><span style=\"color: #00af00; text-decoration-color: #00af00\">0</span> (0.00 B)\n",
       "</pre>\n"
      ],
      "text/plain": [
       "\u001b[1m Non-trainable params: \u001b[0m\u001b[38;5;34m0\u001b[0m (0.00 B)\n"
      ]
     },
     "metadata": {},
     "output_type": "display_data"
    }
   ],
   "source": [
    "model3 = get_model(128,\n",
    "                   tokenizer.vocab_size,\n",
    "                   tokenizer.vocab_size,\n",
    "                   n_stacks=4,\n",
    "                   bidirectional=True,\n",
    "                   name='Seq2Seq_attention_GRUCell',\n",
    "                   cell_type=tf.keras.layers.GRUCell,\n",
    "                   attention_flg=True\n",
    ")\n",
    "\n",
    "model3.summary()"
   ]
  },
  {
   "cell_type": "code",
   "execution_count": 159,
   "id": "b5151677-546e-4f91-a021-39b356a5fb67",
   "metadata": {},
   "outputs": [],
   "source": [
    "model3.compile(\n",
    "    loss=tf.keras.losses.SparseCategoricalCrossentropy(from_logits=True),\n",
    "    optimizer=keras.optimizers.Adam(learning_rate=0.001),\n",
    "    metrics=['accuracy']\n",
    ")"
   ]
  },
  {
   "cell_type": "code",
   "execution_count": 30,
   "id": "8825ab2c-8c53-4836-a368-22fa05a9bd6e",
   "metadata": {
    "scrolled": true
   },
   "outputs": [
    {
     "name": "stdout",
     "output_type": "stream",
     "text": [
      "model training: Seq2Seq_attention_GRUCell\n",
      "Epoch 1/10\n"
     ]
    },
    {
     "name": "stderr",
     "output_type": "stream",
     "text": [
      "W0000 00:00:1731353410.179991   82565 assert_op.cc:38] Ignoring Assert operator compile_loss/sparse_categorical_crossentropy/SparseSoftmaxCrossEntropyWithLogits/assert_equal_1/Assert/Assert\n",
      "I0000 00:00:1731353411.623091  141051 asm_compiler.cc:369] ptxas warning : Registers are spilled to local memory in function 'triton_gemm_dot_482', 4 bytes spill stores, 4 bytes spill loads\n",
      "\n",
      "I0000 00:00:1731353412.053323  141049 asm_compiler.cc:369] ptxas warning : Registers are spilled to local memory in function 'triton_gemm_dot_482', 112 bytes spill stores, 112 bytes spill loads\n",
      "\n",
      "I0000 00:00:1731353412.177936  141045 asm_compiler.cc:369] ptxas warning : Registers are spilled to local memory in function 'triton_gemm_dot_466', 116 bytes spill stores, 116 bytes spill loads\n",
      "\n",
      "I0000 00:00:1731353412.471366  141044 asm_compiler.cc:369] ptxas warning : Registers are spilled to local memory in function 'triton_gemm_dot_4', 784 bytes spill stores, 728 bytes spill loads\n",
      "\n",
      "I0000 00:00:1731353412.678943  141051 asm_compiler.cc:369] ptxas warning : Registers are spilled to local memory in function 'triton_gemm_dot_4', 212 bytes spill stores, 212 bytes spill loads\n",
      "\n",
      "I0000 00:00:1731353412.703351  141046 asm_compiler.cc:369] ptxas warning : Registers are spilled to local memory in function 'triton_gemm_dot_469', 4 bytes spill stores, 4 bytes spill loads\n",
      "\n",
      "I0000 00:00:1731353412.794152  141050 asm_compiler.cc:369] ptxas warning : Registers are spilled to local memory in function 'triton_gemm_dot_4', 44 bytes spill stores, 40 bytes spill loads\n",
      "\n",
      "I0000 00:00:1731353413.747988  141043 asm_compiler.cc:369] ptxas warning : Registers are spilled to local memory in function 'triton_gemm_dot_469', 112 bytes spill stores, 112 bytes spill loads\n",
      "\n"
     ]
    },
    {
     "name": "stdout",
     "output_type": "stream",
     "text": [
      "\u001b[1m2004/2005\u001b[0m \u001b[32m━━━━━━━━━━━━━━━━━━━\u001b[0m\u001b[37m━\u001b[0m \u001b[1m0s\u001b[0m 126ms/step - accuracy: 0.4352 - loss: 2.7425"
     ]
    },
    {
     "name": "stderr",
     "output_type": "stream",
     "text": [
      "W0000 00:00:1731353672.169149   82569 assert_op.cc:38] Ignoring Assert operator compile_loss/sparse_categorical_crossentropy/SparseSoftmaxCrossEntropyWithLogits/assert_equal_1/Assert/Assert\n",
      "I0000 00:00:1731353673.821259  142194 asm_compiler.cc:369] ptxas warning : Registers are spilled to local memory in function 'triton_gemm_dot_466', 116 bytes spill stores, 116 bytes spill loads\n",
      "\n",
      "I0000 00:00:1731353674.563160  142181 asm_compiler.cc:369] ptxas warning : Registers are spilled to local memory in function 'triton_gemm_dot_469', 8 bytes spill stores, 8 bytes spill loads\n",
      "\n",
      "I0000 00:00:1731353674.725728  142195 asm_compiler.cc:369] ptxas warning : Registers are spilled to local memory in function 'triton_gemm_dot_482', 116 bytes spill stores, 116 bytes spill loads\n",
      "\n",
      "I0000 00:00:1731353674.980168  142182 asm_compiler.cc:369] ptxas warning : Registers are spilled to local memory in function 'triton_gemm_dot_4', 216 bytes spill stores, 216 bytes spill loads\n",
      "\n",
      "I0000 00:00:1731353675.004551  142187 asm_compiler.cc:369] ptxas warning : Registers are spilled to local memory in function 'triton_gemm_dot_4', 212 bytes spill stores, 212 bytes spill loads\n",
      "\n",
      "I0000 00:00:1731353675.632158  142196 asm_compiler.cc:369] ptxas warning : Registers are spilled to local memory in function 'triton_gemm_dot_4', 260 bytes spill stores, 260 bytes spill loads\n",
      "\n",
      "I0000 00:00:1731353676.292660  142192 asm_compiler.cc:369] ptxas warning : Registers are spilled to local memory in function 'triton_gemm_dot_469', 116 bytes spill stores, 116 bytes spill loads\n",
      "\n"
     ]
    },
    {
     "name": "stdout",
     "output_type": "stream",
     "text": [
      "\u001b[1m2005/2005\u001b[0m \u001b[32m━━━━━━━━━━━━━━━━━━━━\u001b[0m\u001b[37m\u001b[0m \u001b[1m0s\u001b[0m 131ms/step - accuracy: 0.4352 - loss: 2.7422"
     ]
    },
    {
     "name": "stderr",
     "output_type": "stream",
     "text": [
      "W0000 00:00:1731353681.698613   82568 assert_op.cc:38] Ignoring Assert operator compile_loss/sparse_categorical_crossentropy/SparseSoftmaxCrossEntropyWithLogits/assert_equal_1/Assert/Assert\n",
      "W0000 00:00:1731353713.298470   82569 assert_op.cc:38] Ignoring Assert operator compile_loss/sparse_categorical_crossentropy/SparseSoftmaxCrossEntropyWithLogits/assert_equal_1/Assert/Assert\n"
     ]
    },
    {
     "name": "stdout",
     "output_type": "stream",
     "text": [
      "\u001b[1m2005/2005\u001b[0m \u001b[32m━━━━━━━━━━━━━━━━━━━━\u001b[0m\u001b[37m\u001b[0m \u001b[1m312s\u001b[0m 147ms/step - accuracy: 0.4352 - loss: 2.7420 - val_accuracy: 0.5659 - val_loss: 1.5155\n",
      "Epoch 2/10\n",
      "\u001b[1m2005/2005\u001b[0m \u001b[32m━━━━━━━━━━━━━━━━━━━━\u001b[0m\u001b[37m\u001b[0m \u001b[1m283s\u001b[0m 141ms/step - accuracy: 0.6767 - loss: 1.3644 - val_accuracy: 0.6768 - val_loss: 1.0777\n",
      "Epoch 3/10\n",
      "\u001b[1m2005/2005\u001b[0m \u001b[32m━━━━━━━━━━━━━━━━━━━━\u001b[0m\u001b[37m\u001b[0m \u001b[1m283s\u001b[0m 141ms/step - accuracy: 0.7043 - loss: 0.9848 - val_accuracy: 0.6734 - val_loss: 0.9323\n",
      "Epoch 4/10\n",
      "\u001b[1m2005/2005\u001b[0m \u001b[32m━━━━━━━━━━━━━━━━━━━━\u001b[0m\u001b[37m\u001b[0m \u001b[1m284s\u001b[0m 142ms/step - accuracy: 0.6927 - loss: 0.8183 - val_accuracy: 0.6878 - val_loss: 0.8656\n",
      "Epoch 5/10\n",
      "\u001b[1m2005/2005\u001b[0m \u001b[32m━━━━━━━━━━━━━━━━━━━━\u001b[0m\u001b[37m\u001b[0m \u001b[1m283s\u001b[0m 141ms/step - accuracy: 0.6832 - loss: 0.7224 - val_accuracy: 0.6258 - val_loss: 0.8314\n",
      "Epoch 6/10\n",
      "\u001b[1m2005/2005\u001b[0m \u001b[32m━━━━━━━━━━━━━━━━━━━━\u001b[0m\u001b[37m\u001b[0m \u001b[1m284s\u001b[0m 141ms/step - accuracy: 0.6634 - loss: 0.6577 - val_accuracy: 0.5977 - val_loss: 0.8164\n",
      "Epoch 7/10\n",
      "\u001b[1m2005/2005\u001b[0m \u001b[32m━━━━━━━━━━━━━━━━━━━━\u001b[0m\u001b[37m\u001b[0m \u001b[1m284s\u001b[0m 142ms/step - accuracy: 0.6369 - loss: 0.6100 - val_accuracy: 0.5885 - val_loss: 0.8082\n",
      "Epoch 8/10\n",
      "\u001b[1m2005/2005\u001b[0m \u001b[32m━━━━━━━━━━━━━━━━━━━━\u001b[0m\u001b[37m\u001b[0m \u001b[1m284s\u001b[0m 142ms/step - accuracy: 0.6317 - loss: 0.5739 - val_accuracy: 0.5797 - val_loss: 0.8025\n",
      "Epoch 9/10\n",
      "\u001b[1m2005/2005\u001b[0m \u001b[32m━━━━━━━━━━━━━━━━━━━━\u001b[0m\u001b[37m\u001b[0m \u001b[1m283s\u001b[0m 141ms/step - accuracy: 0.6341 - loss: 0.5447 - val_accuracy: 0.5746 - val_loss: 0.8032\n",
      "Epoch 10/10\n",
      "\u001b[1m2005/2005\u001b[0m \u001b[32m━━━━━━━━━━━━━━━━━━━━\u001b[0m\u001b[37m\u001b[0m \u001b[1m283s\u001b[0m 141ms/step - accuracy: 0.6202 - loss: 0.5210 - val_accuracy: 0.5619 - val_loss: 0.8104\n"
     ]
    }
   ],
   "source": [
    "print(f'model training: {model3.name}')\n",
    "history_3 = model3.fit(train_dataset, validation_data=test_dataset, batch_size=256, epochs=10)"
   ]
  },
  {
   "cell_type": "code",
   "execution_count": 31,
   "id": "e591200b-6a04-467e-a1ea-225252956869",
   "metadata": {},
   "outputs": [
    {
     "name": "stdout",
     "output_type": "stream",
     "text": [
      "------------------------------\n",
      "Веса модели 10_Seq2Seq_attention_GRUCell сохранены\n"
     ]
    }
   ],
   "source": [
    "print('-'*30)\n",
    "model3.save_weights(f'10_{model3.name}.weights.h5')\n",
    "print(f'Веса модели 10_{model3.name} сохранены')"
   ]
  },
  {
   "cell_type": "code",
   "execution_count": 160,
   "id": "408a4d60-d545-4888-8d1c-d49654b9e024",
   "metadata": {},
   "outputs": [
    {
     "name": "stdout",
     "output_type": "stream",
     "text": [
      "Веса модели 10_Seq2Seq_attention_GRUCell загружены\n"
     ]
    }
   ],
   "source": [
    "model3.load_weights(f'10_{model3.name}.weights.h5')\n",
    "print(f'Веса модели 10_{model3.name} загружены')"
   ]
  },
  {
   "cell_type": "code",
   "execution_count": 161,
   "id": "e3c8b9b5-bf00-4dcc-a439-c6a657f9eb8f",
   "metadata": {},
   "outputs": [],
   "source": [
    "texts = ['Я люблю пиво', 'Я хочу в отпуск', 'Суббота лучший день для учёбы', 'Котик уснул на кровати']\n",
    "translates_texts = []\n",
    "for text in texts:\n",
    "    translates_texts.append(translate(text, tokenizer, model3, 16, type_cell='GRU', name_model='Seq2Seq_attention_GRUCell', flg_attention=True))"
   ]
  },
  {
   "cell_type": "code",
   "execution_count": 162,
   "id": "00c3cca4-d72e-4101-b5ce-08104c568b3d",
   "metadata": {},
   "outputs": [
    {
     "data": {
      "text/plain": [
       "['I like beer, I love a beer.',\n",
       " 'I want to go to vacation.',\n",
       " 'The future is the best day in the world.',\n",
       " 'The cat fell asleep on the bed.']"
      ]
     },
     "execution_count": 162,
     "metadata": {},
     "output_type": "execute_result"
    }
   ],
   "source": [
    "translates_texts"
   ]
  },
  {
   "cell_type": "markdown",
   "id": "abb15bb1-3ca6-46bf-bb00-b942be60549f",
   "metadata": {},
   "source": [
    "---"
   ]
  },
  {
   "cell_type": "markdown",
   "id": "a8594596-9b5f-4b52-85ba-a130392d5f0e",
   "metadata": {},
   "source": [
    "# Training and Testing 3"
   ]
  },
  {
   "cell_type": "markdown",
   "id": "efbb93b2-b4d4-4269-ba89-c6d59d25fba0",
   "metadata": {},
   "source": [
    "Использовались все состояния для подачи в декодер, а не только последнее"
   ]
  },
  {
   "cell_type": "code",
   "execution_count": 168,
   "id": "638ed279-d289-4ab0-8665-db275dd5021b",
   "metadata": {},
   "outputs": [],
   "source": [
    "def translate2(\n",
    "    text: str,\n",
    "    tokenizer: Tokenizer,\n",
    "    model: keras.Model,\n",
    "    max_len: int = 20,\n",
    "    type_cell: str = 'LSTM',\n",
    "    name_model: str = 'Seq2Seq',\n",
    "    flg_attention: bool = True\n",
    ") -> str:\n",
    "    '''Predicts `text`translation using the `model`.\n",
    "\n",
    "    Arguments:\n",
    "        text: text to be translated\n",
    "        tokenizer: tokenizer to use\n",
    "        model: model ot use\n",
    "        max_len: maximum length of the prediction (in tokens)\n",
    "\n",
    "    Returns:\n",
    "        tranlated text'''\n",
    "\n",
    "    encorder_emm = model.get_layer(f'{name_model}_embedding_encoder')\n",
    "    encoder_rnn = model.get_layer(f'{name_model}_bidirectional')\n",
    "\n",
    "    input_seq =  tokenizer(text, return_tensors='np', add_special_tokens=False)['input_ids'].astype(np.int32)\n",
    "    encoder_outputs, *states = encoder_rnn(encorder_emm(input_seq))\n",
    "\n",
    "    if type_cell == 'LSTM':\n",
    "\n",
    "        forwards_st = states[:len(states) // 2]\n",
    "        backwards_st = states[len(states) // 2:]\n",
    "        initial_state = [\n",
    "            [\n",
    "                tf.keras.ops.concatenate([forwards[0], backwards[0]], axis=-1),\n",
    "                tf.keras.ops.concatenate([forwards[1], backwards[1]], axis=-1)\n",
    "            ]\n",
    "            for (forwards, backwards) in zip(forwards_st, backwards_st)\n",
    "        ]\n",
    "\n",
    "    else:\n",
    "        forwards_st = states[:len(states) // 2]\n",
    "        backwards_st = states[len(states) // 2:]\n",
    "        initial_state = [tf.keras.ops.concatenate([forwards[0], backwards[0]], axis=-1) for (forwards, backwards) in zip(forwards_st, backwards_st)]\n",
    "        \n",
    "\n",
    "    target_seq = [tokenizer.pad_token_id]\n",
    "    \n",
    "    decoded_sentence = ''\n",
    "    \n",
    "    decoder_embedding = model.get_layer(f'{name_model}_embedding_decoder')\n",
    "    decoder_rnn = model.get_layer(f'{name_model}_rnn_decoder').cell\n",
    "    decoder_dance = model.get_layer(f'{name_model}_output')\n",
    "    if flg_attention:\n",
    "        attention_layer = model.get_layer(f'{name_model}_attention')\n",
    "        \n",
    "\n",
    "    states = initial_state\n",
    "    for _ in range(max_len):\n",
    "\n",
    "        embedding = decoder_embedding(np.array(target_seq[-1]))\n",
    "        rnn, *states = decoder_rnn(embedding, states)\n",
    "        states = states[0]\n",
    "        if flg_attention:\n",
    "            attention = attention_layer([rnn, encoder_outputs])[0]\n",
    "            rnn = tf.keras.ops.concatenate([rnn, attention], axis=-1)\n",
    "        \n",
    "        output = decoder_dance(rnn)\n",
    "        output_tokens = np.argmax(output.numpy(),axis=-1)[0]\n",
    "\n",
    "        sampled_word = tokenizer.decode(output_tokens)\n",
    "        \n",
    "        if output_tokens == tokenizer.pad_token_id:\n",
    "            break\n",
    "        else:\n",
    "            decoded_sentence += sampled_word\n",
    "        \n",
    "        target_seq[0] = output_tokens\n",
    "\n",
    "    return decoded_sentence.strip()"
   ]
  },
  {
   "cell_type": "code",
   "execution_count": 153,
   "id": "bc309580-336a-4660-88fe-ed47bc2ce3f7",
   "metadata": {},
   "outputs": [
    {
     "data": {
      "text/html": [
       "<pre style=\"white-space:pre;overflow-x:auto;line-height:normal;font-family:Menlo,'DejaVu Sans Mono',consolas,'Courier New',monospace\"><span style=\"font-weight: bold\">Model: \"Seq2Seq\"</span>\n",
       "</pre>\n"
      ],
      "text/plain": [
       "\u001b[1mModel: \"Seq2Seq\"\u001b[0m\n"
      ]
     },
     "metadata": {},
     "output_type": "display_data"
    },
    {
     "data": {
      "text/html": [
       "<pre style=\"white-space:pre;overflow-x:auto;line-height:normal;font-family:Menlo,'DejaVu Sans Mono',consolas,'Courier New',monospace\">┏━━━━━━━━━━━━━━━━━━━━━┳━━━━━━━━━━━━━━━━━━━┳━━━━━━━━━━━━┳━━━━━━━━━━━━━━━━━━━┓\n",
       "┃<span style=\"font-weight: bold\"> Layer (type)        </span>┃<span style=\"font-weight: bold\"> Output Shape      </span>┃<span style=\"font-weight: bold\">    Param # </span>┃<span style=\"font-weight: bold\"> Connected to      </span>┃\n",
       "┡━━━━━━━━━━━━━━━━━━━━━╇━━━━━━━━━━━━━━━━━━━╇━━━━━━━━━━━━╇━━━━━━━━━━━━━━━━━━━┩\n",
       "│ Seq2Seq_input_enco… │ (<span style=\"color: #00d7ff; text-decoration-color: #00d7ff\">None</span>, <span style=\"color: #00d7ff; text-decoration-color: #00d7ff\">None</span>)      │          <span style=\"color: #00af00; text-decoration-color: #00af00\">0</span> │ -                 │\n",
       "│ (<span style=\"color: #0087ff; text-decoration-color: #0087ff\">InputLayer</span>)        │                   │            │                   │\n",
       "├─────────────────────┼───────────────────┼────────────┼───────────────────┤\n",
       "│ Seq2Seq_embedding_… │ (<span style=\"color: #00d7ff; text-decoration-color: #00d7ff\">None</span>, <span style=\"color: #00d7ff; text-decoration-color: #00d7ff\">None</span>, <span style=\"color: #00af00; text-decoration-color: #00af00\">256</span>) │ <span style=\"color: #00af00; text-decoration-color: #00af00\">12,865,792</span> │ Seq2Seq_input_en… │\n",
       "│ (<span style=\"color: #0087ff; text-decoration-color: #0087ff\">Embedding</span>)         │                   │            │                   │\n",
       "├─────────────────────┼───────────────────┼────────────┼───────────────────┤\n",
       "│ Seq2Seq_input_deco… │ (<span style=\"color: #00d7ff; text-decoration-color: #00d7ff\">None</span>, <span style=\"color: #00d7ff; text-decoration-color: #00d7ff\">None</span>)      │          <span style=\"color: #00af00; text-decoration-color: #00af00\">0</span> │ -                 │\n",
       "│ (<span style=\"color: #0087ff; text-decoration-color: #0087ff\">InputLayer</span>)        │                   │            │                   │\n",
       "├─────────────────────┼───────────────────┼────────────┼───────────────────┤\n",
       "│ Seq2Seq_bidirectio… │ [(<span style=\"color: #00d7ff; text-decoration-color: #00d7ff\">None</span>, <span style=\"color: #00d7ff; text-decoration-color: #00d7ff\">None</span>,     │  <span style=\"color: #00af00; text-decoration-color: #00af00\">2,101,248</span> │ Seq2Seq_embeddin… │\n",
       "│ (<span style=\"color: #0087ff; text-decoration-color: #0087ff\">Bidirectional</span>)     │ <span style=\"color: #00af00; text-decoration-color: #00af00\">512</span>), (<span style=\"color: #00d7ff; text-decoration-color: #00d7ff\">None</span>,      │            │                   │\n",
       "│                     │ <span style=\"color: #00af00; text-decoration-color: #00af00\">256</span>), (<span style=\"color: #00d7ff; text-decoration-color: #00d7ff\">None</span>,      │            │                   │\n",
       "│                     │ <span style=\"color: #00af00; text-decoration-color: #00af00\">256</span>), (<span style=\"color: #00d7ff; text-decoration-color: #00d7ff\">None</span>,      │            │                   │\n",
       "│                     │ <span style=\"color: #00af00; text-decoration-color: #00af00\">256</span>), (<span style=\"color: #00d7ff; text-decoration-color: #00d7ff\">None</span>,      │            │                   │\n",
       "│                     │ <span style=\"color: #00af00; text-decoration-color: #00af00\">256</span>), (<span style=\"color: #00d7ff; text-decoration-color: #00d7ff\">None</span>,      │            │                   │\n",
       "│                     │ <span style=\"color: #00af00; text-decoration-color: #00af00\">256</span>), (<span style=\"color: #00d7ff; text-decoration-color: #00d7ff\">None</span>,      │            │                   │\n",
       "│                     │ <span style=\"color: #00af00; text-decoration-color: #00af00\">256</span>), (<span style=\"color: #00d7ff; text-decoration-color: #00d7ff\">None</span>,      │            │                   │\n",
       "│                     │ <span style=\"color: #00af00; text-decoration-color: #00af00\">256</span>), (<span style=\"color: #00d7ff; text-decoration-color: #00d7ff\">None</span>,      │            │                   │\n",
       "│                     │ <span style=\"color: #00af00; text-decoration-color: #00af00\">256</span>)]             │            │                   │\n",
       "├─────────────────────┼───────────────────┼────────────┼───────────────────┤\n",
       "│ Seq2Seq_embedding_… │ (<span style=\"color: #00d7ff; text-decoration-color: #00d7ff\">None</span>, <span style=\"color: #00d7ff; text-decoration-color: #00d7ff\">None</span>, <span style=\"color: #00af00; text-decoration-color: #00af00\">256</span>) │ <span style=\"color: #00af00; text-decoration-color: #00af00\">12,865,792</span> │ Seq2Seq_input_de… │\n",
       "│ (<span style=\"color: #0087ff; text-decoration-color: #0087ff\">Embedding</span>)         │                   │            │                   │\n",
       "├─────────────────────┼───────────────────┼────────────┼───────────────────┤\n",
       "│ concatenate_54      │ (<span style=\"color: #00d7ff; text-decoration-color: #00d7ff\">None</span>, <span style=\"color: #00af00; text-decoration-color: #00af00\">512</span>)       │          <span style=\"color: #00af00; text-decoration-color: #00af00\">0</span> │ Seq2Seq_bidirect… │\n",
       "│ (<span style=\"color: #0087ff; text-decoration-color: #0087ff\">Concatenate</span>)       │                   │            │ Seq2Seq_bidirect… │\n",
       "├─────────────────────┼───────────────────┼────────────┼───────────────────┤\n",
       "│ concatenate_55      │ (<span style=\"color: #00d7ff; text-decoration-color: #00d7ff\">None</span>, <span style=\"color: #00af00; text-decoration-color: #00af00\">512</span>)       │          <span style=\"color: #00af00; text-decoration-color: #00af00\">0</span> │ Seq2Seq_bidirect… │\n",
       "│ (<span style=\"color: #0087ff; text-decoration-color: #0087ff\">Concatenate</span>)       │                   │            │ Seq2Seq_bidirect… │\n",
       "├─────────────────────┼───────────────────┼────────────┼───────────────────┤\n",
       "│ concatenate_56      │ (<span style=\"color: #00d7ff; text-decoration-color: #00d7ff\">None</span>, <span style=\"color: #00af00; text-decoration-color: #00af00\">512</span>)       │          <span style=\"color: #00af00; text-decoration-color: #00af00\">0</span> │ Seq2Seq_bidirect… │\n",
       "│ (<span style=\"color: #0087ff; text-decoration-color: #0087ff\">Concatenate</span>)       │                   │            │ Seq2Seq_bidirect… │\n",
       "├─────────────────────┼───────────────────┼────────────┼───────────────────┤\n",
       "│ concatenate_57      │ (<span style=\"color: #00d7ff; text-decoration-color: #00d7ff\">None</span>, <span style=\"color: #00af00; text-decoration-color: #00af00\">512</span>)       │          <span style=\"color: #00af00; text-decoration-color: #00af00\">0</span> │ Seq2Seq_bidirect… │\n",
       "│ (<span style=\"color: #0087ff; text-decoration-color: #0087ff\">Concatenate</span>)       │                   │            │ Seq2Seq_bidirect… │\n",
       "├─────────────────────┼───────────────────┼────────────┼───────────────────┤\n",
       "│ Seq2Seq_rnn_decoder │ (<span style=\"color: #00d7ff; text-decoration-color: #00d7ff\">None</span>, <span style=\"color: #00d7ff; text-decoration-color: #00d7ff\">None</span>, <span style=\"color: #00af00; text-decoration-color: #00af00\">512</span>) │  <span style=\"color: #00af00; text-decoration-color: #00af00\">3,674,112</span> │ Seq2Seq_embeddin… │\n",
       "│ (<span style=\"color: #0087ff; text-decoration-color: #0087ff\">RNN</span>)               │                   │            │ concatenate_54[<span style=\"color: #00af00; text-decoration-color: #00af00\">0</span>… │\n",
       "│                     │                   │            │ concatenate_55[<span style=\"color: #00af00; text-decoration-color: #00af00\">0</span>… │\n",
       "│                     │                   │            │ concatenate_56[<span style=\"color: #00af00; text-decoration-color: #00af00\">0</span>… │\n",
       "│                     │                   │            │ concatenate_57[<span style=\"color: #00af00; text-decoration-color: #00af00\">0</span>… │\n",
       "├─────────────────────┼───────────────────┼────────────┼───────────────────┤\n",
       "│ Seq2Seq_attention   │ (<span style=\"color: #00d7ff; text-decoration-color: #00d7ff\">None</span>, <span style=\"color: #00d7ff; text-decoration-color: #00d7ff\">None</span>, <span style=\"color: #00af00; text-decoration-color: #00af00\">512</span>) │        <span style=\"color: #00af00; text-decoration-color: #00af00\">512</span> │ Seq2Seq_rnn_deco… │\n",
       "│ (<span style=\"color: #0087ff; text-decoration-color: #0087ff\">AdditiveAttention</span>) │                   │            │ Seq2Seq_bidirect… │\n",
       "├─────────────────────┼───────────────────┼────────────┼───────────────────┤\n",
       "│ Seq2Seq_rnn_and_at… │ (<span style=\"color: #00d7ff; text-decoration-color: #00d7ff\">None</span>, <span style=\"color: #00d7ff; text-decoration-color: #00d7ff\">None</span>,      │          <span style=\"color: #00af00; text-decoration-color: #00af00\">0</span> │ Seq2Seq_rnn_deco… │\n",
       "│ (<span style=\"color: #0087ff; text-decoration-color: #0087ff\">Concatenate</span>)       │ <span style=\"color: #00af00; text-decoration-color: #00af00\">1024</span>)             │            │ Seq2Seq_attentio… │\n",
       "├─────────────────────┼───────────────────┼────────────┼───────────────────┤\n",
       "│ Seq2Seq_output      │ (<span style=\"color: #00d7ff; text-decoration-color: #00d7ff\">None</span>, <span style=\"color: #00d7ff; text-decoration-color: #00d7ff\">None</span>,      │ <span style=\"color: #00af00; text-decoration-color: #00af00\">51,513,425</span> │ Seq2Seq_rnn_and_… │\n",
       "│ (<span style=\"color: #0087ff; text-decoration-color: #0087ff\">Dense</span>)             │ <span style=\"color: #00af00; text-decoration-color: #00af00\">50257</span>)            │            │                   │\n",
       "└─────────────────────┴───────────────────┴────────────┴───────────────────┘\n",
       "</pre>\n"
      ],
      "text/plain": [
       "┏━━━━━━━━━━━━━━━━━━━━━┳━━━━━━━━━━━━━━━━━━━┳━━━━━━━━━━━━┳━━━━━━━━━━━━━━━━━━━┓\n",
       "┃\u001b[1m \u001b[0m\u001b[1mLayer (type)       \u001b[0m\u001b[1m \u001b[0m┃\u001b[1m \u001b[0m\u001b[1mOutput Shape     \u001b[0m\u001b[1m \u001b[0m┃\u001b[1m \u001b[0m\u001b[1m   Param #\u001b[0m\u001b[1m \u001b[0m┃\u001b[1m \u001b[0m\u001b[1mConnected to     \u001b[0m\u001b[1m \u001b[0m┃\n",
       "┡━━━━━━━━━━━━━━━━━━━━━╇━━━━━━━━━━━━━━━━━━━╇━━━━━━━━━━━━╇━━━━━━━━━━━━━━━━━━━┩\n",
       "│ Seq2Seq_input_enco… │ (\u001b[38;5;45mNone\u001b[0m, \u001b[38;5;45mNone\u001b[0m)      │          \u001b[38;5;34m0\u001b[0m │ -                 │\n",
       "│ (\u001b[38;5;33mInputLayer\u001b[0m)        │                   │            │                   │\n",
       "├─────────────────────┼───────────────────┼────────────┼───────────────────┤\n",
       "│ Seq2Seq_embedding_… │ (\u001b[38;5;45mNone\u001b[0m, \u001b[38;5;45mNone\u001b[0m, \u001b[38;5;34m256\u001b[0m) │ \u001b[38;5;34m12,865,792\u001b[0m │ Seq2Seq_input_en… │\n",
       "│ (\u001b[38;5;33mEmbedding\u001b[0m)         │                   │            │                   │\n",
       "├─────────────────────┼───────────────────┼────────────┼───────────────────┤\n",
       "│ Seq2Seq_input_deco… │ (\u001b[38;5;45mNone\u001b[0m, \u001b[38;5;45mNone\u001b[0m)      │          \u001b[38;5;34m0\u001b[0m │ -                 │\n",
       "│ (\u001b[38;5;33mInputLayer\u001b[0m)        │                   │            │                   │\n",
       "├─────────────────────┼───────────────────┼────────────┼───────────────────┤\n",
       "│ Seq2Seq_bidirectio… │ [(\u001b[38;5;45mNone\u001b[0m, \u001b[38;5;45mNone\u001b[0m,     │  \u001b[38;5;34m2,101,248\u001b[0m │ Seq2Seq_embeddin… │\n",
       "│ (\u001b[38;5;33mBidirectional\u001b[0m)     │ \u001b[38;5;34m512\u001b[0m), (\u001b[38;5;45mNone\u001b[0m,      │            │                   │\n",
       "│                     │ \u001b[38;5;34m256\u001b[0m), (\u001b[38;5;45mNone\u001b[0m,      │            │                   │\n",
       "│                     │ \u001b[38;5;34m256\u001b[0m), (\u001b[38;5;45mNone\u001b[0m,      │            │                   │\n",
       "│                     │ \u001b[38;5;34m256\u001b[0m), (\u001b[38;5;45mNone\u001b[0m,      │            │                   │\n",
       "│                     │ \u001b[38;5;34m256\u001b[0m), (\u001b[38;5;45mNone\u001b[0m,      │            │                   │\n",
       "│                     │ \u001b[38;5;34m256\u001b[0m), (\u001b[38;5;45mNone\u001b[0m,      │            │                   │\n",
       "│                     │ \u001b[38;5;34m256\u001b[0m), (\u001b[38;5;45mNone\u001b[0m,      │            │                   │\n",
       "│                     │ \u001b[38;5;34m256\u001b[0m), (\u001b[38;5;45mNone\u001b[0m,      │            │                   │\n",
       "│                     │ \u001b[38;5;34m256\u001b[0m)]             │            │                   │\n",
       "├─────────────────────┼───────────────────┼────────────┼───────────────────┤\n",
       "│ Seq2Seq_embedding_… │ (\u001b[38;5;45mNone\u001b[0m, \u001b[38;5;45mNone\u001b[0m, \u001b[38;5;34m256\u001b[0m) │ \u001b[38;5;34m12,865,792\u001b[0m │ Seq2Seq_input_de… │\n",
       "│ (\u001b[38;5;33mEmbedding\u001b[0m)         │                   │            │                   │\n",
       "├─────────────────────┼───────────────────┼────────────┼───────────────────┤\n",
       "│ concatenate_54      │ (\u001b[38;5;45mNone\u001b[0m, \u001b[38;5;34m512\u001b[0m)       │          \u001b[38;5;34m0\u001b[0m │ Seq2Seq_bidirect… │\n",
       "│ (\u001b[38;5;33mConcatenate\u001b[0m)       │                   │            │ Seq2Seq_bidirect… │\n",
       "├─────────────────────┼───────────────────┼────────────┼───────────────────┤\n",
       "│ concatenate_55      │ (\u001b[38;5;45mNone\u001b[0m, \u001b[38;5;34m512\u001b[0m)       │          \u001b[38;5;34m0\u001b[0m │ Seq2Seq_bidirect… │\n",
       "│ (\u001b[38;5;33mConcatenate\u001b[0m)       │                   │            │ Seq2Seq_bidirect… │\n",
       "├─────────────────────┼───────────────────┼────────────┼───────────────────┤\n",
       "│ concatenate_56      │ (\u001b[38;5;45mNone\u001b[0m, \u001b[38;5;34m512\u001b[0m)       │          \u001b[38;5;34m0\u001b[0m │ Seq2Seq_bidirect… │\n",
       "│ (\u001b[38;5;33mConcatenate\u001b[0m)       │                   │            │ Seq2Seq_bidirect… │\n",
       "├─────────────────────┼───────────────────┼────────────┼───────────────────┤\n",
       "│ concatenate_57      │ (\u001b[38;5;45mNone\u001b[0m, \u001b[38;5;34m512\u001b[0m)       │          \u001b[38;5;34m0\u001b[0m │ Seq2Seq_bidirect… │\n",
       "│ (\u001b[38;5;33mConcatenate\u001b[0m)       │                   │            │ Seq2Seq_bidirect… │\n",
       "├─────────────────────┼───────────────────┼────────────┼───────────────────┤\n",
       "│ Seq2Seq_rnn_decoder │ (\u001b[38;5;45mNone\u001b[0m, \u001b[38;5;45mNone\u001b[0m, \u001b[38;5;34m512\u001b[0m) │  \u001b[38;5;34m3,674,112\u001b[0m │ Seq2Seq_embeddin… │\n",
       "│ (\u001b[38;5;33mRNN\u001b[0m)               │                   │            │ concatenate_54[\u001b[38;5;34m0\u001b[0m… │\n",
       "│                     │                   │            │ concatenate_55[\u001b[38;5;34m0\u001b[0m… │\n",
       "│                     │                   │            │ concatenate_56[\u001b[38;5;34m0\u001b[0m… │\n",
       "│                     │                   │            │ concatenate_57[\u001b[38;5;34m0\u001b[0m… │\n",
       "├─────────────────────┼───────────────────┼────────────┼───────────────────┤\n",
       "│ Seq2Seq_attention   │ (\u001b[38;5;45mNone\u001b[0m, \u001b[38;5;45mNone\u001b[0m, \u001b[38;5;34m512\u001b[0m) │        \u001b[38;5;34m512\u001b[0m │ Seq2Seq_rnn_deco… │\n",
       "│ (\u001b[38;5;33mAdditiveAttention\u001b[0m) │                   │            │ Seq2Seq_bidirect… │\n",
       "├─────────────────────┼───────────────────┼────────────┼───────────────────┤\n",
       "│ Seq2Seq_rnn_and_at… │ (\u001b[38;5;45mNone\u001b[0m, \u001b[38;5;45mNone\u001b[0m,      │          \u001b[38;5;34m0\u001b[0m │ Seq2Seq_rnn_deco… │\n",
       "│ (\u001b[38;5;33mConcatenate\u001b[0m)       │ \u001b[38;5;34m1024\u001b[0m)             │            │ Seq2Seq_attentio… │\n",
       "├─────────────────────┼───────────────────┼────────────┼───────────────────┤\n",
       "│ Seq2Seq_output      │ (\u001b[38;5;45mNone\u001b[0m, \u001b[38;5;45mNone\u001b[0m,      │ \u001b[38;5;34m51,513,425\u001b[0m │ Seq2Seq_rnn_and_… │\n",
       "│ (\u001b[38;5;33mDense\u001b[0m)             │ \u001b[38;5;34m50257\u001b[0m)            │            │                   │\n",
       "└─────────────────────┴───────────────────┴────────────┴───────────────────┘\n"
      ]
     },
     "metadata": {},
     "output_type": "display_data"
    },
    {
     "data": {
      "text/html": [
       "<pre style=\"white-space:pre;overflow-x:auto;line-height:normal;font-family:Menlo,'DejaVu Sans Mono',consolas,'Courier New',monospace\"><span style=\"font-weight: bold\"> Total params: </span><span style=\"color: #00af00; text-decoration-color: #00af00\">83,020,881</span> (316.70 MB)\n",
       "</pre>\n"
      ],
      "text/plain": [
       "\u001b[1m Total params: \u001b[0m\u001b[38;5;34m83,020,881\u001b[0m (316.70 MB)\n"
      ]
     },
     "metadata": {},
     "output_type": "display_data"
    },
    {
     "data": {
      "text/html": [
       "<pre style=\"white-space:pre;overflow-x:auto;line-height:normal;font-family:Menlo,'DejaVu Sans Mono',consolas,'Courier New',monospace\"><span style=\"font-weight: bold\"> Trainable params: </span><span style=\"color: #00af00; text-decoration-color: #00af00\">83,020,881</span> (316.70 MB)\n",
       "</pre>\n"
      ],
      "text/plain": [
       "\u001b[1m Trainable params: \u001b[0m\u001b[38;5;34m83,020,881\u001b[0m (316.70 MB)\n"
      ]
     },
     "metadata": {},
     "output_type": "display_data"
    },
    {
     "data": {
      "text/html": [
       "<pre style=\"white-space:pre;overflow-x:auto;line-height:normal;font-family:Menlo,'DejaVu Sans Mono',consolas,'Courier New',monospace\"><span style=\"font-weight: bold\"> Non-trainable params: </span><span style=\"color: #00af00; text-decoration-color: #00af00\">0</span> (0.00 B)\n",
       "</pre>\n"
      ],
      "text/plain": [
       "\u001b[1m Non-trainable params: \u001b[0m\u001b[38;5;34m0\u001b[0m (0.00 B)\n"
      ]
     },
     "metadata": {},
     "output_type": "display_data"
    }
   ],
   "source": [
    "model2 = get_model(256,\n",
    "                   tokenizer.vocab_size,\n",
    "                   tokenizer.vocab_size,\n",
    "                   n_stacks=2,\n",
    "                   bidirectional=True,\n",
    "                   name='Seq2Seq',\n",
    "                   cell_type=tf.keras.layers.LSTMCell,\n",
    "                   attention_flg=True\n",
    ")\n",
    "\n",
    "model2.summary()"
   ]
  },
  {
   "cell_type": "code",
   "execution_count": 154,
   "id": "6f5ca3a5-2d7e-48fd-b73f-da192f00b728",
   "metadata": {},
   "outputs": [],
   "source": [
    "model2.compile(\n",
    "    loss=tf.keras.losses.SparseCategoricalCrossentropy(from_logits=True),\n",
    "    optimizer=keras.optimizers.Adam(learning_rate=0.001),\n",
    "    metrics=['accuracy']\n",
    ")"
   ]
  },
  {
   "cell_type": "code",
   "execution_count": 23,
   "id": "254d67c5-3506-4836-8fd8-e29e356c1416",
   "metadata": {
    "scrolled": true
   },
   "outputs": [
    {
     "name": "stdout",
     "output_type": "stream",
     "text": [
      "model training: Seq2Seq\n",
      "Epoch 1/10\n"
     ]
    },
    {
     "name": "stderr",
     "output_type": "stream",
     "text": [
      "WARNING: All log messages before absl::InitializeLog() is called are written to STDERR\n",
      "I0000 00:00:1731385583.524996   54605 service.cc:145] XLA service 0x151e64b0 initialized for platform CUDA (this does not guarantee that XLA will be used). Devices:\n",
      "I0000 00:00:1731385583.525092   54605 service.cc:153]   StreamExecutor device (0): NVIDIA GeForce RTX 4060 Laptop GPU, Compute Capability 8.9\n",
      "2024-11-12 14:26:23.628046: I tensorflow/compiler/mlir/tensorflow/utils/dump_mlir_util.cc:268] disabling MLIR crash reproducer, set env var `MLIR_CRASH_REPRODUCER_DIRECTORY` to enable.\n",
      "W0000 00:00:1731385584.106417   54605 assert_op.cc:38] Ignoring Assert operator compile_loss/sparse_categorical_crossentropy/SparseSoftmaxCrossEntropyWithLogits/assert_equal_1/Assert/Assert\n",
      "2024-11-12 14:26:24.448578: I external/local_xla/xla/stream_executor/cuda/cuda_dnn.cc:465] Loaded cuDNN version 8907\n",
      "WARNING: All log messages before absl::InitializeLog() is called are written to STDERR\n",
      "I0000 00:00:1731385586.936833   60415 asm_compiler.cc:369] ptxas warning : Registers are spilled to local memory in function 'triton_gemm_dot_174', 2960 bytes spill stores, 4604 bytes spill loads\n",
      "\n",
      "I0000 00:00:1731385587.034382   60421 asm_compiler.cc:369] ptxas warning : Registers are spilled to local memory in function 'triton_gemm_dot_174', 40 bytes spill stores, 112 bytes spill loads\n",
      "\n",
      "I0000 00:00:1731385587.179354   60411 asm_compiler.cc:369] ptxas warning : Registers are spilled to local memory in function 'triton_gemm_dot_176', 2956 bytes spill stores, 4600 bytes spill loads\n",
      "\n",
      "I0000 00:00:1731385587.295565   60409 asm_compiler.cc:369] ptxas warning : Registers are spilled to local memory in function 'triton_gemm_dot_178', 84 bytes spill stores, 84 bytes spill loads\n",
      "\n",
      "I0000 00:00:1731385587.430506   60412 asm_compiler.cc:369] ptxas warning : Registers are spilled to local memory in function 'triton_gemm_dot_176', 40 bytes spill stores, 112 bytes spill loads\n",
      "\n",
      "I0000 00:00:1731385587.948831   60408 asm_compiler.cc:369] ptxas warning : Registers are spilled to local memory in function 'triton_gemm_dot_4', 212 bytes spill stores, 212 bytes spill loads\n",
      "\n",
      "I0000 00:00:1731385588.623881   60414 asm_compiler.cc:369] ptxas warning : Registers are spilled to local memory in function 'triton_gemm_dot_4', 44 bytes spill stores, 40 bytes spill loads\n",
      "\n",
      "I0000 00:00:1731385588.688170   60407 asm_compiler.cc:369] ptxas warning : Registers are spilled to local memory in function 'triton_gemm_dot_4', 784 bytes spill stores, 728 bytes spill loads\n",
      "\n",
      "I0000 00:00:1731385588.715438   60420 asm_compiler.cc:369] ptxas warning : Registers are spilled to local memory in function 'triton_gemm_dot_178', 1748 bytes spill stores, 2168 bytes spill loads\n",
      "\n",
      "I0000 00:00:1731385594.528659   54605 device_compiler.h:188] Compiled cluster using XLA!  This line is logged at most once for the lifetime of the process.\n"
     ]
    },
    {
     "name": "stdout",
     "output_type": "stream",
     "text": [
      "\u001b[1m2004/2005\u001b[0m \u001b[32m━━━━━━━━━━━━━━━━━━━\u001b[0m\u001b[37m━\u001b[0m \u001b[1m0s\u001b[0m 195ms/step - accuracy: 0.5794 - loss: 2.5629"
     ]
    },
    {
     "name": "stderr",
     "output_type": "stream",
     "text": [
      "W0000 00:00:1731385985.719901   54594 assert_op.cc:38] Ignoring Assert operator compile_loss/sparse_categorical_crossentropy/SparseSoftmaxCrossEntropyWithLogits/assert_equal_1/Assert/Assert\n",
      "I0000 00:00:1731385987.591373   62222 asm_compiler.cc:369] ptxas warning : Registers are spilled to local memory in function 'triton_gemm_dot_175', 4 bytes spill stores, 4 bytes spill loads\n",
      "\n",
      "I0000 00:00:1731385987.774933   62209 asm_compiler.cc:369] ptxas warning : Registers are spilled to local memory in function 'triton_gemm_dot_174', 4 bytes spill stores, 4 bytes spill loads\n",
      "\n",
      "I0000 00:00:1731385988.197015   62213 asm_compiler.cc:369] ptxas warning : Registers are spilled to local memory in function 'triton_gemm_dot_178', 24 bytes spill stores, 24 bytes spill loads\n",
      "\n",
      "I0000 00:00:1731385988.255989   62212 asm_compiler.cc:369] ptxas warning : Registers are spilled to local memory in function 'triton_gemm_dot_178', 92 bytes spill stores, 92 bytes spill loads\n",
      "\n",
      "I0000 00:00:1731385988.882128   62223 asm_compiler.cc:369] ptxas warning : Registers are spilled to local memory in function 'triton_gemm_dot_181', 4 bytes spill stores, 4 bytes spill loads\n",
      "\n",
      "I0000 00:00:1731385989.077256   62222 asm_compiler.cc:369] ptxas warning : Registers are spilled to local memory in function 'triton_gemm_dot_4', 216 bytes spill stores, 216 bytes spill loads\n",
      "\n",
      "I0000 00:00:1731385989.198316   62214 asm_compiler.cc:369] ptxas warning : Registers are spilled to local memory in function 'triton_gemm_dot_178', 4 bytes spill stores, 4 bytes spill loads\n",
      "\n",
      "I0000 00:00:1731385989.388146   62209 asm_compiler.cc:369] ptxas warning : Registers are spilled to local memory in function 'triton_gemm_dot_176', 4 bytes spill stores, 4 bytes spill loads\n",
      "\n",
      "I0000 00:00:1731385989.389470   62215 asm_compiler.cc:369] ptxas warning : Registers are spilled to local memory in function 'triton_gemm_dot_174', 96 bytes spill stores, 96 bytes spill loads\n",
      "\n",
      "I0000 00:00:1731385989.449337   62221 asm_compiler.cc:369] ptxas warning : Registers are spilled to local memory in function 'triton_gemm_dot_176', 48 bytes spill stores, 36 bytes spill loads\n",
      "\n",
      "I0000 00:00:1731385989.584395   62211 asm_compiler.cc:369] ptxas warning : Registers are spilled to local memory in function 'triton_gemm_dot_174', 52 bytes spill stores, 36 bytes spill loads\n",
      "\n",
      "I0000 00:00:1731385989.976680   62214 asm_compiler.cc:369] ptxas warning : Registers are spilled to local memory in function 'triton_gemm_dot_176', 96 bytes spill stores, 96 bytes spill loads\n",
      "\n",
      "I0000 00:00:1731385990.173836   62213 asm_compiler.cc:369] ptxas warning : Registers are spilled to local memory in function 'triton_gemm_dot_176', 340 bytes spill stores, 340 bytes spill loads\n",
      "\n",
      "I0000 00:00:1731385990.442180   62224 asm_compiler.cc:369] ptxas warning : Registers are spilled to local memory in function 'triton_gemm_dot_178', 348 bytes spill stores, 788 bytes spill loads\n",
      "\n",
      "I0000 00:00:1731385990.642613   62220 asm_compiler.cc:369] ptxas warning : Registers are spilled to local memory in function 'triton_gemm_dot_174', 340 bytes spill stores, 340 bytes spill loads\n",
      "\n",
      "I0000 00:00:1731385990.953153   62213 asm_compiler.cc:369] ptxas warning : Registers are spilled to local memory in function 'triton_gemm_dot_4', 212 bytes spill stores, 212 bytes spill loads\n",
      "\n"
     ]
    },
    {
     "name": "stdout",
     "output_type": "stream",
     "text": [
      "\u001b[1m2005/2005\u001b[0m \u001b[32m━━━━━━━━━━━━━━━━━━━━\u001b[0m\u001b[37m\u001b[0m \u001b[1m0s\u001b[0m 200ms/step - accuracy: 0.5794 - loss: 2.5626"
     ]
    },
    {
     "name": "stderr",
     "output_type": "stream",
     "text": [
      "W0000 00:00:1731385996.704655   54594 assert_op.cc:38] Ignoring Assert operator compile_loss/sparse_categorical_crossentropy/SparseSoftmaxCrossEntropyWithLogits/assert_equal_1/Assert/Assert\n",
      "W0000 00:00:1731386046.355852   54604 assert_op.cc:38] Ignoring Assert operator compile_loss/sparse_categorical_crossentropy/SparseSoftmaxCrossEntropyWithLogits/assert_equal_1/Assert/Assert\n"
     ]
    },
    {
     "name": "stdout",
     "output_type": "stream",
     "text": [
      "\u001b[1m2005/2005\u001b[0m \u001b[32m━━━━━━━━━━━━━━━━━━━━\u001b[0m\u001b[37m\u001b[0m \u001b[1m467s\u001b[0m 226ms/step - accuracy: 0.5794 - loss: 2.5624 - val_accuracy: 0.5875 - val_loss: 1.4011\n",
      "Epoch 2/10\n",
      "\u001b[1m2005/2005\u001b[0m \u001b[32m━━━━━━━━━━━━━━━━━━━━\u001b[0m\u001b[37m\u001b[0m \u001b[1m494s\u001b[0m 246ms/step - accuracy: 0.5787 - loss: 1.1885 - val_accuracy: 0.5982 - val_loss: 0.8976\n",
      "Epoch 3/10\n",
      "\u001b[1m2005/2005\u001b[0m \u001b[32m━━━━━━━━━━━━━━━━━━━━\u001b[0m\u001b[37m\u001b[0m \u001b[1m468s\u001b[0m 233ms/step - accuracy: 0.6110 - loss: 0.8011 - val_accuracy: 0.6024 - val_loss: 0.7861\n",
      "Epoch 4/10\n",
      "\u001b[1m2005/2005\u001b[0m \u001b[32m━━━━━━━━━━━━━━━━━━━━\u001b[0m\u001b[37m\u001b[0m \u001b[1m489s\u001b[0m 244ms/step - accuracy: 0.5916 - loss: 0.6528 - val_accuracy: 0.5588 - val_loss: 0.7388\n",
      "Epoch 5/10\n",
      "\u001b[1m2005/2005\u001b[0m \u001b[32m━━━━━━━━━━━━━━━━━━━━\u001b[0m\u001b[37m\u001b[0m \u001b[1m491s\u001b[0m 245ms/step - accuracy: 0.5792 - loss: 0.5602 - val_accuracy: 0.5572 - val_loss: 0.7159\n",
      "Epoch 6/10\n",
      "\u001b[1m2005/2005\u001b[0m \u001b[32m━━━━━━━━━━━━━━━━━━━━\u001b[0m\u001b[37m\u001b[0m \u001b[1m488s\u001b[0m 243ms/step - accuracy: 0.5803 - loss: 0.4952 - val_accuracy: 0.5567 - val_loss: 0.7079\n",
      "Epoch 7/10\n",
      "\u001b[1m2005/2005\u001b[0m \u001b[32m━━━━━━━━━━━━━━━━━━━━\u001b[0m\u001b[37m\u001b[0m \u001b[1m491s\u001b[0m 245ms/step - accuracy: 0.5826 - loss: 0.4461 - val_accuracy: 0.5481 - val_loss: 0.7092\n",
      "Epoch 8/10\n",
      "\u001b[1m2005/2005\u001b[0m \u001b[32m━━━━━━━━━━━━━━━━━━━━\u001b[0m\u001b[37m\u001b[0m \u001b[1m486s\u001b[0m 243ms/step - accuracy: 0.5813 - loss: 0.4067 - val_accuracy: 0.5431 - val_loss: 0.7120\n",
      "Epoch 9/10\n",
      "\u001b[1m2005/2005\u001b[0m \u001b[32m━━━━━━━━━━━━━━━━━━━━\u001b[0m\u001b[37m\u001b[0m \u001b[1m494s\u001b[0m 246ms/step - accuracy: 0.5864 - loss: 0.3735 - val_accuracy: 0.5335 - val_loss: 0.7148\n",
      "Epoch 10/10\n",
      "\u001b[1m2005/2005\u001b[0m \u001b[32m━━━━━━━━━━━━━━━━━━━━\u001b[0m\u001b[37m\u001b[0m \u001b[1m488s\u001b[0m 243ms/step - accuracy: 0.5948 - loss: 0.3450 - val_accuracy: 0.5399 - val_loss: 0.7213\n"
     ]
    }
   ],
   "source": [
    "print(f'model training: {model2.name}')\n",
    "history_2 = model2.fit(train_dataset, validation_data=test_dataset, batch_size=256, epochs=10)"
   ]
  },
  {
   "cell_type": "code",
   "execution_count": 38,
   "id": "49720884-f6bf-4252-bf33-b86b05c94382",
   "metadata": {},
   "outputs": [
    {
     "name": "stdout",
     "output_type": "stream",
     "text": [
      "------------------------------\n",
      "Веса модели 13_11_LSTM_attention_Seq2Seq сохранены\n"
     ]
    }
   ],
   "source": [
    "print('-'*30)\n",
    "model2.save_weights(f'13_11_LSTM_attention_{model2.name}.weights.h5')\n",
    "print(f'Веса модели 13_11_LSTM_attention_{model2.name} сохранены')"
   ]
  },
  {
   "cell_type": "code",
   "execution_count": 155,
   "id": "8ebacc57-ec6c-4167-9f79-2f52b3edd3e4",
   "metadata": {},
   "outputs": [
    {
     "name": "stdout",
     "output_type": "stream",
     "text": [
      "Веса модели 13_11_LSTM_attention_Seq2Seq загружены\n"
     ]
    }
   ],
   "source": [
    "model2.load_weights(f'13_11_LSTM_attention_{model2.name}.weights.h5')\n",
    "print(f'Веса модели 13_11_LSTM_attention_{model2.name} загружены')"
   ]
  },
  {
   "cell_type": "code",
   "execution_count": 156,
   "id": "be90dbd9-0270-4560-904a-0447917f6ae9",
   "metadata": {},
   "outputs": [],
   "source": [
    "texts = ['Я люблю пиво', 'Я хочу в отпуск', 'Суббота лучший день для учёбы', 'Котик уснул на кровати']\n",
    "translates_texts = []\n",
    "for text in texts:\n",
    "    translates_texts.append(translate2(text, tokenizer, model2, 16, type_cell='LSTM', name_model='Seq2Seq', flg_attention=True))"
   ]
  },
  {
   "cell_type": "code",
   "execution_count": 157,
   "id": "87329616-992a-4d75-b5ef-55959b1f36c0",
   "metadata": {},
   "outputs": [
    {
     "data": {
      "text/plain": [
       "['I like beer a beer.',\n",
       " 'I want to go to a vacation.',\n",
       " 'Saturday is the best day for the study of life.',\n",
       " 'The cat fell asleep on the bed.']"
      ]
     },
     "execution_count": 157,
     "metadata": {},
     "output_type": "execute_result"
    }
   ],
   "source": [
    "translates_texts"
   ]
  },
  {
   "cell_type": "markdown",
   "id": "f972af33-4736-40e2-aca4-35354f5a1484",
   "metadata": {},
   "source": [
    "---"
   ]
  },
  {
   "cell_type": "code",
   "execution_count": 171,
   "id": "6915f5f6-300c-4041-b1a9-c8d47bfa1fe8",
   "metadata": {},
   "outputs": [
    {
     "data": {
      "text/html": [
       "<pre style=\"white-space:pre;overflow-x:auto;line-height:normal;font-family:Menlo,'DejaVu Sans Mono',consolas,'Courier New',monospace\"><span style=\"font-weight: bold\">Model: \"Seq2Seq_attention_GRUCell\"</span>\n",
       "</pre>\n"
      ],
      "text/plain": [
       "\u001b[1mModel: \"Seq2Seq_attention_GRUCell\"\u001b[0m\n"
      ]
     },
     "metadata": {},
     "output_type": "display_data"
    },
    {
     "data": {
      "text/html": [
       "<pre style=\"white-space:pre;overflow-x:auto;line-height:normal;font-family:Menlo,'DejaVu Sans Mono',consolas,'Courier New',monospace\">┏━━━━━━━━━━━━━━━━━━━━━┳━━━━━━━━━━━━━━━━━━━┳━━━━━━━━━━━━┳━━━━━━━━━━━━━━━━━━━┓\n",
       "┃<span style=\"font-weight: bold\"> Layer (type)        </span>┃<span style=\"font-weight: bold\"> Output Shape      </span>┃<span style=\"font-weight: bold\">    Param # </span>┃<span style=\"font-weight: bold\"> Connected to      </span>┃\n",
       "┡━━━━━━━━━━━━━━━━━━━━━╇━━━━━━━━━━━━━━━━━━━╇━━━━━━━━━━━━╇━━━━━━━━━━━━━━━━━━━┩\n",
       "│ Seq2Seq_attention_… │ (<span style=\"color: #00d7ff; text-decoration-color: #00d7ff\">None</span>, <span style=\"color: #00d7ff; text-decoration-color: #00d7ff\">None</span>)      │          <span style=\"color: #00af00; text-decoration-color: #00af00\">0</span> │ -                 │\n",
       "│ (<span style=\"color: #0087ff; text-decoration-color: #0087ff\">InputLayer</span>)        │                   │            │                   │\n",
       "├─────────────────────┼───────────────────┼────────────┼───────────────────┤\n",
       "│ Seq2Seq_attention_… │ (<span style=\"color: #00d7ff; text-decoration-color: #00d7ff\">None</span>, <span style=\"color: #00d7ff; text-decoration-color: #00d7ff\">None</span>, <span style=\"color: #00af00; text-decoration-color: #00af00\">128</span>) │  <span style=\"color: #00af00; text-decoration-color: #00af00\">6,432,896</span> │ Seq2Seq_attentio… │\n",
       "│ (<span style=\"color: #0087ff; text-decoration-color: #0087ff\">Embedding</span>)         │                   │            │                   │\n",
       "├─────────────────────┼───────────────────┼────────────┼───────────────────┤\n",
       "│ Seq2Seq_attention_… │ (<span style=\"color: #00d7ff; text-decoration-color: #00d7ff\">None</span>, <span style=\"color: #00d7ff; text-decoration-color: #00d7ff\">None</span>)      │          <span style=\"color: #00af00; text-decoration-color: #00af00\">0</span> │ -                 │\n",
       "│ (<span style=\"color: #0087ff; text-decoration-color: #0087ff\">InputLayer</span>)        │                   │            │                   │\n",
       "├─────────────────────┼───────────────────┼────────────┼───────────────────┤\n",
       "│ Seq2Seq_attention_… │ [(<span style=\"color: #00d7ff; text-decoration-color: #00d7ff\">None</span>, <span style=\"color: #00d7ff; text-decoration-color: #00d7ff\">None</span>,     │    <span style=\"color: #00af00; text-decoration-color: #00af00\">396,288</span> │ Seq2Seq_attentio… │\n",
       "│ (<span style=\"color: #0087ff; text-decoration-color: #0087ff\">Bidirectional</span>)     │ <span style=\"color: #00af00; text-decoration-color: #00af00\">256</span>), (<span style=\"color: #00d7ff; text-decoration-color: #00d7ff\">None</span>,      │            │                   │\n",
       "│                     │ <span style=\"color: #00af00; text-decoration-color: #00af00\">128</span>), (<span style=\"color: #00d7ff; text-decoration-color: #00d7ff\">None</span>,      │            │                   │\n",
       "│                     │ <span style=\"color: #00af00; text-decoration-color: #00af00\">128</span>), (<span style=\"color: #00d7ff; text-decoration-color: #00d7ff\">None</span>,      │            │                   │\n",
       "│                     │ <span style=\"color: #00af00; text-decoration-color: #00af00\">128</span>), (<span style=\"color: #00d7ff; text-decoration-color: #00d7ff\">None</span>,      │            │                   │\n",
       "│                     │ <span style=\"color: #00af00; text-decoration-color: #00af00\">128</span>)]             │            │                   │\n",
       "├─────────────────────┼───────────────────┼────────────┼───────────────────┤\n",
       "│ Seq2Seq_attention_… │ (<span style=\"color: #00d7ff; text-decoration-color: #00d7ff\">None</span>, <span style=\"color: #00d7ff; text-decoration-color: #00d7ff\">None</span>, <span style=\"color: #00af00; text-decoration-color: #00af00\">128</span>) │  <span style=\"color: #00af00; text-decoration-color: #00af00\">6,432,896</span> │ Seq2Seq_attentio… │\n",
       "│ (<span style=\"color: #0087ff; text-decoration-color: #0087ff\">Embedding</span>)         │                   │            │                   │\n",
       "├─────────────────────┼───────────────────┼────────────┼───────────────────┤\n",
       "│ concatenate_64      │ (<span style=\"color: #00d7ff; text-decoration-color: #00d7ff\">None</span>, <span style=\"color: #00af00; text-decoration-color: #00af00\">256</span>)       │          <span style=\"color: #00af00; text-decoration-color: #00af00\">0</span> │ Seq2Seq_attentio… │\n",
       "│ (<span style=\"color: #0087ff; text-decoration-color: #0087ff\">Concatenate</span>)       │                   │            │ Seq2Seq_attentio… │\n",
       "├─────────────────────┼───────────────────┼────────────┼───────────────────┤\n",
       "│ concatenate_65      │ (<span style=\"color: #00d7ff; text-decoration-color: #00d7ff\">None</span>, <span style=\"color: #00af00; text-decoration-color: #00af00\">256</span>)       │          <span style=\"color: #00af00; text-decoration-color: #00af00\">0</span> │ Seq2Seq_attentio… │\n",
       "│ (<span style=\"color: #0087ff; text-decoration-color: #0087ff\">Concatenate</span>)       │                   │            │ Seq2Seq_attentio… │\n",
       "├─────────────────────┼───────────────────┼────────────┼───────────────────┤\n",
       "│ Seq2Seq_attention_… │ (<span style=\"color: #00d7ff; text-decoration-color: #00d7ff\">None</span>, <span style=\"color: #00d7ff; text-decoration-color: #00d7ff\">None</span>, <span style=\"color: #00af00; text-decoration-color: #00af00\">256</span>) │    <span style=\"color: #00af00; text-decoration-color: #00af00\">691,200</span> │ Seq2Seq_attentio… │\n",
       "│ (<span style=\"color: #0087ff; text-decoration-color: #0087ff\">RNN</span>)               │                   │            │ concatenate_64[<span style=\"color: #00af00; text-decoration-color: #00af00\">0</span>… │\n",
       "│                     │                   │            │ concatenate_65[<span style=\"color: #00af00; text-decoration-color: #00af00\">0</span>… │\n",
       "├─────────────────────┼───────────────────┼────────────┼───────────────────┤\n",
       "│ Seq2Seq_attention_… │ (<span style=\"color: #00d7ff; text-decoration-color: #00d7ff\">None</span>, <span style=\"color: #00d7ff; text-decoration-color: #00d7ff\">None</span>, <span style=\"color: #00af00; text-decoration-color: #00af00\">256</span>) │        <span style=\"color: #00af00; text-decoration-color: #00af00\">256</span> │ Seq2Seq_attentio… │\n",
       "│ (<span style=\"color: #0087ff; text-decoration-color: #0087ff\">AdditiveAttention</span>) │                   │            │ Seq2Seq_attentio… │\n",
       "├─────────────────────┼───────────────────┼────────────┼───────────────────┤\n",
       "│ Seq2Seq_attention_… │ (<span style=\"color: #00d7ff; text-decoration-color: #00d7ff\">None</span>, <span style=\"color: #00d7ff; text-decoration-color: #00d7ff\">None</span>, <span style=\"color: #00af00; text-decoration-color: #00af00\">512</span>) │          <span style=\"color: #00af00; text-decoration-color: #00af00\">0</span> │ Seq2Seq_attentio… │\n",
       "│ (<span style=\"color: #0087ff; text-decoration-color: #0087ff\">Concatenate</span>)       │                   │            │ Seq2Seq_attentio… │\n",
       "├─────────────────────┼───────────────────┼────────────┼───────────────────┤\n",
       "│ Seq2Seq_attention_… │ (<span style=\"color: #00d7ff; text-decoration-color: #00d7ff\">None</span>, <span style=\"color: #00d7ff; text-decoration-color: #00d7ff\">None</span>,      │ <span style=\"color: #00af00; text-decoration-color: #00af00\">25,781,841</span> │ Seq2Seq_attentio… │\n",
       "│ (<span style=\"color: #0087ff; text-decoration-color: #0087ff\">Dense</span>)             │ <span style=\"color: #00af00; text-decoration-color: #00af00\">50257</span>)            │            │                   │\n",
       "└─────────────────────┴───────────────────┴────────────┴───────────────────┘\n",
       "</pre>\n"
      ],
      "text/plain": [
       "┏━━━━━━━━━━━━━━━━━━━━━┳━━━━━━━━━━━━━━━━━━━┳━━━━━━━━━━━━┳━━━━━━━━━━━━━━━━━━━┓\n",
       "┃\u001b[1m \u001b[0m\u001b[1mLayer (type)       \u001b[0m\u001b[1m \u001b[0m┃\u001b[1m \u001b[0m\u001b[1mOutput Shape     \u001b[0m\u001b[1m \u001b[0m┃\u001b[1m \u001b[0m\u001b[1m   Param #\u001b[0m\u001b[1m \u001b[0m┃\u001b[1m \u001b[0m\u001b[1mConnected to     \u001b[0m\u001b[1m \u001b[0m┃\n",
       "┡━━━━━━━━━━━━━━━━━━━━━╇━━━━━━━━━━━━━━━━━━━╇━━━━━━━━━━━━╇━━━━━━━━━━━━━━━━━━━┩\n",
       "│ Seq2Seq_attention_… │ (\u001b[38;5;45mNone\u001b[0m, \u001b[38;5;45mNone\u001b[0m)      │          \u001b[38;5;34m0\u001b[0m │ -                 │\n",
       "│ (\u001b[38;5;33mInputLayer\u001b[0m)        │                   │            │                   │\n",
       "├─────────────────────┼───────────────────┼────────────┼───────────────────┤\n",
       "│ Seq2Seq_attention_… │ (\u001b[38;5;45mNone\u001b[0m, \u001b[38;5;45mNone\u001b[0m, \u001b[38;5;34m128\u001b[0m) │  \u001b[38;5;34m6,432,896\u001b[0m │ Seq2Seq_attentio… │\n",
       "│ (\u001b[38;5;33mEmbedding\u001b[0m)         │                   │            │                   │\n",
       "├─────────────────────┼───────────────────┼────────────┼───────────────────┤\n",
       "│ Seq2Seq_attention_… │ (\u001b[38;5;45mNone\u001b[0m, \u001b[38;5;45mNone\u001b[0m)      │          \u001b[38;5;34m0\u001b[0m │ -                 │\n",
       "│ (\u001b[38;5;33mInputLayer\u001b[0m)        │                   │            │                   │\n",
       "├─────────────────────┼───────────────────┼────────────┼───────────────────┤\n",
       "│ Seq2Seq_attention_… │ [(\u001b[38;5;45mNone\u001b[0m, \u001b[38;5;45mNone\u001b[0m,     │    \u001b[38;5;34m396,288\u001b[0m │ Seq2Seq_attentio… │\n",
       "│ (\u001b[38;5;33mBidirectional\u001b[0m)     │ \u001b[38;5;34m256\u001b[0m), (\u001b[38;5;45mNone\u001b[0m,      │            │                   │\n",
       "│                     │ \u001b[38;5;34m128\u001b[0m), (\u001b[38;5;45mNone\u001b[0m,      │            │                   │\n",
       "│                     │ \u001b[38;5;34m128\u001b[0m), (\u001b[38;5;45mNone\u001b[0m,      │            │                   │\n",
       "│                     │ \u001b[38;5;34m128\u001b[0m), (\u001b[38;5;45mNone\u001b[0m,      │            │                   │\n",
       "│                     │ \u001b[38;5;34m128\u001b[0m)]             │            │                   │\n",
       "├─────────────────────┼───────────────────┼────────────┼───────────────────┤\n",
       "│ Seq2Seq_attention_… │ (\u001b[38;5;45mNone\u001b[0m, \u001b[38;5;45mNone\u001b[0m, \u001b[38;5;34m128\u001b[0m) │  \u001b[38;5;34m6,432,896\u001b[0m │ Seq2Seq_attentio… │\n",
       "│ (\u001b[38;5;33mEmbedding\u001b[0m)         │                   │            │                   │\n",
       "├─────────────────────┼───────────────────┼────────────┼───────────────────┤\n",
       "│ concatenate_64      │ (\u001b[38;5;45mNone\u001b[0m, \u001b[38;5;34m256\u001b[0m)       │          \u001b[38;5;34m0\u001b[0m │ Seq2Seq_attentio… │\n",
       "│ (\u001b[38;5;33mConcatenate\u001b[0m)       │                   │            │ Seq2Seq_attentio… │\n",
       "├─────────────────────┼───────────────────┼────────────┼───────────────────┤\n",
       "│ concatenate_65      │ (\u001b[38;5;45mNone\u001b[0m, \u001b[38;5;34m256\u001b[0m)       │          \u001b[38;5;34m0\u001b[0m │ Seq2Seq_attentio… │\n",
       "│ (\u001b[38;5;33mConcatenate\u001b[0m)       │                   │            │ Seq2Seq_attentio… │\n",
       "├─────────────────────┼───────────────────┼────────────┼───────────────────┤\n",
       "│ Seq2Seq_attention_… │ (\u001b[38;5;45mNone\u001b[0m, \u001b[38;5;45mNone\u001b[0m, \u001b[38;5;34m256\u001b[0m) │    \u001b[38;5;34m691,200\u001b[0m │ Seq2Seq_attentio… │\n",
       "│ (\u001b[38;5;33mRNN\u001b[0m)               │                   │            │ concatenate_64[\u001b[38;5;34m0\u001b[0m… │\n",
       "│                     │                   │            │ concatenate_65[\u001b[38;5;34m0\u001b[0m… │\n",
       "├─────────────────────┼───────────────────┼────────────┼───────────────────┤\n",
       "│ Seq2Seq_attention_… │ (\u001b[38;5;45mNone\u001b[0m, \u001b[38;5;45mNone\u001b[0m, \u001b[38;5;34m256\u001b[0m) │        \u001b[38;5;34m256\u001b[0m │ Seq2Seq_attentio… │\n",
       "│ (\u001b[38;5;33mAdditiveAttention\u001b[0m) │                   │            │ Seq2Seq_attentio… │\n",
       "├─────────────────────┼───────────────────┼────────────┼───────────────────┤\n",
       "│ Seq2Seq_attention_… │ (\u001b[38;5;45mNone\u001b[0m, \u001b[38;5;45mNone\u001b[0m, \u001b[38;5;34m512\u001b[0m) │          \u001b[38;5;34m0\u001b[0m │ Seq2Seq_attentio… │\n",
       "│ (\u001b[38;5;33mConcatenate\u001b[0m)       │                   │            │ Seq2Seq_attentio… │\n",
       "├─────────────────────┼───────────────────┼────────────┼───────────────────┤\n",
       "│ Seq2Seq_attention_… │ (\u001b[38;5;45mNone\u001b[0m, \u001b[38;5;45mNone\u001b[0m,      │ \u001b[38;5;34m25,781,841\u001b[0m │ Seq2Seq_attentio… │\n",
       "│ (\u001b[38;5;33mDense\u001b[0m)             │ \u001b[38;5;34m50257\u001b[0m)            │            │                   │\n",
       "└─────────────────────┴───────────────────┴────────────┴───────────────────┘\n"
      ]
     },
     "metadata": {},
     "output_type": "display_data"
    },
    {
     "data": {
      "text/html": [
       "<pre style=\"white-space:pre;overflow-x:auto;line-height:normal;font-family:Menlo,'DejaVu Sans Mono',consolas,'Courier New',monospace\"><span style=\"font-weight: bold\"> Total params: </span><span style=\"color: #00af00; text-decoration-color: #00af00\">39,735,377</span> (151.58 MB)\n",
       "</pre>\n"
      ],
      "text/plain": [
       "\u001b[1m Total params: \u001b[0m\u001b[38;5;34m39,735,377\u001b[0m (151.58 MB)\n"
      ]
     },
     "metadata": {},
     "output_type": "display_data"
    },
    {
     "data": {
      "text/html": [
       "<pre style=\"white-space:pre;overflow-x:auto;line-height:normal;font-family:Menlo,'DejaVu Sans Mono',consolas,'Courier New',monospace\"><span style=\"font-weight: bold\"> Trainable params: </span><span style=\"color: #00af00; text-decoration-color: #00af00\">39,735,377</span> (151.58 MB)\n",
       "</pre>\n"
      ],
      "text/plain": [
       "\u001b[1m Trainable params: \u001b[0m\u001b[38;5;34m39,735,377\u001b[0m (151.58 MB)\n"
      ]
     },
     "metadata": {},
     "output_type": "display_data"
    },
    {
     "data": {
      "text/html": [
       "<pre style=\"white-space:pre;overflow-x:auto;line-height:normal;font-family:Menlo,'DejaVu Sans Mono',consolas,'Courier New',monospace\"><span style=\"font-weight: bold\"> Non-trainable params: </span><span style=\"color: #00af00; text-decoration-color: #00af00\">0</span> (0.00 B)\n",
       "</pre>\n"
      ],
      "text/plain": [
       "\u001b[1m Non-trainable params: \u001b[0m\u001b[38;5;34m0\u001b[0m (0.00 B)\n"
      ]
     },
     "metadata": {},
     "output_type": "display_data"
    }
   ],
   "source": [
    "model3 = get_model(128,\n",
    "                   tokenizer.vocab_size,\n",
    "                   tokenizer.vocab_size,\n",
    "                   n_stacks=2,\n",
    "                   bidirectional=True,\n",
    "                   name='Seq2Seq_attention_GRUCell',\n",
    "                   cell_type=tf.keras.layers.GRUCell,\n",
    "                   attention_flg=True\n",
    ")\n",
    "\n",
    "model3.summary()"
   ]
  },
  {
   "cell_type": "code",
   "execution_count": 172,
   "id": "e9eef834-1596-4383-9169-c9b35e6075de",
   "metadata": {},
   "outputs": [],
   "source": [
    "model3.compile(\n",
    "    loss=tf.keras.losses.SparseCategoricalCrossentropy(from_logits=True),\n",
    "    optimizer=keras.optimizers.Adam(learning_rate=0.001),\n",
    "    metrics=['accuracy']\n",
    ")"
   ]
  },
  {
   "cell_type": "code",
   "execution_count": 41,
   "id": "0cb1ca9d-8ce5-44a5-ac16-75ae4126c93f",
   "metadata": {
    "scrolled": true
   },
   "outputs": [
    {
     "name": "stdout",
     "output_type": "stream",
     "text": [
      "model training: Seq2Seq_attention_GRUCell\n",
      "Epoch 1/10\n"
     ]
    },
    {
     "name": "stderr",
     "output_type": "stream",
     "text": [
      "W0000 00:00:1731391502.699465   54606 assert_op.cc:38] Ignoring Assert operator compile_loss/sparse_categorical_crossentropy/SparseSoftmaxCrossEntropyWithLogits/assert_equal_1/Assert/Assert\n",
      "I0000 00:00:1731391503.863547   85680 asm_compiler.cc:369] ptxas warning : Registers are spilled to local memory in function 'triton_gemm_dot_239', 4 bytes spill stores, 4 bytes spill loads\n",
      "\n",
      "I0000 00:00:1731391504.063365   85682 asm_compiler.cc:369] ptxas warning : Registers are spilled to local memory in function 'triton_gemm_dot_244', 112 bytes spill stores, 112 bytes spill loads\n",
      "\n",
      "I0000 00:00:1731391504.208980   85691 asm_compiler.cc:369] ptxas warning : Registers are spilled to local memory in function 'triton_gemm_dot_239', 112 bytes spill stores, 112 bytes spill loads\n",
      "\n",
      "I0000 00:00:1731391505.178583   85693 asm_compiler.cc:369] ptxas warning : Registers are spilled to local memory in function 'triton_gemm_dot_4', 784 bytes spill stores, 728 bytes spill loads\n",
      "\n",
      "I0000 00:00:1731391505.194674   85688 asm_compiler.cc:369] ptxas warning : Registers are spilled to local memory in function 'triton_gemm_dot_244', 4 bytes spill stores, 4 bytes spill loads\n",
      "\n",
      "I0000 00:00:1731391505.211776   85684 asm_compiler.cc:369] ptxas warning : Registers are spilled to local memory in function 'triton_gemm_dot_236', 116 bytes spill stores, 116 bytes spill loads\n",
      "\n",
      "I0000 00:00:1731391505.406927   85686 asm_compiler.cc:369] ptxas warning : Registers are spilled to local memory in function 'triton_gemm_dot_4', 212 bytes spill stores, 212 bytes spill loads\n",
      "\n",
      "I0000 00:00:1731391505.521111   85681 asm_compiler.cc:369] ptxas warning : Registers are spilled to local memory in function 'triton_gemm_dot_4', 44 bytes spill stores, 40 bytes spill loads\n",
      "\n"
     ]
    },
    {
     "name": "stdout",
     "output_type": "stream",
     "text": [
      "\u001b[1m2004/2005\u001b[0m \u001b[32m━━━━━━━━━━━━━━━━━━━\u001b[0m\u001b[37m━\u001b[0m \u001b[1m0s\u001b[0m 98ms/step - accuracy: 0.4778 - loss: 2.6610"
     ]
    },
    {
     "name": "stderr",
     "output_type": "stream",
     "text": [
      "W0000 00:00:1731391706.827175   54598 assert_op.cc:38] Ignoring Assert operator compile_loss/sparse_categorical_crossentropy/SparseSoftmaxCrossEntropyWithLogits/assert_equal_1/Assert/Assert\n",
      "I0000 00:00:1731391708.278776   86623 asm_compiler.cc:369] ptxas warning : Registers are spilled to local memory in function 'triton_gemm_dot_4', 212 bytes spill stores, 212 bytes spill loads\n",
      "\n",
      "I0000 00:00:1731391708.340689   86615 asm_compiler.cc:369] ptxas warning : Registers are spilled to local memory in function 'triton_gemm_dot_4', 216 bytes spill stores, 216 bytes spill loads\n",
      "\n",
      "I0000 00:00:1731391708.645449   86622 asm_compiler.cc:369] ptxas warning : Registers are spilled to local memory in function 'triton_gemm_dot_239', 116 bytes spill stores, 116 bytes spill loads\n",
      "\n",
      "I0000 00:00:1731391708.729829   86626 asm_compiler.cc:369] ptxas warning : Registers are spilled to local memory in function 'triton_gemm_dot_4', 260 bytes spill stores, 260 bytes spill loads\n",
      "\n",
      "I0000 00:00:1731391708.795133   86618 asm_compiler.cc:369] ptxas warning : Registers are spilled to local memory in function 'triton_gemm_dot_244', 116 bytes spill stores, 116 bytes spill loads\n",
      "\n",
      "I0000 00:00:1731391708.889756   86614 asm_compiler.cc:369] ptxas warning : Registers are spilled to local memory in function 'triton_gemm_dot_236', 116 bytes spill stores, 116 bytes spill loads\n",
      "\n",
      "I0000 00:00:1731391710.084523   86625 asm_compiler.cc:369] ptxas warning : Registers are spilled to local memory in function 'triton_gemm_dot_239', 8 bytes spill stores, 8 bytes spill loads\n",
      "\n"
     ]
    },
    {
     "name": "stdout",
     "output_type": "stream",
     "text": [
      "\u001b[1m2005/2005\u001b[0m \u001b[32m━━━━━━━━━━━━━━━━━━━━\u001b[0m\u001b[37m\u001b[0m \u001b[1m0s\u001b[0m 102ms/step - accuracy: 0.4778 - loss: 2.6608"
     ]
    },
    {
     "name": "stderr",
     "output_type": "stream",
     "text": [
      "W0000 00:00:1731391714.414298   54598 assert_op.cc:38] Ignoring Assert operator compile_loss/sparse_categorical_crossentropy/SparseSoftmaxCrossEntropyWithLogits/assert_equal_1/Assert/Assert\n",
      "W0000 00:00:1731391743.240585   54601 assert_op.cc:38] Ignoring Assert operator compile_loss/sparse_categorical_crossentropy/SparseSoftmaxCrossEntropyWithLogits/assert_equal_1/Assert/Assert\n"
     ]
    },
    {
     "name": "stdout",
     "output_type": "stream",
     "text": [
      "\u001b[1m2005/2005\u001b[0m \u001b[32m━━━━━━━━━━━━━━━━━━━━\u001b[0m\u001b[37m\u001b[0m \u001b[1m247s\u001b[0m 117ms/step - accuracy: 0.4777 - loss: 2.6605 - val_accuracy: 0.4193 - val_loss: 1.5458\n",
      "Epoch 2/10\n",
      "\u001b[1m2005/2005\u001b[0m \u001b[32m━━━━━━━━━━━━━━━━━━━━\u001b[0m\u001b[37m\u001b[0m \u001b[1m242s\u001b[0m 121ms/step - accuracy: 0.4718 - loss: 1.3590 - val_accuracy: 0.5486 - val_loss: 1.0384\n",
      "Epoch 3/10\n",
      "\u001b[1m2005/2005\u001b[0m \u001b[32m━━━━━━━━━━━━━━━━━━━━\u001b[0m\u001b[37m\u001b[0m \u001b[1m242s\u001b[0m 121ms/step - accuracy: 0.5512 - loss: 0.9376 - val_accuracy: 0.5798 - val_loss: 0.9001\n",
      "Epoch 4/10\n",
      "\u001b[1m2005/2005\u001b[0m \u001b[32m━━━━━━━━━━━━━━━━━━━━\u001b[0m\u001b[37m\u001b[0m \u001b[1m242s\u001b[0m 121ms/step - accuracy: 0.5625 - loss: 0.7752 - val_accuracy: 0.5652 - val_loss: 0.8428\n",
      "Epoch 5/10\n",
      "\u001b[1m2005/2005\u001b[0m \u001b[32m━━━━━━━━━━━━━━━━━━━━\u001b[0m\u001b[37m\u001b[0m \u001b[1m242s\u001b[0m 121ms/step - accuracy: 0.5636 - loss: 0.6823 - val_accuracy: 0.5664 - val_loss: 0.8150\n",
      "Epoch 6/10\n",
      "\u001b[1m2005/2005\u001b[0m \u001b[32m━━━━━━━━━━━━━━━━━━━━\u001b[0m\u001b[37m\u001b[0m \u001b[1m242s\u001b[0m 121ms/step - accuracy: 0.5787 - loss: 0.6195 - val_accuracy: 0.5366 - val_loss: 0.8023\n",
      "Epoch 7/10\n",
      "\u001b[1m2005/2005\u001b[0m \u001b[32m━━━━━━━━━━━━━━━━━━━━\u001b[0m\u001b[37m\u001b[0m \u001b[1m243s\u001b[0m 121ms/step - accuracy: 0.5907 - loss: 0.5737 - val_accuracy: 0.5431 - val_loss: 0.7956\n",
      "Epoch 8/10\n",
      "\u001b[1m2005/2005\u001b[0m \u001b[32m━━━━━━━━━━━━━━━━━━━━\u001b[0m\u001b[37m\u001b[0m \u001b[1m243s\u001b[0m 121ms/step - accuracy: 0.6063 - loss: 0.5378 - val_accuracy: 0.5863 - val_loss: 0.7910\n",
      "Epoch 9/10\n",
      "\u001b[1m2005/2005\u001b[0m \u001b[32m━━━━━━━━━━━━━━━━━━━━\u001b[0m\u001b[37m\u001b[0m \u001b[1m243s\u001b[0m 121ms/step - accuracy: 0.6161 - loss: 0.5091 - val_accuracy: 0.5694 - val_loss: 0.7933\n",
      "Epoch 10/10\n",
      "\u001b[1m2005/2005\u001b[0m \u001b[32m━━━━━━━━━━━━━━━━━━━━\u001b[0m\u001b[37m\u001b[0m \u001b[1m243s\u001b[0m 121ms/step - accuracy: 0.6062 - loss: 0.4851 - val_accuracy: 0.5907 - val_loss: 0.7979\n"
     ]
    }
   ],
   "source": [
    "print(f'model training: {model3.name}')\n",
    "history_3 = model3.fit(train_dataset, validation_data=test_dataset, batch_size=128, epochs=10)"
   ]
  },
  {
   "cell_type": "code",
   "execution_count": 47,
   "id": "40229f75-00d1-4e7d-a226-1ebbbf865d71",
   "metadata": {},
   "outputs": [
    {
     "name": "stdout",
     "output_type": "stream",
     "text": [
      "------------------------------\n",
      "Веса модели 13_11_Seq2Seq_attention_GRUCell сохранены\n"
     ]
    }
   ],
   "source": [
    "print('-'*30)\n",
    "model3.save_weights(f'13_11_{model3.name}.weights.h5')\n",
    "print(f'Веса модели 13_11_{model3.name} сохранены')"
   ]
  },
  {
   "cell_type": "code",
   "execution_count": 173,
   "id": "9718dffe-9771-4ebd-b9a7-141fb17540d3",
   "metadata": {},
   "outputs": [
    {
     "name": "stdout",
     "output_type": "stream",
     "text": [
      "Веса модели 13_11_Seq2Seq_attention_GRUCell загружены\n"
     ]
    }
   ],
   "source": [
    "model3.load_weights(f'13_11_{model3.name}.weights.h5')\n",
    "print(f'Веса модели 13_11_{model3.name} загружены')"
   ]
  },
  {
   "cell_type": "code",
   "execution_count": 174,
   "id": "fd2d5b39-44df-4c40-9edd-9d60ee75a4a7",
   "metadata": {
    "scrolled": true
   },
   "outputs": [],
   "source": [
    "texts = ['Я люблю пиво', 'Я хочу в отпуск', 'Суббота лучший день для учёбы', 'Котик уснул на кровати']\n",
    "translates_texts = []\n",
    "for text in texts:\n",
    "    translates_texts.append(translate2(text, tokenizer, model3, 16, type_cell='GRU', name_model='Seq2Seq_attention_GRUCell', flg_attention=True))"
   ]
  },
  {
   "cell_type": "code",
   "execution_count": 175,
   "id": "e2c5d3a2-e258-4f8c-bd9c-0d4d28793a08",
   "metadata": {
    "scrolled": true
   },
   "outputs": [
    {
     "data": {
      "text/plain": [
       "['I like beer.',\n",
       " 'I want to go to the supermarket.',\n",
       " 'Saturday is for the day learning.',\n",
       " 'The cat fell asleep on the bed.']"
      ]
     },
     "execution_count": 175,
     "metadata": {},
     "output_type": "execute_result"
    }
   ],
   "source": [
    "translates_texts"
   ]
  },
  {
   "cell_type": "markdown",
   "id": "b9c438d9-479c-4a21-bc1d-abaff6eab75b",
   "metadata": {},
   "source": [
    "---"
   ]
  }
 ],
 "metadata": {
  "kernelspec": {
   "display_name": "tf",
   "language": "python",
   "name": "myenv"
  },
  "language_info": {
   "codemirror_mode": {
    "name": "ipython",
    "version": 3
   },
   "file_extension": ".py",
   "mimetype": "text/x-python",
   "name": "python",
   "nbconvert_exporter": "python",
   "pygments_lexer": "ipython3",
   "version": "3.10.14"
  }
 },
 "nbformat": 4,
 "nbformat_minor": 5
}
